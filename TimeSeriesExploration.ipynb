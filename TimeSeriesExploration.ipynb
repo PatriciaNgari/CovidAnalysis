{
 "metadata": {
  "language_info": {
   "codemirror_mode": {
    "name": "ipython",
    "version": 3
   },
   "file_extension": ".py",
   "mimetype": "text/x-python",
   "name": "python",
   "nbconvert_exporter": "python",
   "pygments_lexer": "ipython3",
   "version": "3.9.5"
  },
  "orig_nbformat": 2,
  "kernelspec": {
   "name": "python395jvsc74a57bd0aee8b7b246df8f9039afb4144a1f6fd8d2ca17a180786b69acc140d282b71a49",
   "display_name": "Python 3.9.5 64-bit"
  },
  "metadata": {
   "interpreter": {
    "hash": "aee8b7b246df8f9039afb4144a1f6fd8d2ca17a180786b69acc140d282b71a49"
   }
  }
 },
 "nbformat": 4,
 "nbformat_minor": 2,
 "cells": [
  {
   "cell_type": "code",
   "execution_count": 68,
   "metadata": {},
   "outputs": [],
   "source": [
    "import yfinance as yf\n",
    "import pandas as pd\n",
    "import requests\n",
    "from bs4 import BeautifulSoup"
   ]
  },
  {
   "cell_type": "code",
   "execution_count": 84,
   "metadata": {},
   "outputs": [
    {
     "output_type": "execute_result",
     "data": {
      "text/plain": [
       "  Province/State Country/Region       Lat       Long  1/22/20  1/23/20  \\\n",
       "0            NaN    Afghanistan  33.93911  67.709953        0        0   \n",
       "1            NaN        Albania  41.15330  20.168300        0        0   \n",
       "2            NaN        Algeria  28.03390   1.659600        0        0   \n",
       "3            NaN        Andorra  42.50630   1.521800        0        0   \n",
       "4            NaN         Angola -11.20270  17.873900        0        0   \n",
       "\n",
       "   1/24/20  1/25/20  1/26/20  1/27/20  ...  5/13/21  5/14/21  5/15/21  \\\n",
       "0        0        0        0        0  ...     2721     2730     2733   \n",
       "1        0        0        0        0  ...     2426     2427     2429   \n",
       "2        0        0        0        0  ...     3355     3360     3366   \n",
       "3        0        0        0        0  ...      127      127      127   \n",
       "4        0        0        0        0  ...      649      651      655   \n",
       "\n",
       "   5/16/21  5/17/21  5/18/21  5/19/21  5/20/21  5/21/21  5/22/21  \n",
       "0     2742     2745     2751     2762     2772     2782     2792  \n",
       "1     2432     2435     2436     2438     2440     2441     2442  \n",
       "2     3374     3381     3388     3395     3401     3405     3411  \n",
       "3      127      127      127      127      127      127      127  \n",
       "4      659      677      685      696      704      709      715  \n",
       "\n",
       "[5 rows x 491 columns]"
      ],
      "text/html": "<div>\n<style scoped>\n    .dataframe tbody tr th:only-of-type {\n        vertical-align: middle;\n    }\n\n    .dataframe tbody tr th {\n        vertical-align: top;\n    }\n\n    .dataframe thead th {\n        text-align: right;\n    }\n</style>\n<table border=\"1\" class=\"dataframe\">\n  <thead>\n    <tr style=\"text-align: right;\">\n      <th></th>\n      <th>Province/State</th>\n      <th>Country/Region</th>\n      <th>Lat</th>\n      <th>Long</th>\n      <th>1/22/20</th>\n      <th>1/23/20</th>\n      <th>1/24/20</th>\n      <th>1/25/20</th>\n      <th>1/26/20</th>\n      <th>1/27/20</th>\n      <th>...</th>\n      <th>5/13/21</th>\n      <th>5/14/21</th>\n      <th>5/15/21</th>\n      <th>5/16/21</th>\n      <th>5/17/21</th>\n      <th>5/18/21</th>\n      <th>5/19/21</th>\n      <th>5/20/21</th>\n      <th>5/21/21</th>\n      <th>5/22/21</th>\n    </tr>\n  </thead>\n  <tbody>\n    <tr>\n      <th>0</th>\n      <td>NaN</td>\n      <td>Afghanistan</td>\n      <td>33.93911</td>\n      <td>67.709953</td>\n      <td>0</td>\n      <td>0</td>\n      <td>0</td>\n      <td>0</td>\n      <td>0</td>\n      <td>0</td>\n      <td>...</td>\n      <td>2721</td>\n      <td>2730</td>\n      <td>2733</td>\n      <td>2742</td>\n      <td>2745</td>\n      <td>2751</td>\n      <td>2762</td>\n      <td>2772</td>\n      <td>2782</td>\n      <td>2792</td>\n    </tr>\n    <tr>\n      <th>1</th>\n      <td>NaN</td>\n      <td>Albania</td>\n      <td>41.15330</td>\n      <td>20.168300</td>\n      <td>0</td>\n      <td>0</td>\n      <td>0</td>\n      <td>0</td>\n      <td>0</td>\n      <td>0</td>\n      <td>...</td>\n      <td>2426</td>\n      <td>2427</td>\n      <td>2429</td>\n      <td>2432</td>\n      <td>2435</td>\n      <td>2436</td>\n      <td>2438</td>\n      <td>2440</td>\n      <td>2441</td>\n      <td>2442</td>\n    </tr>\n    <tr>\n      <th>2</th>\n      <td>NaN</td>\n      <td>Algeria</td>\n      <td>28.03390</td>\n      <td>1.659600</td>\n      <td>0</td>\n      <td>0</td>\n      <td>0</td>\n      <td>0</td>\n      <td>0</td>\n      <td>0</td>\n      <td>...</td>\n      <td>3355</td>\n      <td>3360</td>\n      <td>3366</td>\n      <td>3374</td>\n      <td>3381</td>\n      <td>3388</td>\n      <td>3395</td>\n      <td>3401</td>\n      <td>3405</td>\n      <td>3411</td>\n    </tr>\n    <tr>\n      <th>3</th>\n      <td>NaN</td>\n      <td>Andorra</td>\n      <td>42.50630</td>\n      <td>1.521800</td>\n      <td>0</td>\n      <td>0</td>\n      <td>0</td>\n      <td>0</td>\n      <td>0</td>\n      <td>0</td>\n      <td>...</td>\n      <td>127</td>\n      <td>127</td>\n      <td>127</td>\n      <td>127</td>\n      <td>127</td>\n      <td>127</td>\n      <td>127</td>\n      <td>127</td>\n      <td>127</td>\n      <td>127</td>\n    </tr>\n    <tr>\n      <th>4</th>\n      <td>NaN</td>\n      <td>Angola</td>\n      <td>-11.20270</td>\n      <td>17.873900</td>\n      <td>0</td>\n      <td>0</td>\n      <td>0</td>\n      <td>0</td>\n      <td>0</td>\n      <td>0</td>\n      <td>...</td>\n      <td>649</td>\n      <td>651</td>\n      <td>655</td>\n      <td>659</td>\n      <td>677</td>\n      <td>685</td>\n      <td>696</td>\n      <td>704</td>\n      <td>709</td>\n      <td>715</td>\n    </tr>\n  </tbody>\n</table>\n<p>5 rows × 491 columns</p>\n</div>"
     },
     "metadata": {},
     "execution_count": 84
    }
   ],
   "source": [
    "# URL for .csv with avg monthly precip data\n",
    "url_deaths = \"https://raw.githubusercontent.com/CSSEGISandData/COVID-19/master/csse_covid_19_data/csse_covid_19_time_series/time_series_covid19_deaths_global.csv\"\n",
    "\n",
    "# Download file from URL\n",
    "df = pd.read_csv(url_deaths, index_col=0).reset_index()\n",
    "df.head(5)"
   ]
  },
  {
   "cell_type": "code",
   "execution_count": 85,
   "metadata": {},
   "outputs": [
    {
     "output_type": "execute_result",
     "data": {
      "text/plain": [
       "              Lat        Long     1/22/20     1/23/20     1/24/20     1/25/20  \\\n",
       "count  273.000000  273.000000  275.000000  275.000000  275.000000  275.000000   \n",
       "mean    20.534804   23.028143    0.061818    0.065455    0.094545    0.152727   \n",
       "std     25.194592   73.596166    1.025139    1.026691    1.449316    2.413152   \n",
       "min    -51.796300 -178.116500    0.000000    0.000000    0.000000    0.000000   \n",
       "25%      5.152149  -19.020800    0.000000    0.000000    0.000000    0.000000   \n",
       "50%     21.694000   20.939400    0.000000    0.000000    0.000000    0.000000   \n",
       "75%     41.112900   84.250000    0.000000    0.000000    0.000000    0.000000   \n",
       "max     71.706900  178.065000   17.000000   17.000000   24.000000   40.000000   \n",
       "\n",
       "          1/26/20     1/27/20     1/28/20     1/29/20  ...        5/13/21  \\\n",
       "count  275.000000  275.000000  275.000000  275.000000  ...     275.000000   \n",
       "mean     0.203636    0.298182    0.476364    0.483636  ...   12162.112727   \n",
       "std      3.137131    4.583989    7.537884    7.538387  ...   51184.320198   \n",
       "min      0.000000    0.000000    0.000000    0.000000  ...       0.000000   \n",
       "25%      0.000000    0.000000    0.000000    0.000000  ...       8.500000   \n",
       "50%      0.000000    0.000000    0.000000    0.000000  ...     236.000000   \n",
       "75%      0.000000    0.000000    0.000000    0.000000  ...    3396.000000   \n",
       "max     52.000000   76.000000  125.000000  125.000000  ...  584674.000000   \n",
       "\n",
       "             5/14/21        5/15/21        5/16/21        5/17/21  \\\n",
       "count     275.000000     275.000000     275.000000     275.000000   \n",
       "mean    12209.854545   12252.214545   12288.905455   12327.596364   \n",
       "std     51369.076073   51541.364312   51672.439860   51806.886826   \n",
       "min         0.000000       0.000000       0.000000       0.000000   \n",
       "25%         8.500000       8.500000       9.000000       9.000000   \n",
       "50%       236.000000     236.000000     236.000000     236.000000   \n",
       "75%      3396.500000    3421.000000    3443.500000    3479.000000   \n",
       "max    585332.000000  585808.000000  586070.000000  586459.000000   \n",
       "\n",
       "             5/18/21        5/19/21        5/20/21        5/21/21  \\\n",
       "count     275.000000     275.000000     275.000000     275.000000   \n",
       "mean    12379.410909   12427.934545   12473.912727   12519.538182   \n",
       "std     52019.974113   52218.215241   52415.166796   52608.231979   \n",
       "min         0.000000       0.000000       0.000000       0.000000   \n",
       "25%         9.000000       9.000000       9.000000       9.000000   \n",
       "50%       245.000000     245.000000     245.000000     245.000000   \n",
       "75%      3507.500000    3522.500000    3524.000000    3527.500000   \n",
       "max    587219.000000  587874.000000  588539.000000  589223.000000   \n",
       "\n",
       "             5/22/21  \n",
       "count     275.000000  \n",
       "mean    12560.000000  \n",
       "std     52776.185594  \n",
       "min         0.000000  \n",
       "25%         9.000000  \n",
       "50%       248.000000  \n",
       "75%      3532.500000  \n",
       "max    589703.000000  \n",
       "\n",
       "[8 rows x 489 columns]"
      ],
      "text/html": "<div>\n<style scoped>\n    .dataframe tbody tr th:only-of-type {\n        vertical-align: middle;\n    }\n\n    .dataframe tbody tr th {\n        vertical-align: top;\n    }\n\n    .dataframe thead th {\n        text-align: right;\n    }\n</style>\n<table border=\"1\" class=\"dataframe\">\n  <thead>\n    <tr style=\"text-align: right;\">\n      <th></th>\n      <th>Lat</th>\n      <th>Long</th>\n      <th>1/22/20</th>\n      <th>1/23/20</th>\n      <th>1/24/20</th>\n      <th>1/25/20</th>\n      <th>1/26/20</th>\n      <th>1/27/20</th>\n      <th>1/28/20</th>\n      <th>1/29/20</th>\n      <th>...</th>\n      <th>5/13/21</th>\n      <th>5/14/21</th>\n      <th>5/15/21</th>\n      <th>5/16/21</th>\n      <th>5/17/21</th>\n      <th>5/18/21</th>\n      <th>5/19/21</th>\n      <th>5/20/21</th>\n      <th>5/21/21</th>\n      <th>5/22/21</th>\n    </tr>\n  </thead>\n  <tbody>\n    <tr>\n      <th>count</th>\n      <td>273.000000</td>\n      <td>273.000000</td>\n      <td>275.000000</td>\n      <td>275.000000</td>\n      <td>275.000000</td>\n      <td>275.000000</td>\n      <td>275.000000</td>\n      <td>275.000000</td>\n      <td>275.000000</td>\n      <td>275.000000</td>\n      <td>...</td>\n      <td>275.000000</td>\n      <td>275.000000</td>\n      <td>275.000000</td>\n      <td>275.000000</td>\n      <td>275.000000</td>\n      <td>275.000000</td>\n      <td>275.000000</td>\n      <td>275.000000</td>\n      <td>275.000000</td>\n      <td>275.000000</td>\n    </tr>\n    <tr>\n      <th>mean</th>\n      <td>20.534804</td>\n      <td>23.028143</td>\n      <td>0.061818</td>\n      <td>0.065455</td>\n      <td>0.094545</td>\n      <td>0.152727</td>\n      <td>0.203636</td>\n      <td>0.298182</td>\n      <td>0.476364</td>\n      <td>0.483636</td>\n      <td>...</td>\n      <td>12162.112727</td>\n      <td>12209.854545</td>\n      <td>12252.214545</td>\n      <td>12288.905455</td>\n      <td>12327.596364</td>\n      <td>12379.410909</td>\n      <td>12427.934545</td>\n      <td>12473.912727</td>\n      <td>12519.538182</td>\n      <td>12560.000000</td>\n    </tr>\n    <tr>\n      <th>std</th>\n      <td>25.194592</td>\n      <td>73.596166</td>\n      <td>1.025139</td>\n      <td>1.026691</td>\n      <td>1.449316</td>\n      <td>2.413152</td>\n      <td>3.137131</td>\n      <td>4.583989</td>\n      <td>7.537884</td>\n      <td>7.538387</td>\n      <td>...</td>\n      <td>51184.320198</td>\n      <td>51369.076073</td>\n      <td>51541.364312</td>\n      <td>51672.439860</td>\n      <td>51806.886826</td>\n      <td>52019.974113</td>\n      <td>52218.215241</td>\n      <td>52415.166796</td>\n      <td>52608.231979</td>\n      <td>52776.185594</td>\n    </tr>\n    <tr>\n      <th>min</th>\n      <td>-51.796300</td>\n      <td>-178.116500</td>\n      <td>0.000000</td>\n      <td>0.000000</td>\n      <td>0.000000</td>\n      <td>0.000000</td>\n      <td>0.000000</td>\n      <td>0.000000</td>\n      <td>0.000000</td>\n      <td>0.000000</td>\n      <td>...</td>\n      <td>0.000000</td>\n      <td>0.000000</td>\n      <td>0.000000</td>\n      <td>0.000000</td>\n      <td>0.000000</td>\n      <td>0.000000</td>\n      <td>0.000000</td>\n      <td>0.000000</td>\n      <td>0.000000</td>\n      <td>0.000000</td>\n    </tr>\n    <tr>\n      <th>25%</th>\n      <td>5.152149</td>\n      <td>-19.020800</td>\n      <td>0.000000</td>\n      <td>0.000000</td>\n      <td>0.000000</td>\n      <td>0.000000</td>\n      <td>0.000000</td>\n      <td>0.000000</td>\n      <td>0.000000</td>\n      <td>0.000000</td>\n      <td>...</td>\n      <td>8.500000</td>\n      <td>8.500000</td>\n      <td>8.500000</td>\n      <td>9.000000</td>\n      <td>9.000000</td>\n      <td>9.000000</td>\n      <td>9.000000</td>\n      <td>9.000000</td>\n      <td>9.000000</td>\n      <td>9.000000</td>\n    </tr>\n    <tr>\n      <th>50%</th>\n      <td>21.694000</td>\n      <td>20.939400</td>\n      <td>0.000000</td>\n      <td>0.000000</td>\n      <td>0.000000</td>\n      <td>0.000000</td>\n      <td>0.000000</td>\n      <td>0.000000</td>\n      <td>0.000000</td>\n      <td>0.000000</td>\n      <td>...</td>\n      <td>236.000000</td>\n      <td>236.000000</td>\n      <td>236.000000</td>\n      <td>236.000000</td>\n      <td>236.000000</td>\n      <td>245.000000</td>\n      <td>245.000000</td>\n      <td>245.000000</td>\n      <td>245.000000</td>\n      <td>248.000000</td>\n    </tr>\n    <tr>\n      <th>75%</th>\n      <td>41.112900</td>\n      <td>84.250000</td>\n      <td>0.000000</td>\n      <td>0.000000</td>\n      <td>0.000000</td>\n      <td>0.000000</td>\n      <td>0.000000</td>\n      <td>0.000000</td>\n      <td>0.000000</td>\n      <td>0.000000</td>\n      <td>...</td>\n      <td>3396.000000</td>\n      <td>3396.500000</td>\n      <td>3421.000000</td>\n      <td>3443.500000</td>\n      <td>3479.000000</td>\n      <td>3507.500000</td>\n      <td>3522.500000</td>\n      <td>3524.000000</td>\n      <td>3527.500000</td>\n      <td>3532.500000</td>\n    </tr>\n    <tr>\n      <th>max</th>\n      <td>71.706900</td>\n      <td>178.065000</td>\n      <td>17.000000</td>\n      <td>17.000000</td>\n      <td>24.000000</td>\n      <td>40.000000</td>\n      <td>52.000000</td>\n      <td>76.000000</td>\n      <td>125.000000</td>\n      <td>125.000000</td>\n      <td>...</td>\n      <td>584674.000000</td>\n      <td>585332.000000</td>\n      <td>585808.000000</td>\n      <td>586070.000000</td>\n      <td>586459.000000</td>\n      <td>587219.000000</td>\n      <td>587874.000000</td>\n      <td>588539.000000</td>\n      <td>589223.000000</td>\n      <td>589703.000000</td>\n    </tr>\n  </tbody>\n</table>\n<p>8 rows × 489 columns</p>\n</div>"
     },
     "metadata": {},
     "execution_count": 85
    }
   ],
   "source": [
    "df.describe()"
   ]
  },
  {
   "cell_type": "code",
   "execution_count": 86,
   "metadata": {},
   "outputs": [
    {
     "output_type": "execute_result",
     "data": {
      "text/plain": [
       "  Country/Region  1/22/20  1/23/20  1/24/20  1/25/20  1/26/20  1/27/20  \\\n",
       "0    Afghanistan        0        0        0        0        0        0   \n",
       "1        Albania        0        0        0        0        0        0   \n",
       "2        Algeria        0        0        0        0        0        0   \n",
       "3        Andorra        0        0        0        0        0        0   \n",
       "4         Angola        0        0        0        0        0        0   \n",
       "\n",
       "   1/28/20  1/29/20  1/30/20  ...  5/13/21  5/14/21  5/15/21  5/16/21  \\\n",
       "0        0        0        0  ...     2721     2730     2733     2742   \n",
       "1        0        0        0  ...     2426     2427     2429     2432   \n",
       "2        0        0        0  ...     3355     3360     3366     3374   \n",
       "3        0        0        0  ...      127      127      127      127   \n",
       "4        0        0        0  ...      649      651      655      659   \n",
       "\n",
       "   5/17/21  5/18/21  5/19/21  5/20/21  5/21/21  5/22/21  \n",
       "0     2745     2751     2762     2772     2782     2792  \n",
       "1     2435     2436     2438     2440     2441     2442  \n",
       "2     3381     3388     3395     3401     3405     3411  \n",
       "3      127      127      127      127      127      127  \n",
       "4      677      685      696      704      709      715  \n",
       "\n",
       "[5 rows x 488 columns]"
      ],
      "text/html": "<div>\n<style scoped>\n    .dataframe tbody tr th:only-of-type {\n        vertical-align: middle;\n    }\n\n    .dataframe tbody tr th {\n        vertical-align: top;\n    }\n\n    .dataframe thead th {\n        text-align: right;\n    }\n</style>\n<table border=\"1\" class=\"dataframe\">\n  <thead>\n    <tr style=\"text-align: right;\">\n      <th></th>\n      <th>Country/Region</th>\n      <th>1/22/20</th>\n      <th>1/23/20</th>\n      <th>1/24/20</th>\n      <th>1/25/20</th>\n      <th>1/26/20</th>\n      <th>1/27/20</th>\n      <th>1/28/20</th>\n      <th>1/29/20</th>\n      <th>1/30/20</th>\n      <th>...</th>\n      <th>5/13/21</th>\n      <th>5/14/21</th>\n      <th>5/15/21</th>\n      <th>5/16/21</th>\n      <th>5/17/21</th>\n      <th>5/18/21</th>\n      <th>5/19/21</th>\n      <th>5/20/21</th>\n      <th>5/21/21</th>\n      <th>5/22/21</th>\n    </tr>\n  </thead>\n  <tbody>\n    <tr>\n      <th>0</th>\n      <td>Afghanistan</td>\n      <td>0</td>\n      <td>0</td>\n      <td>0</td>\n      <td>0</td>\n      <td>0</td>\n      <td>0</td>\n      <td>0</td>\n      <td>0</td>\n      <td>0</td>\n      <td>...</td>\n      <td>2721</td>\n      <td>2730</td>\n      <td>2733</td>\n      <td>2742</td>\n      <td>2745</td>\n      <td>2751</td>\n      <td>2762</td>\n      <td>2772</td>\n      <td>2782</td>\n      <td>2792</td>\n    </tr>\n    <tr>\n      <th>1</th>\n      <td>Albania</td>\n      <td>0</td>\n      <td>0</td>\n      <td>0</td>\n      <td>0</td>\n      <td>0</td>\n      <td>0</td>\n      <td>0</td>\n      <td>0</td>\n      <td>0</td>\n      <td>...</td>\n      <td>2426</td>\n      <td>2427</td>\n      <td>2429</td>\n      <td>2432</td>\n      <td>2435</td>\n      <td>2436</td>\n      <td>2438</td>\n      <td>2440</td>\n      <td>2441</td>\n      <td>2442</td>\n    </tr>\n    <tr>\n      <th>2</th>\n      <td>Algeria</td>\n      <td>0</td>\n      <td>0</td>\n      <td>0</td>\n      <td>0</td>\n      <td>0</td>\n      <td>0</td>\n      <td>0</td>\n      <td>0</td>\n      <td>0</td>\n      <td>...</td>\n      <td>3355</td>\n      <td>3360</td>\n      <td>3366</td>\n      <td>3374</td>\n      <td>3381</td>\n      <td>3388</td>\n      <td>3395</td>\n      <td>3401</td>\n      <td>3405</td>\n      <td>3411</td>\n    </tr>\n    <tr>\n      <th>3</th>\n      <td>Andorra</td>\n      <td>0</td>\n      <td>0</td>\n      <td>0</td>\n      <td>0</td>\n      <td>0</td>\n      <td>0</td>\n      <td>0</td>\n      <td>0</td>\n      <td>0</td>\n      <td>...</td>\n      <td>127</td>\n      <td>127</td>\n      <td>127</td>\n      <td>127</td>\n      <td>127</td>\n      <td>127</td>\n      <td>127</td>\n      <td>127</td>\n      <td>127</td>\n      <td>127</td>\n    </tr>\n    <tr>\n      <th>4</th>\n      <td>Angola</td>\n      <td>0</td>\n      <td>0</td>\n      <td>0</td>\n      <td>0</td>\n      <td>0</td>\n      <td>0</td>\n      <td>0</td>\n      <td>0</td>\n      <td>0</td>\n      <td>...</td>\n      <td>649</td>\n      <td>651</td>\n      <td>655</td>\n      <td>659</td>\n      <td>677</td>\n      <td>685</td>\n      <td>696</td>\n      <td>704</td>\n      <td>709</td>\n      <td>715</td>\n    </tr>\n  </tbody>\n</table>\n<p>5 rows × 488 columns</p>\n</div>"
     },
     "metadata": {},
     "execution_count": 86
    }
   ],
   "source": [
    "df = df.drop(columns=['Province/State', 'Lat', 'Long'], axis=1)\n",
    "df.head()"
   ]
  },
  {
   "cell_type": "code",
   "execution_count": 96,
   "metadata": {},
   "outputs": [],
   "source": [
    "df_transposed = df.T"
   ]
  },
  {
   "cell_type": "code",
   "execution_count": 97,
   "metadata": {},
   "outputs": [
    {
     "output_type": "execute_result",
     "data": {
      "text/plain": [
       "            index            0        1        2        3       4  \\\n",
       "0  Country/Region  Afghanistan  Albania  Algeria  Andorra  Angola   \n",
       "1         1/22/20            0        0        0        0       0   \n",
       "2         1/23/20            0        0        0        0       0   \n",
       "3         1/24/20            0        0        0        0       0   \n",
       "4         1/25/20            0        0        0        0       0   \n",
       "\n",
       "                     5          6        7          8  ...             265  \\\n",
       "0  Antigua and Barbuda  Argentina  Armenia  Australia  ...  United Kingdom   \n",
       "1                    0          0        0          0  ...               0   \n",
       "2                    0          0        0          0  ...               0   \n",
       "3                    0          0        0          0  ...               0   \n",
       "4                    0          0        0          0  ...               0   \n",
       "\n",
       "       266         267      268        269      270                 271  \\\n",
       "0  Uruguay  Uzbekistan  Vanuatu  Venezuela  Vietnam  West Bank and Gaza   \n",
       "1        0           0        0          0        0                   0   \n",
       "2        0           0        0          0        0                   0   \n",
       "3        0           0        0          0        0                   0   \n",
       "4        0           0        0          0        0                   0   \n",
       "\n",
       "     272     273       274  \n",
       "0  Yemen  Zambia  Zimbabwe  \n",
       "1      0       0         0  \n",
       "2      0       0         0  \n",
       "3      0       0         0  \n",
       "4      0       0         0  \n",
       "\n",
       "[5 rows x 276 columns]"
      ],
      "text/html": "<div>\n<style scoped>\n    .dataframe tbody tr th:only-of-type {\n        vertical-align: middle;\n    }\n\n    .dataframe tbody tr th {\n        vertical-align: top;\n    }\n\n    .dataframe thead th {\n        text-align: right;\n    }\n</style>\n<table border=\"1\" class=\"dataframe\">\n  <thead>\n    <tr style=\"text-align: right;\">\n      <th></th>\n      <th>index</th>\n      <th>0</th>\n      <th>1</th>\n      <th>2</th>\n      <th>3</th>\n      <th>4</th>\n      <th>5</th>\n      <th>6</th>\n      <th>7</th>\n      <th>8</th>\n      <th>...</th>\n      <th>265</th>\n      <th>266</th>\n      <th>267</th>\n      <th>268</th>\n      <th>269</th>\n      <th>270</th>\n      <th>271</th>\n      <th>272</th>\n      <th>273</th>\n      <th>274</th>\n    </tr>\n  </thead>\n  <tbody>\n    <tr>\n      <th>0</th>\n      <td>Country/Region</td>\n      <td>Afghanistan</td>\n      <td>Albania</td>\n      <td>Algeria</td>\n      <td>Andorra</td>\n      <td>Angola</td>\n      <td>Antigua and Barbuda</td>\n      <td>Argentina</td>\n      <td>Armenia</td>\n      <td>Australia</td>\n      <td>...</td>\n      <td>United Kingdom</td>\n      <td>Uruguay</td>\n      <td>Uzbekistan</td>\n      <td>Vanuatu</td>\n      <td>Venezuela</td>\n      <td>Vietnam</td>\n      <td>West Bank and Gaza</td>\n      <td>Yemen</td>\n      <td>Zambia</td>\n      <td>Zimbabwe</td>\n    </tr>\n    <tr>\n      <th>1</th>\n      <td>1/22/20</td>\n      <td>0</td>\n      <td>0</td>\n      <td>0</td>\n      <td>0</td>\n      <td>0</td>\n      <td>0</td>\n      <td>0</td>\n      <td>0</td>\n      <td>0</td>\n      <td>...</td>\n      <td>0</td>\n      <td>0</td>\n      <td>0</td>\n      <td>0</td>\n      <td>0</td>\n      <td>0</td>\n      <td>0</td>\n      <td>0</td>\n      <td>0</td>\n      <td>0</td>\n    </tr>\n    <tr>\n      <th>2</th>\n      <td>1/23/20</td>\n      <td>0</td>\n      <td>0</td>\n      <td>0</td>\n      <td>0</td>\n      <td>0</td>\n      <td>0</td>\n      <td>0</td>\n      <td>0</td>\n      <td>0</td>\n      <td>...</td>\n      <td>0</td>\n      <td>0</td>\n      <td>0</td>\n      <td>0</td>\n      <td>0</td>\n      <td>0</td>\n      <td>0</td>\n      <td>0</td>\n      <td>0</td>\n      <td>0</td>\n    </tr>\n    <tr>\n      <th>3</th>\n      <td>1/24/20</td>\n      <td>0</td>\n      <td>0</td>\n      <td>0</td>\n      <td>0</td>\n      <td>0</td>\n      <td>0</td>\n      <td>0</td>\n      <td>0</td>\n      <td>0</td>\n      <td>...</td>\n      <td>0</td>\n      <td>0</td>\n      <td>0</td>\n      <td>0</td>\n      <td>0</td>\n      <td>0</td>\n      <td>0</td>\n      <td>0</td>\n      <td>0</td>\n      <td>0</td>\n    </tr>\n    <tr>\n      <th>4</th>\n      <td>1/25/20</td>\n      <td>0</td>\n      <td>0</td>\n      <td>0</td>\n      <td>0</td>\n      <td>0</td>\n      <td>0</td>\n      <td>0</td>\n      <td>0</td>\n      <td>0</td>\n      <td>...</td>\n      <td>0</td>\n      <td>0</td>\n      <td>0</td>\n      <td>0</td>\n      <td>0</td>\n      <td>0</td>\n      <td>0</td>\n      <td>0</td>\n      <td>0</td>\n      <td>0</td>\n    </tr>\n  </tbody>\n</table>\n<p>5 rows × 276 columns</p>\n</div>"
     },
     "metadata": {},
     "execution_count": 97
    }
   ],
   "source": [
    "df_transposed.head().reset_index()"
   ]
  },
  {
   "cell_type": "code",
   "execution_count": 98,
   "metadata": {},
   "outputs": [],
   "source": [
    "df_transposed.columns = df_transposed.iloc[0]"
   ]
  },
  {
   "cell_type": "code",
   "execution_count": 99,
   "metadata": {},
   "outputs": [
    {
     "output_type": "execute_result",
     "data": {
      "text/plain": [
       "Country/Region  Afghanistan  Albania  Algeria  Andorra  Angola  \\\n",
       "Country/Region  Afghanistan  Albania  Algeria  Andorra  Angola   \n",
       "1/22/20                   0        0        0        0       0   \n",
       "1/23/20                   0        0        0        0       0   \n",
       "1/24/20                   0        0        0        0       0   \n",
       "1/25/20                   0        0        0        0       0   \n",
       "\n",
       "Country/Region  Antigua and Barbuda  Argentina  Armenia  Australia  Australia  \\\n",
       "Country/Region  Antigua and Barbuda  Argentina  Armenia  Australia  Australia   \n",
       "1/22/20                           0          0        0          0          0   \n",
       "1/23/20                           0          0        0          0          0   \n",
       "1/24/20                           0          0        0          0          0   \n",
       "1/25/20                           0          0        0          0          0   \n",
       "\n",
       "Country/Region  ...  United Kingdom  Uruguay  Uzbekistan  Vanuatu  Venezuela  \\\n",
       "Country/Region  ...  United Kingdom  Uruguay  Uzbekistan  Vanuatu  Venezuela   \n",
       "1/22/20         ...               0        0           0        0          0   \n",
       "1/23/20         ...               0        0           0        0          0   \n",
       "1/24/20         ...               0        0           0        0          0   \n",
       "1/25/20         ...               0        0           0        0          0   \n",
       "\n",
       "Country/Region  Vietnam  West Bank and Gaza  Yemen  Zambia  Zimbabwe  \n",
       "Country/Region  Vietnam  West Bank and Gaza  Yemen  Zambia  Zimbabwe  \n",
       "1/22/20               0                   0      0       0         0  \n",
       "1/23/20               0                   0      0       0         0  \n",
       "1/24/20               0                   0      0       0         0  \n",
       "1/25/20               0                   0      0       0         0  \n",
       "\n",
       "[5 rows x 275 columns]"
      ],
      "text/html": "<div>\n<style scoped>\n    .dataframe tbody tr th:only-of-type {\n        vertical-align: middle;\n    }\n\n    .dataframe tbody tr th {\n        vertical-align: top;\n    }\n\n    .dataframe thead th {\n        text-align: right;\n    }\n</style>\n<table border=\"1\" class=\"dataframe\">\n  <thead>\n    <tr style=\"text-align: right;\">\n      <th>Country/Region</th>\n      <th>Afghanistan</th>\n      <th>Albania</th>\n      <th>Algeria</th>\n      <th>Andorra</th>\n      <th>Angola</th>\n      <th>Antigua and Barbuda</th>\n      <th>Argentina</th>\n      <th>Armenia</th>\n      <th>Australia</th>\n      <th>Australia</th>\n      <th>...</th>\n      <th>United Kingdom</th>\n      <th>Uruguay</th>\n      <th>Uzbekistan</th>\n      <th>Vanuatu</th>\n      <th>Venezuela</th>\n      <th>Vietnam</th>\n      <th>West Bank and Gaza</th>\n      <th>Yemen</th>\n      <th>Zambia</th>\n      <th>Zimbabwe</th>\n    </tr>\n  </thead>\n  <tbody>\n    <tr>\n      <th>Country/Region</th>\n      <td>Afghanistan</td>\n      <td>Albania</td>\n      <td>Algeria</td>\n      <td>Andorra</td>\n      <td>Angola</td>\n      <td>Antigua and Barbuda</td>\n      <td>Argentina</td>\n      <td>Armenia</td>\n      <td>Australia</td>\n      <td>Australia</td>\n      <td>...</td>\n      <td>United Kingdom</td>\n      <td>Uruguay</td>\n      <td>Uzbekistan</td>\n      <td>Vanuatu</td>\n      <td>Venezuela</td>\n      <td>Vietnam</td>\n      <td>West Bank and Gaza</td>\n      <td>Yemen</td>\n      <td>Zambia</td>\n      <td>Zimbabwe</td>\n    </tr>\n    <tr>\n      <th>1/22/20</th>\n      <td>0</td>\n      <td>0</td>\n      <td>0</td>\n      <td>0</td>\n      <td>0</td>\n      <td>0</td>\n      <td>0</td>\n      <td>0</td>\n      <td>0</td>\n      <td>0</td>\n      <td>...</td>\n      <td>0</td>\n      <td>0</td>\n      <td>0</td>\n      <td>0</td>\n      <td>0</td>\n      <td>0</td>\n      <td>0</td>\n      <td>0</td>\n      <td>0</td>\n      <td>0</td>\n    </tr>\n    <tr>\n      <th>1/23/20</th>\n      <td>0</td>\n      <td>0</td>\n      <td>0</td>\n      <td>0</td>\n      <td>0</td>\n      <td>0</td>\n      <td>0</td>\n      <td>0</td>\n      <td>0</td>\n      <td>0</td>\n      <td>...</td>\n      <td>0</td>\n      <td>0</td>\n      <td>0</td>\n      <td>0</td>\n      <td>0</td>\n      <td>0</td>\n      <td>0</td>\n      <td>0</td>\n      <td>0</td>\n      <td>0</td>\n    </tr>\n    <tr>\n      <th>1/24/20</th>\n      <td>0</td>\n      <td>0</td>\n      <td>0</td>\n      <td>0</td>\n      <td>0</td>\n      <td>0</td>\n      <td>0</td>\n      <td>0</td>\n      <td>0</td>\n      <td>0</td>\n      <td>...</td>\n      <td>0</td>\n      <td>0</td>\n      <td>0</td>\n      <td>0</td>\n      <td>0</td>\n      <td>0</td>\n      <td>0</td>\n      <td>0</td>\n      <td>0</td>\n      <td>0</td>\n    </tr>\n    <tr>\n      <th>1/25/20</th>\n      <td>0</td>\n      <td>0</td>\n      <td>0</td>\n      <td>0</td>\n      <td>0</td>\n      <td>0</td>\n      <td>0</td>\n      <td>0</td>\n      <td>0</td>\n      <td>0</td>\n      <td>...</td>\n      <td>0</td>\n      <td>0</td>\n      <td>0</td>\n      <td>0</td>\n      <td>0</td>\n      <td>0</td>\n      <td>0</td>\n      <td>0</td>\n      <td>0</td>\n      <td>0</td>\n    </tr>\n  </tbody>\n</table>\n<p>5 rows × 275 columns</p>\n</div>"
     },
     "metadata": {},
     "execution_count": 99
    }
   ],
   "source": [
    "df_transposed.head()"
   ]
  },
  {
   "cell_type": "code",
   "execution_count": 100,
   "metadata": {},
   "outputs": [],
   "source": [
    "df_transposed.drop(['Country/Region'], axis=0, inplace=True)"
   ]
  },
  {
   "cell_type": "code",
   "execution_count": 101,
   "metadata": {},
   "outputs": [
    {
     "output_type": "execute_result",
     "data": {
      "text/plain": [
       "Country/Region Afghanistan Albania Algeria Andorra Angola Antigua and Barbuda  \\\n",
       "1/22/20                  0       0       0       0      0                   0   \n",
       "1/23/20                  0       0       0       0      0                   0   \n",
       "1/24/20                  0       0       0       0      0                   0   \n",
       "1/25/20                  0       0       0       0      0                   0   \n",
       "1/26/20                  0       0       0       0      0                   0   \n",
       "\n",
       "Country/Region Argentina Armenia Australia Australia  ... United Kingdom  \\\n",
       "1/22/20                0       0         0         0  ...              0   \n",
       "1/23/20                0       0         0         0  ...              0   \n",
       "1/24/20                0       0         0         0  ...              0   \n",
       "1/25/20                0       0         0         0  ...              0   \n",
       "1/26/20                0       0         0         0  ...              0   \n",
       "\n",
       "Country/Region Uruguay Uzbekistan Vanuatu Venezuela Vietnam  \\\n",
       "1/22/20              0          0       0         0       0   \n",
       "1/23/20              0          0       0         0       0   \n",
       "1/24/20              0          0       0         0       0   \n",
       "1/25/20              0          0       0         0       0   \n",
       "1/26/20              0          0       0         0       0   \n",
       "\n",
       "Country/Region West Bank and Gaza Yemen Zambia Zimbabwe  \n",
       "1/22/20                         0     0      0        0  \n",
       "1/23/20                         0     0      0        0  \n",
       "1/24/20                         0     0      0        0  \n",
       "1/25/20                         0     0      0        0  \n",
       "1/26/20                         0     0      0        0  \n",
       "\n",
       "[5 rows x 275 columns]"
      ],
      "text/html": "<div>\n<style scoped>\n    .dataframe tbody tr th:only-of-type {\n        vertical-align: middle;\n    }\n\n    .dataframe tbody tr th {\n        vertical-align: top;\n    }\n\n    .dataframe thead th {\n        text-align: right;\n    }\n</style>\n<table border=\"1\" class=\"dataframe\">\n  <thead>\n    <tr style=\"text-align: right;\">\n      <th>Country/Region</th>\n      <th>Afghanistan</th>\n      <th>Albania</th>\n      <th>Algeria</th>\n      <th>Andorra</th>\n      <th>Angola</th>\n      <th>Antigua and Barbuda</th>\n      <th>Argentina</th>\n      <th>Armenia</th>\n      <th>Australia</th>\n      <th>Australia</th>\n      <th>...</th>\n      <th>United Kingdom</th>\n      <th>Uruguay</th>\n      <th>Uzbekistan</th>\n      <th>Vanuatu</th>\n      <th>Venezuela</th>\n      <th>Vietnam</th>\n      <th>West Bank and Gaza</th>\n      <th>Yemen</th>\n      <th>Zambia</th>\n      <th>Zimbabwe</th>\n    </tr>\n  </thead>\n  <tbody>\n    <tr>\n      <th>1/22/20</th>\n      <td>0</td>\n      <td>0</td>\n      <td>0</td>\n      <td>0</td>\n      <td>0</td>\n      <td>0</td>\n      <td>0</td>\n      <td>0</td>\n      <td>0</td>\n      <td>0</td>\n      <td>...</td>\n      <td>0</td>\n      <td>0</td>\n      <td>0</td>\n      <td>0</td>\n      <td>0</td>\n      <td>0</td>\n      <td>0</td>\n      <td>0</td>\n      <td>0</td>\n      <td>0</td>\n    </tr>\n    <tr>\n      <th>1/23/20</th>\n      <td>0</td>\n      <td>0</td>\n      <td>0</td>\n      <td>0</td>\n      <td>0</td>\n      <td>0</td>\n      <td>0</td>\n      <td>0</td>\n      <td>0</td>\n      <td>0</td>\n      <td>...</td>\n      <td>0</td>\n      <td>0</td>\n      <td>0</td>\n      <td>0</td>\n      <td>0</td>\n      <td>0</td>\n      <td>0</td>\n      <td>0</td>\n      <td>0</td>\n      <td>0</td>\n    </tr>\n    <tr>\n      <th>1/24/20</th>\n      <td>0</td>\n      <td>0</td>\n      <td>0</td>\n      <td>0</td>\n      <td>0</td>\n      <td>0</td>\n      <td>0</td>\n      <td>0</td>\n      <td>0</td>\n      <td>0</td>\n      <td>...</td>\n      <td>0</td>\n      <td>0</td>\n      <td>0</td>\n      <td>0</td>\n      <td>0</td>\n      <td>0</td>\n      <td>0</td>\n      <td>0</td>\n      <td>0</td>\n      <td>0</td>\n    </tr>\n    <tr>\n      <th>1/25/20</th>\n      <td>0</td>\n      <td>0</td>\n      <td>0</td>\n      <td>0</td>\n      <td>0</td>\n      <td>0</td>\n      <td>0</td>\n      <td>0</td>\n      <td>0</td>\n      <td>0</td>\n      <td>...</td>\n      <td>0</td>\n      <td>0</td>\n      <td>0</td>\n      <td>0</td>\n      <td>0</td>\n      <td>0</td>\n      <td>0</td>\n      <td>0</td>\n      <td>0</td>\n      <td>0</td>\n    </tr>\n    <tr>\n      <th>1/26/20</th>\n      <td>0</td>\n      <td>0</td>\n      <td>0</td>\n      <td>0</td>\n      <td>0</td>\n      <td>0</td>\n      <td>0</td>\n      <td>0</td>\n      <td>0</td>\n      <td>0</td>\n      <td>...</td>\n      <td>0</td>\n      <td>0</td>\n      <td>0</td>\n      <td>0</td>\n      <td>0</td>\n      <td>0</td>\n      <td>0</td>\n      <td>0</td>\n      <td>0</td>\n      <td>0</td>\n    </tr>\n  </tbody>\n</table>\n<p>5 rows × 275 columns</p>\n</div>"
     },
     "metadata": {},
     "execution_count": 101
    }
   ],
   "source": [
    "df_transposed.head()"
   ]
  },
  {
   "cell_type": "code",
   "execution_count": null,
   "metadata": {},
   "outputs": [],
   "source": []
  }
 ]
}