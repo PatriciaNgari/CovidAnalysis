{
 "metadata": {
  "language_info": {
   "codemirror_mode": {
    "name": "ipython",
    "version": 3
   },
   "file_extension": ".py",
   "mimetype": "text/x-python",
   "name": "python",
   "nbconvert_exporter": "python",
   "pygments_lexer": "ipython3",
   "version": "3.9.5"
  },
  "orig_nbformat": 2,
  "kernelspec": {
   "name": "python395jvsc74a57bd0aee8b7b246df8f9039afb4144a1f6fd8d2ca17a180786b69acc140d282b71a49",
   "display_name": "Python 3.9.5 64-bit"
  },
  "metadata": {
   "interpreter": {
    "hash": "aee8b7b246df8f9039afb4144a1f6fd8d2ca17a180786b69acc140d282b71a49"
   }
  }
 },
 "nbformat": 4,
 "nbformat_minor": 2,
 "cells": [
  {
   "cell_type": "code",
   "execution_count": 30,
   "metadata": {},
   "outputs": [],
   "source": [
    "import numpy as np \n",
    "import pandas as pd\n",
    "import matplotlib as mpl \n",
    "import matplotlib.pyplot as plt\n",
    "import seaborn as sns\n",
    "import plotly.express as px"
   ]
  },
  {
   "cell_type": "code",
   "execution_count": 4,
   "metadata": {},
   "outputs": [
    {
     "output_type": "execute_result",
     "data": {
      "text/plain": [
       "  iso_code continent     location        date  population  total_cases  \\\n",
       "0      AFG      Asia  Afghanistan  2020-02-24  38928341.0          1.0   \n",
       "1      AFG      Asia  Afghanistan  2020-02-25  38928341.0          1.0   \n",
       "2      AFG      Asia  Afghanistan  2020-02-26  38928341.0          1.0   \n",
       "3      AFG      Asia  Afghanistan  2020-02-27  38928341.0          1.0   \n",
       "4      AFG      Asia  Afghanistan  2020-02-28  38928341.0          1.0   \n",
       "\n",
       "   new_cases  new_cases_smoothed  total_deaths  new_deaths  ...  \\\n",
       "0        1.0                 NaN           NaN         NaN  ...   \n",
       "1        0.0                 NaN           NaN         NaN  ...   \n",
       "2        0.0                 NaN           NaN         NaN  ...   \n",
       "3        0.0                 NaN           NaN         NaN  ...   \n",
       "4        0.0                 NaN           NaN         NaN  ...   \n",
       "\n",
       "   new_deaths_smoothed_per_million  reproduction_rate  icu_patients  \\\n",
       "0                              NaN                NaN           NaN   \n",
       "1                              NaN                NaN           NaN   \n",
       "2                              NaN                NaN           NaN   \n",
       "3                              NaN                NaN           NaN   \n",
       "4                              NaN                NaN           NaN   \n",
       "\n",
       "   icu_patients_per_million  hosp_patients  hosp_patients_per_million  \\\n",
       "0                       NaN            NaN                        NaN   \n",
       "1                       NaN            NaN                        NaN   \n",
       "2                       NaN            NaN                        NaN   \n",
       "3                       NaN            NaN                        NaN   \n",
       "4                       NaN            NaN                        NaN   \n",
       "\n",
       "   weekly_icu_admissions  weekly_icu_admissions_per_million  \\\n",
       "0                    NaN                                NaN   \n",
       "1                    NaN                                NaN   \n",
       "2                    NaN                                NaN   \n",
       "3                    NaN                                NaN   \n",
       "4                    NaN                                NaN   \n",
       "\n",
       "   weekly_hosp_admissions  weekly_hosp_admissions_per_million  \n",
       "0                     NaN                                 NaN  \n",
       "1                     NaN                                 NaN  \n",
       "2                     NaN                                 NaN  \n",
       "3                     NaN                                 NaN  \n",
       "4                     NaN                                 NaN  \n",
       "\n",
       "[5 rows x 26 columns]"
      ],
      "text/html": "<div>\n<style scoped>\n    .dataframe tbody tr th:only-of-type {\n        vertical-align: middle;\n    }\n\n    .dataframe tbody tr th {\n        vertical-align: top;\n    }\n\n    .dataframe thead th {\n        text-align: right;\n    }\n</style>\n<table border=\"1\" class=\"dataframe\">\n  <thead>\n    <tr style=\"text-align: right;\">\n      <th></th>\n      <th>iso_code</th>\n      <th>continent</th>\n      <th>location</th>\n      <th>date</th>\n      <th>population</th>\n      <th>total_cases</th>\n      <th>new_cases</th>\n      <th>new_cases_smoothed</th>\n      <th>total_deaths</th>\n      <th>new_deaths</th>\n      <th>...</th>\n      <th>new_deaths_smoothed_per_million</th>\n      <th>reproduction_rate</th>\n      <th>icu_patients</th>\n      <th>icu_patients_per_million</th>\n      <th>hosp_patients</th>\n      <th>hosp_patients_per_million</th>\n      <th>weekly_icu_admissions</th>\n      <th>weekly_icu_admissions_per_million</th>\n      <th>weekly_hosp_admissions</th>\n      <th>weekly_hosp_admissions_per_million</th>\n    </tr>\n  </thead>\n  <tbody>\n    <tr>\n      <th>0</th>\n      <td>AFG</td>\n      <td>Asia</td>\n      <td>Afghanistan</td>\n      <td>2020-02-24</td>\n      <td>38928341.0</td>\n      <td>1.0</td>\n      <td>1.0</td>\n      <td>NaN</td>\n      <td>NaN</td>\n      <td>NaN</td>\n      <td>...</td>\n      <td>NaN</td>\n      <td>NaN</td>\n      <td>NaN</td>\n      <td>NaN</td>\n      <td>NaN</td>\n      <td>NaN</td>\n      <td>NaN</td>\n      <td>NaN</td>\n      <td>NaN</td>\n      <td>NaN</td>\n    </tr>\n    <tr>\n      <th>1</th>\n      <td>AFG</td>\n      <td>Asia</td>\n      <td>Afghanistan</td>\n      <td>2020-02-25</td>\n      <td>38928341.0</td>\n      <td>1.0</td>\n      <td>0.0</td>\n      <td>NaN</td>\n      <td>NaN</td>\n      <td>NaN</td>\n      <td>...</td>\n      <td>NaN</td>\n      <td>NaN</td>\n      <td>NaN</td>\n      <td>NaN</td>\n      <td>NaN</td>\n      <td>NaN</td>\n      <td>NaN</td>\n      <td>NaN</td>\n      <td>NaN</td>\n      <td>NaN</td>\n    </tr>\n    <tr>\n      <th>2</th>\n      <td>AFG</td>\n      <td>Asia</td>\n      <td>Afghanistan</td>\n      <td>2020-02-26</td>\n      <td>38928341.0</td>\n      <td>1.0</td>\n      <td>0.0</td>\n      <td>NaN</td>\n      <td>NaN</td>\n      <td>NaN</td>\n      <td>...</td>\n      <td>NaN</td>\n      <td>NaN</td>\n      <td>NaN</td>\n      <td>NaN</td>\n      <td>NaN</td>\n      <td>NaN</td>\n      <td>NaN</td>\n      <td>NaN</td>\n      <td>NaN</td>\n      <td>NaN</td>\n    </tr>\n    <tr>\n      <th>3</th>\n      <td>AFG</td>\n      <td>Asia</td>\n      <td>Afghanistan</td>\n      <td>2020-02-27</td>\n      <td>38928341.0</td>\n      <td>1.0</td>\n      <td>0.0</td>\n      <td>NaN</td>\n      <td>NaN</td>\n      <td>NaN</td>\n      <td>...</td>\n      <td>NaN</td>\n      <td>NaN</td>\n      <td>NaN</td>\n      <td>NaN</td>\n      <td>NaN</td>\n      <td>NaN</td>\n      <td>NaN</td>\n      <td>NaN</td>\n      <td>NaN</td>\n      <td>NaN</td>\n    </tr>\n    <tr>\n      <th>4</th>\n      <td>AFG</td>\n      <td>Asia</td>\n      <td>Afghanistan</td>\n      <td>2020-02-28</td>\n      <td>38928341.0</td>\n      <td>1.0</td>\n      <td>0.0</td>\n      <td>NaN</td>\n      <td>NaN</td>\n      <td>NaN</td>\n      <td>...</td>\n      <td>NaN</td>\n      <td>NaN</td>\n      <td>NaN</td>\n      <td>NaN</td>\n      <td>NaN</td>\n      <td>NaN</td>\n      <td>NaN</td>\n      <td>NaN</td>\n      <td>NaN</td>\n      <td>NaN</td>\n    </tr>\n  </tbody>\n</table>\n<p>5 rows × 26 columns</p>\n</div>"
     },
     "metadata": {},
     "execution_count": 4
    }
   ],
   "source": [
    "Covid_Deaths = pd.read_csv('/Users/sabrina/Documents/Careers/Data Analytics/Github/Sabrina/CovidAnalysis/Data/csv/CovidDeaths.csv')\n",
    "Covid_Deaths.head()"
   ]
  },
  {
   "cell_type": "code",
   "execution_count": 9,
   "metadata": {},
   "outputs": [],
   "source": [
    "CasesDeaths = Covid_Deaths[['location', 'date', 'total_cases', 'new_cases', 'total_deaths', 'population']]"
   ]
  },
  {
   "cell_type": "code",
   "execution_count": 14,
   "metadata": {},
   "outputs": [
    {
     "output_type": "execute_result",
     "data": {
      "text/plain": [
       "          location        date  total_cases  new_cases  total_deaths  \\\n",
       "0      Afghanistan  2020-02-24          1.0        1.0           NaN   \n",
       "1      Afghanistan  2020-02-25          1.0        0.0           NaN   \n",
       "2      Afghanistan  2020-02-26          1.0        0.0           NaN   \n",
       "3      Afghanistan  2020-02-27          1.0        0.0           NaN   \n",
       "4      Afghanistan  2020-02-28          1.0        0.0           NaN   \n",
       "...            ...         ...          ...        ...           ...   \n",
       "89461     Zimbabwe  2021-05-11      38448.0       15.0        1579.0   \n",
       "89462     Zimbabwe  2021-05-12      38466.0       18.0        1579.0   \n",
       "89463     Zimbabwe  2021-05-13      38491.0       25.0        1582.0   \n",
       "89464     Zimbabwe  2021-05-14      38535.0       44.0        1582.0   \n",
       "89465     Zimbabwe  2021-05-15      38554.0       19.0        1582.0   \n",
       "\n",
       "       population  \n",
       "0      38928341.0  \n",
       "1      38928341.0  \n",
       "2      38928341.0  \n",
       "3      38928341.0  \n",
       "4      38928341.0  \n",
       "...           ...  \n",
       "89461  14862927.0  \n",
       "89462  14862927.0  \n",
       "89463  14862927.0  \n",
       "89464  14862927.0  \n",
       "89465  14862927.0  \n",
       "\n",
       "[89466 rows x 6 columns]"
      ],
      "text/html": "<div>\n<style scoped>\n    .dataframe tbody tr th:only-of-type {\n        vertical-align: middle;\n    }\n\n    .dataframe tbody tr th {\n        vertical-align: top;\n    }\n\n    .dataframe thead th {\n        text-align: right;\n    }\n</style>\n<table border=\"1\" class=\"dataframe\">\n  <thead>\n    <tr style=\"text-align: right;\">\n      <th></th>\n      <th>location</th>\n      <th>date</th>\n      <th>total_cases</th>\n      <th>new_cases</th>\n      <th>total_deaths</th>\n      <th>population</th>\n    </tr>\n  </thead>\n  <tbody>\n    <tr>\n      <th>0</th>\n      <td>Afghanistan</td>\n      <td>2020-02-24</td>\n      <td>1.0</td>\n      <td>1.0</td>\n      <td>NaN</td>\n      <td>38928341.0</td>\n    </tr>\n    <tr>\n      <th>1</th>\n      <td>Afghanistan</td>\n      <td>2020-02-25</td>\n      <td>1.0</td>\n      <td>0.0</td>\n      <td>NaN</td>\n      <td>38928341.0</td>\n    </tr>\n    <tr>\n      <th>2</th>\n      <td>Afghanistan</td>\n      <td>2020-02-26</td>\n      <td>1.0</td>\n      <td>0.0</td>\n      <td>NaN</td>\n      <td>38928341.0</td>\n    </tr>\n    <tr>\n      <th>3</th>\n      <td>Afghanistan</td>\n      <td>2020-02-27</td>\n      <td>1.0</td>\n      <td>0.0</td>\n      <td>NaN</td>\n      <td>38928341.0</td>\n    </tr>\n    <tr>\n      <th>4</th>\n      <td>Afghanistan</td>\n      <td>2020-02-28</td>\n      <td>1.0</td>\n      <td>0.0</td>\n      <td>NaN</td>\n      <td>38928341.0</td>\n    </tr>\n    <tr>\n      <th>...</th>\n      <td>...</td>\n      <td>...</td>\n      <td>...</td>\n      <td>...</td>\n      <td>...</td>\n      <td>...</td>\n    </tr>\n    <tr>\n      <th>89461</th>\n      <td>Zimbabwe</td>\n      <td>2021-05-11</td>\n      <td>38448.0</td>\n      <td>15.0</td>\n      <td>1579.0</td>\n      <td>14862927.0</td>\n    </tr>\n    <tr>\n      <th>89462</th>\n      <td>Zimbabwe</td>\n      <td>2021-05-12</td>\n      <td>38466.0</td>\n      <td>18.0</td>\n      <td>1579.0</td>\n      <td>14862927.0</td>\n    </tr>\n    <tr>\n      <th>89463</th>\n      <td>Zimbabwe</td>\n      <td>2021-05-13</td>\n      <td>38491.0</td>\n      <td>25.0</td>\n      <td>1582.0</td>\n      <td>14862927.0</td>\n    </tr>\n    <tr>\n      <th>89464</th>\n      <td>Zimbabwe</td>\n      <td>2021-05-14</td>\n      <td>38535.0</td>\n      <td>44.0</td>\n      <td>1582.0</td>\n      <td>14862927.0</td>\n    </tr>\n    <tr>\n      <th>89465</th>\n      <td>Zimbabwe</td>\n      <td>2021-05-15</td>\n      <td>38554.0</td>\n      <td>19.0</td>\n      <td>1582.0</td>\n      <td>14862927.0</td>\n    </tr>\n  </tbody>\n</table>\n<p>89466 rows × 6 columns</p>\n</div>"
     },
     "metadata": {},
     "execution_count": 14
    }
   ],
   "source": [
    "CasesDeaths.sort_values(by=['location', 'date'])"
   ]
  },
  {
   "cell_type": "code",
   "execution_count": 73,
   "metadata": {},
   "outputs": [
    {
     "output_type": "stream",
     "name": "stdout",
     "text": [
      "<class 'pandas.core.frame.DataFrame'>\nInt64Index: 4774 entries, 88218 to 85302\nData columns (total 17 columns):\n #   Column                           Non-Null Count  Dtype  \n---  ------                           --------------  -----  \n 0   iso_code                         4774 non-null   object \n 1   location                         4774 non-null   object \n 2   date                             4774 non-null   object \n 3   population                       4310 non-null   float64\n 4   total_cases                      4241 non-null   float64\n 5   new_cases                        4246 non-null   float64\n 6   new_cases_smoothed               4193 non-null   float64\n 7   total_deaths                     4074 non-null   float64\n 8   new_deaths                       4233 non-null   float64\n 9   new_deaths_smoothed              4193 non-null   float64\n 10  total_cases_per_million          3777 non-null   float64\n 11  new_cases_per_million            3782 non-null   float64\n 12  new_cases_smoothed_per_million   3734 non-null   float64\n 13  total_deaths_per_million         3623 non-null   float64\n 14  new_deaths_per_million           3782 non-null   float64\n 15  new_deaths_smoothed_per_million  3734 non-null   float64\n 16  reproduction_rate                476 non-null    float64\ndtypes: float64(14), object(3)\nmemory usage: 671.3+ KB\n"
     ]
    }
   ],
   "source": [
    "continents = Covid_Deaths[Covid_Deaths.continent.isna()].drop(columns = ['continent','icu_patients', 'icu_patients_per_million','hosp_patients', 'hosp_patients_per_million', 'weekly_icu_admissions', 'weekly_icu_admissions_per_million', 'weekly_hosp_admissions', 'weekly_hosp_admissions_per_million'])\n",
    "continents.info()"
   ]
  },
  {
   "cell_type": "code",
   "execution_count": 66,
   "metadata": {},
   "outputs": [
    {
     "output_type": "execute_result",
     "data": {
      "text/plain": [
       "      iso_code      continent       location        date   population  \\\n",
       "85150      USA  North America  United States  2021-05-15  331002647.0   \n",
       "85149      USA  North America  United States  2021-05-14  331002647.0   \n",
       "85148      USA  North America  United States  2021-05-13  331002647.0   \n",
       "85147      USA  North America  United States  2021-05-12  331002647.0   \n",
       "85146      USA  North America  United States  2021-05-11  331002647.0   \n",
       "\n",
       "       total_cases  new_cases  new_cases_smoothed  total_deaths  new_deaths  \\\n",
       "85150   32923982.0    28813.0           33859.571      585708.0       476.0   \n",
       "85149   32895169.0    42298.0           34671.000      585232.0       745.0   \n",
       "85148   32852871.0    38087.0           35384.000      584487.0       802.0   \n",
       "85147   32814784.0    35878.0           36730.714      583685.0       848.0   \n",
       "85146   32778906.0    33651.0           37996.000      582837.0       684.0   \n",
       "\n",
       "       ...  new_deaths_smoothed_per_million  reproduction_rate  icu_patients  \\\n",
       "85150  ...                            1.809                NaN           NaN   \n",
       "85149  ...                            1.869                NaN           NaN   \n",
       "85148  ...                            1.873                NaN           NaN   \n",
       "85147  ...                            1.867               0.81           NaN   \n",
       "85146  ...                            1.836               0.81           NaN   \n",
       "\n",
       "       icu_patients_per_million  hosp_patients  hosp_patients_per_million  \\\n",
       "85150                       NaN            NaN                        NaN   \n",
       "85149                       NaN            NaN                        NaN   \n",
       "85148                       NaN            NaN                        NaN   \n",
       "85147                       NaN            NaN                        NaN   \n",
       "85146                       NaN            NaN                        NaN   \n",
       "\n",
       "       weekly_icu_admissions  weekly_icu_admissions_per_million  \\\n",
       "85150                    NaN                                NaN   \n",
       "85149                    NaN                                NaN   \n",
       "85148                    NaN                                NaN   \n",
       "85147                    NaN                                NaN   \n",
       "85146                    NaN                                NaN   \n",
       "\n",
       "       weekly_hosp_admissions  weekly_hosp_admissions_per_million  \n",
       "85150                     NaN                                 NaN  \n",
       "85149                     NaN                                 NaN  \n",
       "85148                     NaN                                 NaN  \n",
       "85147                     NaN                                 NaN  \n",
       "85146                     NaN                                 NaN  \n",
       "\n",
       "[5 rows x 26 columns]"
      ],
      "text/html": "<div>\n<style scoped>\n    .dataframe tbody tr th:only-of-type {\n        vertical-align: middle;\n    }\n\n    .dataframe tbody tr th {\n        vertical-align: top;\n    }\n\n    .dataframe thead th {\n        text-align: right;\n    }\n</style>\n<table border=\"1\" class=\"dataframe\">\n  <thead>\n    <tr style=\"text-align: right;\">\n      <th></th>\n      <th>iso_code</th>\n      <th>continent</th>\n      <th>location</th>\n      <th>date</th>\n      <th>population</th>\n      <th>total_cases</th>\n      <th>new_cases</th>\n      <th>new_cases_smoothed</th>\n      <th>total_deaths</th>\n      <th>new_deaths</th>\n      <th>...</th>\n      <th>new_deaths_smoothed_per_million</th>\n      <th>reproduction_rate</th>\n      <th>icu_patients</th>\n      <th>icu_patients_per_million</th>\n      <th>hosp_patients</th>\n      <th>hosp_patients_per_million</th>\n      <th>weekly_icu_admissions</th>\n      <th>weekly_icu_admissions_per_million</th>\n      <th>weekly_hosp_admissions</th>\n      <th>weekly_hosp_admissions_per_million</th>\n    </tr>\n  </thead>\n  <tbody>\n    <tr>\n      <th>85150</th>\n      <td>USA</td>\n      <td>North America</td>\n      <td>United States</td>\n      <td>2021-05-15</td>\n      <td>331002647.0</td>\n      <td>32923982.0</td>\n      <td>28813.0</td>\n      <td>33859.571</td>\n      <td>585708.0</td>\n      <td>476.0</td>\n      <td>...</td>\n      <td>1.809</td>\n      <td>NaN</td>\n      <td>NaN</td>\n      <td>NaN</td>\n      <td>NaN</td>\n      <td>NaN</td>\n      <td>NaN</td>\n      <td>NaN</td>\n      <td>NaN</td>\n      <td>NaN</td>\n    </tr>\n    <tr>\n      <th>85149</th>\n      <td>USA</td>\n      <td>North America</td>\n      <td>United States</td>\n      <td>2021-05-14</td>\n      <td>331002647.0</td>\n      <td>32895169.0</td>\n      <td>42298.0</td>\n      <td>34671.000</td>\n      <td>585232.0</td>\n      <td>745.0</td>\n      <td>...</td>\n      <td>1.869</td>\n      <td>NaN</td>\n      <td>NaN</td>\n      <td>NaN</td>\n      <td>NaN</td>\n      <td>NaN</td>\n      <td>NaN</td>\n      <td>NaN</td>\n      <td>NaN</td>\n      <td>NaN</td>\n    </tr>\n    <tr>\n      <th>85148</th>\n      <td>USA</td>\n      <td>North America</td>\n      <td>United States</td>\n      <td>2021-05-13</td>\n      <td>331002647.0</td>\n      <td>32852871.0</td>\n      <td>38087.0</td>\n      <td>35384.000</td>\n      <td>584487.0</td>\n      <td>802.0</td>\n      <td>...</td>\n      <td>1.873</td>\n      <td>NaN</td>\n      <td>NaN</td>\n      <td>NaN</td>\n      <td>NaN</td>\n      <td>NaN</td>\n      <td>NaN</td>\n      <td>NaN</td>\n      <td>NaN</td>\n      <td>NaN</td>\n    </tr>\n    <tr>\n      <th>85147</th>\n      <td>USA</td>\n      <td>North America</td>\n      <td>United States</td>\n      <td>2021-05-12</td>\n      <td>331002647.0</td>\n      <td>32814784.0</td>\n      <td>35878.0</td>\n      <td>36730.714</td>\n      <td>583685.0</td>\n      <td>848.0</td>\n      <td>...</td>\n      <td>1.867</td>\n      <td>0.81</td>\n      <td>NaN</td>\n      <td>NaN</td>\n      <td>NaN</td>\n      <td>NaN</td>\n      <td>NaN</td>\n      <td>NaN</td>\n      <td>NaN</td>\n      <td>NaN</td>\n    </tr>\n    <tr>\n      <th>85146</th>\n      <td>USA</td>\n      <td>North America</td>\n      <td>United States</td>\n      <td>2021-05-11</td>\n      <td>331002647.0</td>\n      <td>32778906.0</td>\n      <td>33651.0</td>\n      <td>37996.000</td>\n      <td>582837.0</td>\n      <td>684.0</td>\n      <td>...</td>\n      <td>1.836</td>\n      <td>0.81</td>\n      <td>NaN</td>\n      <td>NaN</td>\n      <td>NaN</td>\n      <td>NaN</td>\n      <td>NaN</td>\n      <td>NaN</td>\n      <td>NaN</td>\n      <td>NaN</td>\n    </tr>\n  </tbody>\n</table>\n<p>5 rows × 26 columns</p>\n</div>"
     },
     "metadata": {},
     "execution_count": 66
    }
   ],
   "source": [
    "countries = Covid_Deaths[Covid_Deaths.continent.notna()]\n",
    "countries.head()"
   ]
  },
  {
   "cell_type": "code",
   "execution_count": 68,
   "metadata": {},
   "outputs": [
    {
     "output_type": "stream",
     "name": "stdout",
     "text": [
      "<class 'pandas.core.frame.DataFrame'>\nInt64Index: 84692 entries, 85150 to 89046\nData columns (total 26 columns):\n #   Column                              Non-Null Count  Dtype  \n---  ------                              --------------  -----  \n 0   iso_code                            84692 non-null  object \n 1   continent                           84692 non-null  object \n 2   location                            84692 non-null  object \n 3   date                                84692 non-null  object \n 4   population                          84571 non-null  float64\n 5   total_cases                         81816 non-null  float64\n 6   new_cases                           81809 non-null  float64\n 7   new_cases_smoothed                  80861 non-null  float64\n 8   total_deaths                        72206 non-null  float64\n 9   new_deaths                          72205 non-null  float64\n 10  new_deaths_smoothed                 80861 non-null  float64\n 11  total_cases_per_million             81816 non-null  float64\n 12  new_cases_per_million               81809 non-null  float64\n 13  new_cases_smoothed_per_million      80861 non-null  float64\n 14  total_deaths_per_million            72206 non-null  float64\n 15  new_deaths_per_million              72205 non-null  float64\n 16  new_deaths_smoothed_per_million     80861 non-null  float64\n 17  reproduction_rate                   70832 non-null  float64\n 18  icu_patients                        9011 non-null   float64\n 19  icu_patients_per_million            9011 non-null   float64\n 20  hosp_patients                       11223 non-null  float64\n 21  hosp_patients_per_million           11223 non-null  float64\n 22  weekly_icu_admissions               816 non-null    float64\n 23  weekly_icu_admissions_per_million   816 non-null    float64\n 24  weekly_hosp_admissions              1415 non-null   float64\n 25  weekly_hosp_admissions_per_million  1415 non-null   float64\ndtypes: float64(22), object(4)\nmemory usage: 19.5+ MB\n"
     ]
    }
   ],
   "source": [
    "countries.info()"
   ]
  },
  {
   "cell_type": "code",
   "execution_count": 161,
   "metadata": {},
   "outputs": [
    {
     "output_type": "execute_result",
     "data": {
      "text/plain": [
       "      location    population  total_cases  new_cases  new_cases_smoothed  \\\n",
       "0  Afghanistan  1.740097e+10   16102022.0    63412.0           62690.421   \n",
       "1      Albania  1.283499e+09   17918466.0   131978.0          131835.856   \n",
       "2      Algeria  1.955757e+10   25909178.0   125194.0          124670.568   \n",
       "3      Andorra  3.399660e+07    2189351.0    13510.0           13464.871   \n",
       "4       Angola  1.386957e+10    4312171.0    30354.0           29462.006   \n",
       "\n",
       "   total_deaths  new_deaths  new_deaths_smoothed  total_cases_per_million  \\\n",
       "0      629775.0      2733.0             2712.995             4.136324e+05   \n",
       "1      341764.0      2429.0             2421.449             6.226446e+06   \n",
       "2      786629.0      3366.0             3348.143             5.908452e+05   \n",
       "3       30322.0       127.0              127.026             2.833561e+07   \n",
       "4      106460.0       655.0              644.011             1.312036e+05   \n",
       "\n",
       "   new_cases_per_million  ...  new_deaths_smoothed_per_million  \\\n",
       "0               1628.952  ...                           69.683   \n",
       "1              45860.722  ...                          841.425   \n",
       "2               2854.984  ...                           76.339   \n",
       "3             174852.770  ...                         1643.730   \n",
       "4                923.558  ...                           19.596   \n",
       "\n",
       "   reproduction_rate  icu_patients  icu_patients_per_million  hosp_patients  \\\n",
       "0             430.49           0.0                       0.0            0.0   \n",
       "1             429.41           0.0                       0.0            0.0   \n",
       "2             435.82           0.0                       0.0            0.0   \n",
       "3             395.70           0.0                       0.0            0.0   \n",
       "4             364.26           0.0                       0.0            0.0   \n",
       "\n",
       "   hosp_patients_per_million  weekly_icu_admissions  \\\n",
       "0                        0.0                    0.0   \n",
       "1                        0.0                    0.0   \n",
       "2                        0.0                    0.0   \n",
       "3                        0.0                    0.0   \n",
       "4                        0.0                    0.0   \n",
       "\n",
       "   weekly_icu_admissions_per_million  weekly_hosp_admissions  \\\n",
       "0                                0.0                     0.0   \n",
       "1                                0.0                     0.0   \n",
       "2                                0.0                     0.0   \n",
       "3                                0.0                     0.0   \n",
       "4                                0.0                     0.0   \n",
       "\n",
       "   weekly_hosp_admissions_per_million  \n",
       "0                                 0.0  \n",
       "1                                 0.0  \n",
       "2                                 0.0  \n",
       "3                                 0.0  \n",
       "4                                 0.0  \n",
       "\n",
       "[5 rows x 23 columns]"
      ],
      "text/html": "<div>\n<style scoped>\n    .dataframe tbody tr th:only-of-type {\n        vertical-align: middle;\n    }\n\n    .dataframe tbody tr th {\n        vertical-align: top;\n    }\n\n    .dataframe thead th {\n        text-align: right;\n    }\n</style>\n<table border=\"1\" class=\"dataframe\">\n  <thead>\n    <tr style=\"text-align: right;\">\n      <th></th>\n      <th>location</th>\n      <th>population</th>\n      <th>total_cases</th>\n      <th>new_cases</th>\n      <th>new_cases_smoothed</th>\n      <th>total_deaths</th>\n      <th>new_deaths</th>\n      <th>new_deaths_smoothed</th>\n      <th>total_cases_per_million</th>\n      <th>new_cases_per_million</th>\n      <th>...</th>\n      <th>new_deaths_smoothed_per_million</th>\n      <th>reproduction_rate</th>\n      <th>icu_patients</th>\n      <th>icu_patients_per_million</th>\n      <th>hosp_patients</th>\n      <th>hosp_patients_per_million</th>\n      <th>weekly_icu_admissions</th>\n      <th>weekly_icu_admissions_per_million</th>\n      <th>weekly_hosp_admissions</th>\n      <th>weekly_hosp_admissions_per_million</th>\n    </tr>\n  </thead>\n  <tbody>\n    <tr>\n      <th>0</th>\n      <td>Afghanistan</td>\n      <td>1.740097e+10</td>\n      <td>16102022.0</td>\n      <td>63412.0</td>\n      <td>62690.421</td>\n      <td>629775.0</td>\n      <td>2733.0</td>\n      <td>2712.995</td>\n      <td>4.136324e+05</td>\n      <td>1628.952</td>\n      <td>...</td>\n      <td>69.683</td>\n      <td>430.49</td>\n      <td>0.0</td>\n      <td>0.0</td>\n      <td>0.0</td>\n      <td>0.0</td>\n      <td>0.0</td>\n      <td>0.0</td>\n      <td>0.0</td>\n      <td>0.0</td>\n    </tr>\n    <tr>\n      <th>1</th>\n      <td>Albania</td>\n      <td>1.283499e+09</td>\n      <td>17918466.0</td>\n      <td>131978.0</td>\n      <td>131835.856</td>\n      <td>341764.0</td>\n      <td>2429.0</td>\n      <td>2421.449</td>\n      <td>6.226446e+06</td>\n      <td>45860.722</td>\n      <td>...</td>\n      <td>841.425</td>\n      <td>429.41</td>\n      <td>0.0</td>\n      <td>0.0</td>\n      <td>0.0</td>\n      <td>0.0</td>\n      <td>0.0</td>\n      <td>0.0</td>\n      <td>0.0</td>\n      <td>0.0</td>\n    </tr>\n    <tr>\n      <th>2</th>\n      <td>Algeria</td>\n      <td>1.955757e+10</td>\n      <td>25909178.0</td>\n      <td>125194.0</td>\n      <td>124670.568</td>\n      <td>786629.0</td>\n      <td>3366.0</td>\n      <td>3348.143</td>\n      <td>5.908452e+05</td>\n      <td>2854.984</td>\n      <td>...</td>\n      <td>76.339</td>\n      <td>435.82</td>\n      <td>0.0</td>\n      <td>0.0</td>\n      <td>0.0</td>\n      <td>0.0</td>\n      <td>0.0</td>\n      <td>0.0</td>\n      <td>0.0</td>\n      <td>0.0</td>\n    </tr>\n    <tr>\n      <th>3</th>\n      <td>Andorra</td>\n      <td>3.399660e+07</td>\n      <td>2189351.0</td>\n      <td>13510.0</td>\n      <td>13464.871</td>\n      <td>30322.0</td>\n      <td>127.0</td>\n      <td>127.026</td>\n      <td>2.833561e+07</td>\n      <td>174852.770</td>\n      <td>...</td>\n      <td>1643.730</td>\n      <td>395.70</td>\n      <td>0.0</td>\n      <td>0.0</td>\n      <td>0.0</td>\n      <td>0.0</td>\n      <td>0.0</td>\n      <td>0.0</td>\n      <td>0.0</td>\n      <td>0.0</td>\n    </tr>\n    <tr>\n      <th>4</th>\n      <td>Angola</td>\n      <td>1.386957e+10</td>\n      <td>4312171.0</td>\n      <td>30354.0</td>\n      <td>29462.006</td>\n      <td>106460.0</td>\n      <td>655.0</td>\n      <td>644.011</td>\n      <td>1.312036e+05</td>\n      <td>923.558</td>\n      <td>...</td>\n      <td>19.596</td>\n      <td>364.26</td>\n      <td>0.0</td>\n      <td>0.0</td>\n      <td>0.0</td>\n      <td>0.0</td>\n      <td>0.0</td>\n      <td>0.0</td>\n      <td>0.0</td>\n      <td>0.0</td>\n    </tr>\n  </tbody>\n</table>\n<p>5 rows × 23 columns</p>\n</div>"
     },
     "metadata": {},
     "execution_count": 161
    }
   ],
   "source": [
    "countryDeaths = countries.groupby(['location']).sum().reset_index()\n",
    "\n",
    "countryDeaths.head()"
   ]
  },
  {
   "cell_type": "code",
   "execution_count": 320,
   "metadata": {},
   "outputs": [
    {
     "output_type": "execute_result",
     "data": {
      "text/plain": [
       "           location    population  total_cases  new_cases  new_cases_smoothed  \\\n",
       "166      San Marino  1.506847e+07     780680.0     5083.0            5078.994   \n",
       "18          Belgium  5.412351e+09  164363153.0  1030071.0         1023291.860   \n",
       "3           Andorra  3.399660e+07    2189351.0    13510.0           13464.871   \n",
       "96            Italy  2.847752e+10  578070475.0  4153374.0         4131578.731   \n",
       "205  United Kingdom  3.197431e+10  720458859.0  4464663.0         4457767.284   \n",
       "\n",
       "     total_deaths  new_deaths  new_deaths_smoothed  total_cases_per_million  \\\n",
       "166       22398.0        90.0               90.028             2.300312e+07   \n",
       "18      5944960.0     24686.0            24623.996             1.418193e+07   \n",
       "3         30322.0       127.0              127.026             2.833561e+07   \n",
       "96     24248908.0    124063.0           123489.284             9.560916e+06   \n",
       "205    27137026.0    127937.0           127900.707             1.061277e+07   \n",
       "\n",
       "     new_cases_per_million  ...  icu_patients  icu_patients_per_million  \\\n",
       "166             149773.083  ...           0.0                     0.000   \n",
       "18               88878.799  ...      204463.0                 17641.909   \n",
       "3               174852.770  ...           0.0                     0.000   \n",
       "96               68694.147  ...      762641.0                 12613.592   \n",
       "205              65767.067  ...      480270.0                  7074.654   \n",
       "\n",
       "     hosp_patients  hosp_patients_per_million  weekly_icu_admissions  \\\n",
       "166            0.0                      0.000                    0.0   \n",
       "18        925889.0                  79889.530                    0.0   \n",
       "3              0.0                      0.000                    0.0   \n",
       "96       7381414.0                 122083.869                    0.0   \n",
       "205      4501433.0                  66308.710                    0.0   \n",
       "\n",
       "     weekly_icu_admissions_per_million  weekly_hosp_admissions  \\\n",
       "166                                0.0                    0.00   \n",
       "18                                 0.0                72111.98   \n",
       "3                                  0.0                    0.00   \n",
       "96                                 0.0               399372.65   \n",
       "205                                0.0               460766.00   \n",
       "\n",
       "     weekly_hosp_admissions_per_million  deaths_population  percentage_deaths  \n",
       "166                               0.000           0.148641           0.003891  \n",
       "18                             6222.123           0.109841           1.032717  \n",
       "3                                 0.000           0.089191           0.005267  \n",
       "96                             6605.368           0.085151           4.212350  \n",
       "205                            6787.350           0.084871           4.714054  \n",
       "\n",
       "[5 rows x 25 columns]"
      ],
      "text/html": "<div>\n<style scoped>\n    .dataframe tbody tr th:only-of-type {\n        vertical-align: middle;\n    }\n\n    .dataframe tbody tr th {\n        vertical-align: top;\n    }\n\n    .dataframe thead th {\n        text-align: right;\n    }\n</style>\n<table border=\"1\" class=\"dataframe\">\n  <thead>\n    <tr style=\"text-align: right;\">\n      <th></th>\n      <th>location</th>\n      <th>population</th>\n      <th>total_cases</th>\n      <th>new_cases</th>\n      <th>new_cases_smoothed</th>\n      <th>total_deaths</th>\n      <th>new_deaths</th>\n      <th>new_deaths_smoothed</th>\n      <th>total_cases_per_million</th>\n      <th>new_cases_per_million</th>\n      <th>...</th>\n      <th>icu_patients</th>\n      <th>icu_patients_per_million</th>\n      <th>hosp_patients</th>\n      <th>hosp_patients_per_million</th>\n      <th>weekly_icu_admissions</th>\n      <th>weekly_icu_admissions_per_million</th>\n      <th>weekly_hosp_admissions</th>\n      <th>weekly_hosp_admissions_per_million</th>\n      <th>deaths_population</th>\n      <th>percentage_deaths</th>\n    </tr>\n  </thead>\n  <tbody>\n    <tr>\n      <th>166</th>\n      <td>San Marino</td>\n      <td>1.506847e+07</td>\n      <td>780680.0</td>\n      <td>5083.0</td>\n      <td>5078.994</td>\n      <td>22398.0</td>\n      <td>90.0</td>\n      <td>90.028</td>\n      <td>2.300312e+07</td>\n      <td>149773.083</td>\n      <td>...</td>\n      <td>0.0</td>\n      <td>0.000</td>\n      <td>0.0</td>\n      <td>0.000</td>\n      <td>0.0</td>\n      <td>0.0</td>\n      <td>0.00</td>\n      <td>0.000</td>\n      <td>0.148641</td>\n      <td>0.003891</td>\n    </tr>\n    <tr>\n      <th>18</th>\n      <td>Belgium</td>\n      <td>5.412351e+09</td>\n      <td>164363153.0</td>\n      <td>1030071.0</td>\n      <td>1023291.860</td>\n      <td>5944960.0</td>\n      <td>24686.0</td>\n      <td>24623.996</td>\n      <td>1.418193e+07</td>\n      <td>88878.799</td>\n      <td>...</td>\n      <td>204463.0</td>\n      <td>17641.909</td>\n      <td>925889.0</td>\n      <td>79889.530</td>\n      <td>0.0</td>\n      <td>0.0</td>\n      <td>72111.98</td>\n      <td>6222.123</td>\n      <td>0.109841</td>\n      <td>1.032717</td>\n    </tr>\n    <tr>\n      <th>3</th>\n      <td>Andorra</td>\n      <td>3.399660e+07</td>\n      <td>2189351.0</td>\n      <td>13510.0</td>\n      <td>13464.871</td>\n      <td>30322.0</td>\n      <td>127.0</td>\n      <td>127.026</td>\n      <td>2.833561e+07</td>\n      <td>174852.770</td>\n      <td>...</td>\n      <td>0.0</td>\n      <td>0.000</td>\n      <td>0.0</td>\n      <td>0.000</td>\n      <td>0.0</td>\n      <td>0.0</td>\n      <td>0.00</td>\n      <td>0.000</td>\n      <td>0.089191</td>\n      <td>0.005267</td>\n    </tr>\n    <tr>\n      <th>96</th>\n      <td>Italy</td>\n      <td>2.847752e+10</td>\n      <td>578070475.0</td>\n      <td>4153374.0</td>\n      <td>4131578.731</td>\n      <td>24248908.0</td>\n      <td>124063.0</td>\n      <td>123489.284</td>\n      <td>9.560916e+06</td>\n      <td>68694.147</td>\n      <td>...</td>\n      <td>762641.0</td>\n      <td>12613.592</td>\n      <td>7381414.0</td>\n      <td>122083.869</td>\n      <td>0.0</td>\n      <td>0.0</td>\n      <td>399372.65</td>\n      <td>6605.368</td>\n      <td>0.085151</td>\n      <td>4.212350</td>\n    </tr>\n    <tr>\n      <th>205</th>\n      <td>United Kingdom</td>\n      <td>3.197431e+10</td>\n      <td>720458859.0</td>\n      <td>4464663.0</td>\n      <td>4457767.284</td>\n      <td>27137026.0</td>\n      <td>127937.0</td>\n      <td>127900.707</td>\n      <td>1.061277e+07</td>\n      <td>65767.067</td>\n      <td>...</td>\n      <td>480270.0</td>\n      <td>7074.654</td>\n      <td>4501433.0</td>\n      <td>66308.710</td>\n      <td>0.0</td>\n      <td>0.0</td>\n      <td>460766.00</td>\n      <td>6787.350</td>\n      <td>0.084871</td>\n      <td>4.714054</td>\n    </tr>\n  </tbody>\n</table>\n<p>5 rows × 25 columns</p>\n</div>"
     },
     "metadata": {},
     "execution_count": 320
    }
   ],
   "source": [
    "countryDeaths['deaths_population'] = (countryDeaths['total_deaths']/countryDeaths['population'])*100\n",
    "countryDeaths.sort_values(\"deaths_population\", ascending = False, inplace=True)\n",
    "morePercentage = countryDeaths.head(10)\n",
    "morePercentage.head()"
   ]
  },
  {
   "cell_type": "code",
   "execution_count": 349,
   "metadata": {},
   "outputs": [
    {
     "output_type": "display_data",
     "data": {
      "application/vnd.plotly.v1+json": {
       "config": {
        "plotlyServerURL": "https://plot.ly"
       },
       "data": [
        {
         "alignmentgroup": "True",
         "hovertemplate": "<b>%{hovertext}</b><br><br>deaths_population=%{y:.2f}<extra></extra>",
         "hovertext": [
          "San Marino"
         ],
         "legendgroup": "San Marino",
         "marker": {
          "color": "#0d0887",
          "opacity": 0.7
         },
         "name": "San Marino",
         "offsetgroup": "San Marino",
         "orientation": "v",
         "showlegend": true,
         "textposition": "auto",
         "type": "bar",
         "x": [
          "San Marino"
         ],
         "xaxis": "x",
         "y": [
          0.1486414813658611
         ],
         "yaxis": "y"
        },
        {
         "alignmentgroup": "True",
         "hovertemplate": "<b>%{hovertext}</b><br><br>deaths_population=%{y:.2f}<extra></extra>",
         "hovertext": [
          "Belgium"
         ],
         "legendgroup": "Belgium",
         "marker": {
          "color": "#46039f",
          "opacity": 0.7
         },
         "name": "Belgium",
         "offsetgroup": "Belgium",
         "orientation": "v",
         "showlegend": true,
         "textposition": "auto",
         "type": "bar",
         "x": [
          "Belgium"
         ],
         "xaxis": "x",
         "y": [
          0.10984062859702302
         ],
         "yaxis": "y"
        },
        {
         "alignmentgroup": "True",
         "hovertemplate": "<b>%{hovertext}</b><br><br>deaths_population=%{y:.2f}<extra></extra>",
         "hovertext": [
          "Andorra"
         ],
         "legendgroup": "Andorra",
         "marker": {
          "color": "#7201a8",
          "opacity": 0.7
         },
         "name": "Andorra",
         "offsetgroup": "Andorra",
         "orientation": "v",
         "showlegend": true,
         "textposition": "auto",
         "type": "bar",
         "x": [
          "Andorra"
         ],
         "xaxis": "x",
         "y": [
          0.0891912720683833
         ],
         "yaxis": "y"
        },
        {
         "alignmentgroup": "True",
         "hovertemplate": "<b>%{hovertext}</b><br><br>deaths_population=%{y:.2f}<extra></extra>",
         "hovertext": [
          "Italy"
         ],
         "legendgroup": "Italy",
         "marker": {
          "color": "#9c179e",
          "opacity": 0.7
         },
         "name": "Italy",
         "offsetgroup": "Italy",
         "orientation": "v",
         "showlegend": true,
         "textposition": "auto",
         "type": "bar",
         "x": [
          "Italy"
         ],
         "xaxis": "x",
         "y": [
          0.08515104952505566
         ],
         "yaxis": "y"
        },
        {
         "alignmentgroup": "True",
         "hovertemplate": "<b>%{hovertext}</b><br><br>deaths_population=%{y:.2f}<extra></extra>",
         "hovertext": [
          "United Kingdom"
         ],
         "legendgroup": "United Kingdom",
         "marker": {
          "color": "#bd3786",
          "opacity": 0.7
         },
         "name": "United Kingdom",
         "offsetgroup": "United Kingdom",
         "orientation": "v",
         "showlegend": true,
         "textposition": "auto",
         "type": "bar",
         "x": [
          "United Kingdom"
         ],
         "xaxis": "x",
         "y": [
          0.08487134764089581
         ],
         "yaxis": "y"
        },
        {
         "alignmentgroup": "True",
         "hovertemplate": "<b>%{hovertext}</b><br><br>deaths_population=%{y:.2f}<extra></extra>",
         "hovertext": [
          "Spain"
         ],
         "legendgroup": "Spain",
         "marker": {
          "color": "#d8576b",
          "opacity": 0.7
         },
         "name": "Spain",
         "offsetgroup": "Spain",
         "orientation": "v",
         "showlegend": true,
         "textposition": "auto",
         "type": "bar",
         "x": [
          "Spain"
         ],
         "xaxis": "x",
         "y": [
          0.08168354418367686
         ],
         "yaxis": "y"
        },
        {
         "alignmentgroup": "True",
         "hovertemplate": "<b>%{hovertext}</b><br><br>deaths_population=%{y:.2f}<extra></extra>",
         "hovertext": [
          "Czechia"
         ],
         "legendgroup": "Czechia",
         "marker": {
          "color": "#ed7953",
          "opacity": 0.7
         },
         "name": "Czechia",
         "offsetgroup": "Czechia",
         "orientation": "v",
         "showlegend": true,
         "textposition": "auto",
         "type": "bar",
         "x": [
          "Czechia"
         ],
         "xaxis": "x",
         "y": [
          0.07557455326867156
         ],
         "yaxis": "y"
        },
        {
         "alignmentgroup": "True",
         "hovertemplate": "<b>%{hovertext}</b><br><br>deaths_population=%{y:.2f}<extra></extra>",
         "hovertext": [
          "Peru"
         ],
         "legendgroup": "Peru",
         "marker": {
          "color": "#fb9f3a",
          "opacity": 0.7
         },
         "name": "Peru",
         "offsetgroup": "Peru",
         "orientation": "v",
         "showlegend": true,
         "textposition": "auto",
         "type": "bar",
         "x": [
          "Peru"
         ],
         "xaxis": "x",
         "y": [
          0.07488801105470211
         ],
         "yaxis": "y"
        },
        {
         "alignmentgroup": "True",
         "hovertemplate": "<b>%{hovertext}</b><br><br>deaths_population=%{y:.2f}<extra></extra>",
         "hovertext": [
          "Bosnia and Herzegovina"
         ],
         "legendgroup": "Bosnia and Herzegovina",
         "marker": {
          "color": "#fdca26",
          "opacity": 0.7
         },
         "name": "Bosnia and Herzegovina",
         "offsetgroup": "Bosnia and Herzegovina",
         "orientation": "v",
         "showlegend": true,
         "textposition": "auto",
         "type": "bar",
         "x": [
          "Bosnia and Herzegovina"
         ],
         "xaxis": "x",
         "y": [
          0.07417249197418718
         ],
         "yaxis": "y"
        },
        {
         "alignmentgroup": "True",
         "hovertemplate": "<b>%{hovertext}</b><br><br>deaths_population=%{y:.2f}<extra></extra>",
         "hovertext": [
          "Montenegro"
         ],
         "legendgroup": "Montenegro",
         "marker": {
          "color": "#f0f921",
          "opacity": 0.7
         },
         "name": "Montenegro",
         "offsetgroup": "Montenegro",
         "orientation": "v",
         "showlegend": true,
         "textposition": "auto",
         "type": "bar",
         "x": [
          "Montenegro"
         ],
         "xaxis": "x",
         "y": [
          0.07277625457359306
         ],
         "yaxis": "y"
        }
       ],
       "layout": {
        "barmode": "relative",
        "legend": {
         "title": {
          "text": "location"
         },
         "tracegroupgap": 0
        },
        "margin": {
         "t": 60
        },
        "template": {
         "data": {
          "bar": [
           {
            "error_x": {
             "color": "#2a3f5f"
            },
            "error_y": {
             "color": "#2a3f5f"
            },
            "marker": {
             "line": {
              "color": "#E5ECF6",
              "width": 0.5
             }
            },
            "type": "bar"
           }
          ],
          "barpolar": [
           {
            "marker": {
             "line": {
              "color": "#E5ECF6",
              "width": 0.5
             }
            },
            "type": "barpolar"
           }
          ],
          "carpet": [
           {
            "aaxis": {
             "endlinecolor": "#2a3f5f",
             "gridcolor": "white",
             "linecolor": "white",
             "minorgridcolor": "white",
             "startlinecolor": "#2a3f5f"
            },
            "baxis": {
             "endlinecolor": "#2a3f5f",
             "gridcolor": "white",
             "linecolor": "white",
             "minorgridcolor": "white",
             "startlinecolor": "#2a3f5f"
            },
            "type": "carpet"
           }
          ],
          "choropleth": [
           {
            "colorbar": {
             "outlinewidth": 0,
             "ticks": ""
            },
            "type": "choropleth"
           }
          ],
          "contour": [
           {
            "colorbar": {
             "outlinewidth": 0,
             "ticks": ""
            },
            "colorscale": [
             [
              0,
              "#0d0887"
             ],
             [
              0.1111111111111111,
              "#46039f"
             ],
             [
              0.2222222222222222,
              "#7201a8"
             ],
             [
              0.3333333333333333,
              "#9c179e"
             ],
             [
              0.4444444444444444,
              "#bd3786"
             ],
             [
              0.5555555555555556,
              "#d8576b"
             ],
             [
              0.6666666666666666,
              "#ed7953"
             ],
             [
              0.7777777777777778,
              "#fb9f3a"
             ],
             [
              0.8888888888888888,
              "#fdca26"
             ],
             [
              1,
              "#f0f921"
             ]
            ],
            "type": "contour"
           }
          ],
          "contourcarpet": [
           {
            "colorbar": {
             "outlinewidth": 0,
             "ticks": ""
            },
            "type": "contourcarpet"
           }
          ],
          "heatmap": [
           {
            "colorbar": {
             "outlinewidth": 0,
             "ticks": ""
            },
            "colorscale": [
             [
              0,
              "#0d0887"
             ],
             [
              0.1111111111111111,
              "#46039f"
             ],
             [
              0.2222222222222222,
              "#7201a8"
             ],
             [
              0.3333333333333333,
              "#9c179e"
             ],
             [
              0.4444444444444444,
              "#bd3786"
             ],
             [
              0.5555555555555556,
              "#d8576b"
             ],
             [
              0.6666666666666666,
              "#ed7953"
             ],
             [
              0.7777777777777778,
              "#fb9f3a"
             ],
             [
              0.8888888888888888,
              "#fdca26"
             ],
             [
              1,
              "#f0f921"
             ]
            ],
            "type": "heatmap"
           }
          ],
          "heatmapgl": [
           {
            "colorbar": {
             "outlinewidth": 0,
             "ticks": ""
            },
            "colorscale": [
             [
              0,
              "#0d0887"
             ],
             [
              0.1111111111111111,
              "#46039f"
             ],
             [
              0.2222222222222222,
              "#7201a8"
             ],
             [
              0.3333333333333333,
              "#9c179e"
             ],
             [
              0.4444444444444444,
              "#bd3786"
             ],
             [
              0.5555555555555556,
              "#d8576b"
             ],
             [
              0.6666666666666666,
              "#ed7953"
             ],
             [
              0.7777777777777778,
              "#fb9f3a"
             ],
             [
              0.8888888888888888,
              "#fdca26"
             ],
             [
              1,
              "#f0f921"
             ]
            ],
            "type": "heatmapgl"
           }
          ],
          "histogram": [
           {
            "marker": {
             "colorbar": {
              "outlinewidth": 0,
              "ticks": ""
             }
            },
            "type": "histogram"
           }
          ],
          "histogram2d": [
           {
            "colorbar": {
             "outlinewidth": 0,
             "ticks": ""
            },
            "colorscale": [
             [
              0,
              "#0d0887"
             ],
             [
              0.1111111111111111,
              "#46039f"
             ],
             [
              0.2222222222222222,
              "#7201a8"
             ],
             [
              0.3333333333333333,
              "#9c179e"
             ],
             [
              0.4444444444444444,
              "#bd3786"
             ],
             [
              0.5555555555555556,
              "#d8576b"
             ],
             [
              0.6666666666666666,
              "#ed7953"
             ],
             [
              0.7777777777777778,
              "#fb9f3a"
             ],
             [
              0.8888888888888888,
              "#fdca26"
             ],
             [
              1,
              "#f0f921"
             ]
            ],
            "type": "histogram2d"
           }
          ],
          "histogram2dcontour": [
           {
            "colorbar": {
             "outlinewidth": 0,
             "ticks": ""
            },
            "colorscale": [
             [
              0,
              "#0d0887"
             ],
             [
              0.1111111111111111,
              "#46039f"
             ],
             [
              0.2222222222222222,
              "#7201a8"
             ],
             [
              0.3333333333333333,
              "#9c179e"
             ],
             [
              0.4444444444444444,
              "#bd3786"
             ],
             [
              0.5555555555555556,
              "#d8576b"
             ],
             [
              0.6666666666666666,
              "#ed7953"
             ],
             [
              0.7777777777777778,
              "#fb9f3a"
             ],
             [
              0.8888888888888888,
              "#fdca26"
             ],
             [
              1,
              "#f0f921"
             ]
            ],
            "type": "histogram2dcontour"
           }
          ],
          "mesh3d": [
           {
            "colorbar": {
             "outlinewidth": 0,
             "ticks": ""
            },
            "type": "mesh3d"
           }
          ],
          "parcoords": [
           {
            "line": {
             "colorbar": {
              "outlinewidth": 0,
              "ticks": ""
             }
            },
            "type": "parcoords"
           }
          ],
          "pie": [
           {
            "automargin": true,
            "type": "pie"
           }
          ],
          "scatter": [
           {
            "marker": {
             "colorbar": {
              "outlinewidth": 0,
              "ticks": ""
             }
            },
            "type": "scatter"
           }
          ],
          "scatter3d": [
           {
            "line": {
             "colorbar": {
              "outlinewidth": 0,
              "ticks": ""
             }
            },
            "marker": {
             "colorbar": {
              "outlinewidth": 0,
              "ticks": ""
             }
            },
            "type": "scatter3d"
           }
          ],
          "scattercarpet": [
           {
            "marker": {
             "colorbar": {
              "outlinewidth": 0,
              "ticks": ""
             }
            },
            "type": "scattercarpet"
           }
          ],
          "scattergeo": [
           {
            "marker": {
             "colorbar": {
              "outlinewidth": 0,
              "ticks": ""
             }
            },
            "type": "scattergeo"
           }
          ],
          "scattergl": [
           {
            "marker": {
             "colorbar": {
              "outlinewidth": 0,
              "ticks": ""
             }
            },
            "type": "scattergl"
           }
          ],
          "scattermapbox": [
           {
            "marker": {
             "colorbar": {
              "outlinewidth": 0,
              "ticks": ""
             }
            },
            "type": "scattermapbox"
           }
          ],
          "scatterpolar": [
           {
            "marker": {
             "colorbar": {
              "outlinewidth": 0,
              "ticks": ""
             }
            },
            "type": "scatterpolar"
           }
          ],
          "scatterpolargl": [
           {
            "marker": {
             "colorbar": {
              "outlinewidth": 0,
              "ticks": ""
             }
            },
            "type": "scatterpolargl"
           }
          ],
          "scatterternary": [
           {
            "marker": {
             "colorbar": {
              "outlinewidth": 0,
              "ticks": ""
             }
            },
            "type": "scatterternary"
           }
          ],
          "surface": [
           {
            "colorbar": {
             "outlinewidth": 0,
             "ticks": ""
            },
            "colorscale": [
             [
              0,
              "#0d0887"
             ],
             [
              0.1111111111111111,
              "#46039f"
             ],
             [
              0.2222222222222222,
              "#7201a8"
             ],
             [
              0.3333333333333333,
              "#9c179e"
             ],
             [
              0.4444444444444444,
              "#bd3786"
             ],
             [
              0.5555555555555556,
              "#d8576b"
             ],
             [
              0.6666666666666666,
              "#ed7953"
             ],
             [
              0.7777777777777778,
              "#fb9f3a"
             ],
             [
              0.8888888888888888,
              "#fdca26"
             ],
             [
              1,
              "#f0f921"
             ]
            ],
            "type": "surface"
           }
          ],
          "table": [
           {
            "cells": {
             "fill": {
              "color": "#EBF0F8"
             },
             "line": {
              "color": "white"
             }
            },
            "header": {
             "fill": {
              "color": "#C8D4E3"
             },
             "line": {
              "color": "white"
             }
            },
            "type": "table"
           }
          ]
         },
         "layout": {
          "annotationdefaults": {
           "arrowcolor": "#2a3f5f",
           "arrowhead": 0,
           "arrowwidth": 1
          },
          "autotypenumbers": "strict",
          "coloraxis": {
           "colorbar": {
            "outlinewidth": 0,
            "ticks": ""
           }
          },
          "colorscale": {
           "diverging": [
            [
             0,
             "#8e0152"
            ],
            [
             0.1,
             "#c51b7d"
            ],
            [
             0.2,
             "#de77ae"
            ],
            [
             0.3,
             "#f1b6da"
            ],
            [
             0.4,
             "#fde0ef"
            ],
            [
             0.5,
             "#f7f7f7"
            ],
            [
             0.6,
             "#e6f5d0"
            ],
            [
             0.7,
             "#b8e186"
            ],
            [
             0.8,
             "#7fbc41"
            ],
            [
             0.9,
             "#4d9221"
            ],
            [
             1,
             "#276419"
            ]
           ],
           "sequential": [
            [
             0,
             "#0d0887"
            ],
            [
             0.1111111111111111,
             "#46039f"
            ],
            [
             0.2222222222222222,
             "#7201a8"
            ],
            [
             0.3333333333333333,
             "#9c179e"
            ],
            [
             0.4444444444444444,
             "#bd3786"
            ],
            [
             0.5555555555555556,
             "#d8576b"
            ],
            [
             0.6666666666666666,
             "#ed7953"
            ],
            [
             0.7777777777777778,
             "#fb9f3a"
            ],
            [
             0.8888888888888888,
             "#fdca26"
            ],
            [
             1,
             "#f0f921"
            ]
           ],
           "sequentialminus": [
            [
             0,
             "#0d0887"
            ],
            [
             0.1111111111111111,
             "#46039f"
            ],
            [
             0.2222222222222222,
             "#7201a8"
            ],
            [
             0.3333333333333333,
             "#9c179e"
            ],
            [
             0.4444444444444444,
             "#bd3786"
            ],
            [
             0.5555555555555556,
             "#d8576b"
            ],
            [
             0.6666666666666666,
             "#ed7953"
            ],
            [
             0.7777777777777778,
             "#fb9f3a"
            ],
            [
             0.8888888888888888,
             "#fdca26"
            ],
            [
             1,
             "#f0f921"
            ]
           ]
          },
          "colorway": [
           "#636efa",
           "#EF553B",
           "#00cc96",
           "#ab63fa",
           "#FFA15A",
           "#19d3f3",
           "#FF6692",
           "#B6E880",
           "#FF97FF",
           "#FECB52"
          ],
          "font": {
           "color": "#2a3f5f"
          },
          "geo": {
           "bgcolor": "white",
           "lakecolor": "white",
           "landcolor": "#E5ECF6",
           "showlakes": true,
           "showland": true,
           "subunitcolor": "white"
          },
          "hoverlabel": {
           "align": "left"
          },
          "hovermode": "closest",
          "mapbox": {
           "style": "light"
          },
          "paper_bgcolor": "white",
          "plot_bgcolor": "#E5ECF6",
          "polar": {
           "angularaxis": {
            "gridcolor": "white",
            "linecolor": "white",
            "ticks": ""
           },
           "bgcolor": "#E5ECF6",
           "radialaxis": {
            "gridcolor": "white",
            "linecolor": "white",
            "ticks": ""
           }
          },
          "scene": {
           "xaxis": {
            "backgroundcolor": "#E5ECF6",
            "gridcolor": "white",
            "gridwidth": 2,
            "linecolor": "white",
            "showbackground": true,
            "ticks": "",
            "zerolinecolor": "white"
           },
           "yaxis": {
            "backgroundcolor": "#E5ECF6",
            "gridcolor": "white",
            "gridwidth": 2,
            "linecolor": "white",
            "showbackground": true,
            "ticks": "",
            "zerolinecolor": "white"
           },
           "zaxis": {
            "backgroundcolor": "#E5ECF6",
            "gridcolor": "white",
            "gridwidth": 2,
            "linecolor": "white",
            "showbackground": true,
            "ticks": "",
            "zerolinecolor": "white"
           }
          },
          "shapedefaults": {
           "line": {
            "color": "#2a3f5f"
           }
          },
          "ternary": {
           "aaxis": {
            "gridcolor": "white",
            "linecolor": "white",
            "ticks": ""
           },
           "baxis": {
            "gridcolor": "white",
            "linecolor": "white",
            "ticks": ""
           },
           "bgcolor": "#E5ECF6",
           "caxis": {
            "gridcolor": "white",
            "linecolor": "white",
            "ticks": ""
           }
          },
          "title": {
           "x": 0.05
          },
          "xaxis": {
           "automargin": true,
           "gridcolor": "white",
           "linecolor": "white",
           "ticks": "",
           "title": {
            "standoff": 15
           },
           "zerolinecolor": "white",
           "zerolinewidth": 2
          },
          "yaxis": {
           "automargin": true,
           "gridcolor": "white",
           "linecolor": "white",
           "ticks": "",
           "title": {
            "standoff": 15
           },
           "zerolinecolor": "white",
           "zerolinewidth": 2
          }
         }
        },
        "title": {
         "text": "Top 10 Countries with more percentage of deaths per population in the world"
        },
        "uniformtext": {
         "minsize": 6
        },
        "xaxis": {
         "anchor": "y",
         "categoryarray": [
          "San Marino",
          "Belgium",
          "Andorra",
          "Italy",
          "United Kingdom",
          "Spain",
          "Czechia",
          "Peru",
          "Bosnia and Herzegovina",
          "Montenegro"
         ],
         "categoryorder": "array",
         "domain": [
          0,
          1
         ],
         "tickangle": -45,
         "title": {
          "text": "location"
         }
        },
        "yaxis": {
         "anchor": "x",
         "domain": [
          0,
          1
         ],
         "title": {
          "text": "deaths_population"
         }
        }
       }
      }
     },
     "metadata": {}
    }
   ],
   "source": [
    "fig1 = px.bar(morePercentage, y = \"deaths_population\", x = \"location\", color = \"location\", color_discrete_sequence=px.colors.sequential.Plasma,  hover_name=\"location\", hover_data={\"deaths_population\":':.2f', \"location\":False}, opacity = 0.7)\n",
    "#set fontsize and uniformText\n",
    "fig1.update_layout(uniformtext_minsize = 6)\n",
    "#rotate label 45 degrees\n",
    "fig1.update_layout(xaxis_tickangle=-45)\n",
    "#fig.update_layout(legend_title_text='confirmed (Covid-19)')\n",
    "fig1.update_layout(title_text='Top 10 Countries with more percentage of deaths per population in the world')\n",
    "\n",
    "\n",
    "#fig1.show()"
   ]
  },
  {
   "cell_type": "code",
   "execution_count": 309,
   "metadata": {},
   "outputs": [],
   "source": [
    "countryDeaths['percentage_deaths'] = (countryDeaths['total_deaths']/countryDeaths['total_deaths'].sum())*100\n",
    "countryDeaths.sort_values(\"percentage_of_deaths\", ascending = False, inplace=True)\n",
    "morePercentage = countryDeaths.head(10)\n",
    "countryDeaths.sort_values(\"total_deaths\", ascending = False, inplace=True)\n",
    "moreDeaths = countryDeaths.head(10)"
   ]
  },
  {
   "cell_type": "code",
   "execution_count": 311,
   "metadata": {},
   "outputs": [],
   "source": [
    "countryDeaths.drop(columns=['percentage_of_deaths'], inplace=True)"
   ]
  },
  {
   "cell_type": "code",
   "execution_count": 312,
   "metadata": {},
   "outputs": [
    {
     "output_type": "execute_result",
     "data": {
      "text/plain": [
       "           location    population   total_cases   new_cases  \\\n",
       "206   United States  1.588813e+11  5.584227e+09  32923981.0   \n",
       "27           Brazil  9.458894e+10  2.429000e+09  15586534.0   \n",
       "89            India  6.513621e+11  2.855231e+09  24684077.0   \n",
       "125          Mexico  6.459531e+10  4.269358e+08   2380690.0   \n",
       "205  United Kingdom  3.197431e+10  7.204589e+08   4464663.0   \n",
       "96            Italy  2.847752e+10  5.780705e+08   4153374.0   \n",
       "68           France  3.229571e+10  7.744676e+08   5925071.0   \n",
       "182           Spain  2.197475e+10  5.980286e+08   3604799.0   \n",
       "159          Russia  6.873513e+10  8.613979e+08   4875308.0   \n",
       "91             Iran  3.796481e+10  3.613246e+08   2739875.0   \n",
       "\n",
       "     new_cases_smoothed  total_deaths  new_deaths  new_deaths_smoothed  \\\n",
       "206        3.281704e+07   115343605.0    585708.0           583693.708   \n",
       "27         1.536813e+07    66350782.0    434715.0           428129.004   \n",
       "89         2.368621e+07    40213539.0    270284.0           258204.294   \n",
       "125        2.372278e+06    39903297.0    220384.0           219633.011   \n",
       "205        4.457767e+06    27137026.0    127937.0           127900.707   \n",
       "96         4.131579e+06    24248908.0    124063.0           123489.284   \n",
       "68         5.880134e+06    21199036.0    107696.0           107209.283   \n",
       "182        3.590847e+06    17949753.0     79339.0            79136.295   \n",
       "159        4.849545e+06    16735348.0    113541.0           112450.853   \n",
       "91         2.703012e+06    14645970.0     76633.0            75849.863   \n",
       "\n",
       "     total_cases_per_million  new_cases_per_million  ...  icu_patients  \\\n",
       "206             1.687064e+07              99467.422  ...     4372021.0   \n",
       "27              1.142739e+07              73327.891  ...           0.0   \n",
       "89              2.069002e+06              17886.953  ...           0.0   \n",
       "125             3.311306e+06              18464.591  ...           0.0   \n",
       "205             1.061277e+07              65767.067  ...      480270.0   \n",
       "96              9.560916e+06              68694.147  ...      762641.0   \n",
       "68              1.146268e+07              87695.350  ...     1178465.0   \n",
       "182             1.279075e+07              77100.107  ...      426781.0   \n",
       "159             5.902636e+06              33407.518  ...           0.0   \n",
       "91              4.301844e+06              32620.296  ...           0.0   \n",
       "\n",
       "     icu_patients_per_million  hosp_patients  hosp_patients_per_million  \\\n",
       "206                 13208.403     17373815.0                  52488.450   \n",
       "27                      0.000            0.0                      0.000   \n",
       "89                      0.000            0.0                      0.000   \n",
       "125                     0.000            0.0                      0.000   \n",
       "205                  7074.654      4501433.0                  66308.710   \n",
       "96                  12613.592      7381414.0                 122083.869   \n",
       "68                  17442.142      8064222.0                 119356.354   \n",
       "182                  9128.067      2476974.0                  52977.988   \n",
       "159                     0.000            0.0                      0.000   \n",
       "91                      0.000            0.0                      0.000   \n",
       "\n",
       "     weekly_icu_admissions  weekly_icu_admissions_per_million  \\\n",
       "206                  0.000                              0.000   \n",
       "27                   0.000                              0.000   \n",
       "89                   0.000                              0.000   \n",
       "125                  0.000                              0.000   \n",
       "205                  0.000                              0.000   \n",
       "96                   0.000                              0.000   \n",
       "68               81110.960                           1200.499   \n",
       "182              32563.558                            696.474   \n",
       "159                  0.000                              0.000   \n",
       "91                   0.000                              0.000   \n",
       "\n",
       "     weekly_hosp_admissions  weekly_hosp_admissions_per_million  \\\n",
       "206             2310612.000                            6980.644   \n",
       "27                    0.000                               0.000   \n",
       "89                    0.000                               0.000   \n",
       "125                   0.000                               0.000   \n",
       "205              460766.000                            6787.350   \n",
       "96               399372.650                            6605.368   \n",
       "68               440537.170                            6520.272   \n",
       "182              349458.131                            7474.280   \n",
       "159                   0.000                               0.000   \n",
       "91                    0.000                               0.000   \n",
       "\n",
       "     deaths_population  percentage_deaths  \n",
       "206           0.072597          20.036681  \n",
       "27            0.070146          11.525992  \n",
       "89            0.006174           6.985614  \n",
       "125           0.061774           6.931721  \n",
       "205           0.084871           4.714054  \n",
       "96            0.085151           4.212350  \n",
       "68            0.065640           3.682548  \n",
       "182           0.081684           3.118105  \n",
       "159           0.024348           2.907147  \n",
       "91            0.038578           2.544195  \n",
       "\n",
       "[10 rows x 25 columns]"
      ],
      "text/html": "<div>\n<style scoped>\n    .dataframe tbody tr th:only-of-type {\n        vertical-align: middle;\n    }\n\n    .dataframe tbody tr th {\n        vertical-align: top;\n    }\n\n    .dataframe thead th {\n        text-align: right;\n    }\n</style>\n<table border=\"1\" class=\"dataframe\">\n  <thead>\n    <tr style=\"text-align: right;\">\n      <th></th>\n      <th>location</th>\n      <th>population</th>\n      <th>total_cases</th>\n      <th>new_cases</th>\n      <th>new_cases_smoothed</th>\n      <th>total_deaths</th>\n      <th>new_deaths</th>\n      <th>new_deaths_smoothed</th>\n      <th>total_cases_per_million</th>\n      <th>new_cases_per_million</th>\n      <th>...</th>\n      <th>icu_patients</th>\n      <th>icu_patients_per_million</th>\n      <th>hosp_patients</th>\n      <th>hosp_patients_per_million</th>\n      <th>weekly_icu_admissions</th>\n      <th>weekly_icu_admissions_per_million</th>\n      <th>weekly_hosp_admissions</th>\n      <th>weekly_hosp_admissions_per_million</th>\n      <th>deaths_population</th>\n      <th>percentage_deaths</th>\n    </tr>\n  </thead>\n  <tbody>\n    <tr>\n      <th>206</th>\n      <td>United States</td>\n      <td>1.588813e+11</td>\n      <td>5.584227e+09</td>\n      <td>32923981.0</td>\n      <td>3.281704e+07</td>\n      <td>115343605.0</td>\n      <td>585708.0</td>\n      <td>583693.708</td>\n      <td>1.687064e+07</td>\n      <td>99467.422</td>\n      <td>...</td>\n      <td>4372021.0</td>\n      <td>13208.403</td>\n      <td>17373815.0</td>\n      <td>52488.450</td>\n      <td>0.000</td>\n      <td>0.000</td>\n      <td>2310612.000</td>\n      <td>6980.644</td>\n      <td>0.072597</td>\n      <td>20.036681</td>\n    </tr>\n    <tr>\n      <th>27</th>\n      <td>Brazil</td>\n      <td>9.458894e+10</td>\n      <td>2.429000e+09</td>\n      <td>15586534.0</td>\n      <td>1.536813e+07</td>\n      <td>66350782.0</td>\n      <td>434715.0</td>\n      <td>428129.004</td>\n      <td>1.142739e+07</td>\n      <td>73327.891</td>\n      <td>...</td>\n      <td>0.0</td>\n      <td>0.000</td>\n      <td>0.0</td>\n      <td>0.000</td>\n      <td>0.000</td>\n      <td>0.000</td>\n      <td>0.000</td>\n      <td>0.000</td>\n      <td>0.070146</td>\n      <td>11.525992</td>\n    </tr>\n    <tr>\n      <th>89</th>\n      <td>India</td>\n      <td>6.513621e+11</td>\n      <td>2.855231e+09</td>\n      <td>24684077.0</td>\n      <td>2.368621e+07</td>\n      <td>40213539.0</td>\n      <td>270284.0</td>\n      <td>258204.294</td>\n      <td>2.069002e+06</td>\n      <td>17886.953</td>\n      <td>...</td>\n      <td>0.0</td>\n      <td>0.000</td>\n      <td>0.0</td>\n      <td>0.000</td>\n      <td>0.000</td>\n      <td>0.000</td>\n      <td>0.000</td>\n      <td>0.000</td>\n      <td>0.006174</td>\n      <td>6.985614</td>\n    </tr>\n    <tr>\n      <th>125</th>\n      <td>Mexico</td>\n      <td>6.459531e+10</td>\n      <td>4.269358e+08</td>\n      <td>2380690.0</td>\n      <td>2.372278e+06</td>\n      <td>39903297.0</td>\n      <td>220384.0</td>\n      <td>219633.011</td>\n      <td>3.311306e+06</td>\n      <td>18464.591</td>\n      <td>...</td>\n      <td>0.0</td>\n      <td>0.000</td>\n      <td>0.0</td>\n      <td>0.000</td>\n      <td>0.000</td>\n      <td>0.000</td>\n      <td>0.000</td>\n      <td>0.000</td>\n      <td>0.061774</td>\n      <td>6.931721</td>\n    </tr>\n    <tr>\n      <th>205</th>\n      <td>United Kingdom</td>\n      <td>3.197431e+10</td>\n      <td>7.204589e+08</td>\n      <td>4464663.0</td>\n      <td>4.457767e+06</td>\n      <td>27137026.0</td>\n      <td>127937.0</td>\n      <td>127900.707</td>\n      <td>1.061277e+07</td>\n      <td>65767.067</td>\n      <td>...</td>\n      <td>480270.0</td>\n      <td>7074.654</td>\n      <td>4501433.0</td>\n      <td>66308.710</td>\n      <td>0.000</td>\n      <td>0.000</td>\n      <td>460766.000</td>\n      <td>6787.350</td>\n      <td>0.084871</td>\n      <td>4.714054</td>\n    </tr>\n    <tr>\n      <th>96</th>\n      <td>Italy</td>\n      <td>2.847752e+10</td>\n      <td>5.780705e+08</td>\n      <td>4153374.0</td>\n      <td>4.131579e+06</td>\n      <td>24248908.0</td>\n      <td>124063.0</td>\n      <td>123489.284</td>\n      <td>9.560916e+06</td>\n      <td>68694.147</td>\n      <td>...</td>\n      <td>762641.0</td>\n      <td>12613.592</td>\n      <td>7381414.0</td>\n      <td>122083.869</td>\n      <td>0.000</td>\n      <td>0.000</td>\n      <td>399372.650</td>\n      <td>6605.368</td>\n      <td>0.085151</td>\n      <td>4.212350</td>\n    </tr>\n    <tr>\n      <th>68</th>\n      <td>France</td>\n      <td>3.229571e+10</td>\n      <td>7.744676e+08</td>\n      <td>5925071.0</td>\n      <td>5.880134e+06</td>\n      <td>21199036.0</td>\n      <td>107696.0</td>\n      <td>107209.283</td>\n      <td>1.146268e+07</td>\n      <td>87695.350</td>\n      <td>...</td>\n      <td>1178465.0</td>\n      <td>17442.142</td>\n      <td>8064222.0</td>\n      <td>119356.354</td>\n      <td>81110.960</td>\n      <td>1200.499</td>\n      <td>440537.170</td>\n      <td>6520.272</td>\n      <td>0.065640</td>\n      <td>3.682548</td>\n    </tr>\n    <tr>\n      <th>182</th>\n      <td>Spain</td>\n      <td>2.197475e+10</td>\n      <td>5.980286e+08</td>\n      <td>3604799.0</td>\n      <td>3.590847e+06</td>\n      <td>17949753.0</td>\n      <td>79339.0</td>\n      <td>79136.295</td>\n      <td>1.279075e+07</td>\n      <td>77100.107</td>\n      <td>...</td>\n      <td>426781.0</td>\n      <td>9128.067</td>\n      <td>2476974.0</td>\n      <td>52977.988</td>\n      <td>32563.558</td>\n      <td>696.474</td>\n      <td>349458.131</td>\n      <td>7474.280</td>\n      <td>0.081684</td>\n      <td>3.118105</td>\n    </tr>\n    <tr>\n      <th>159</th>\n      <td>Russia</td>\n      <td>6.873513e+10</td>\n      <td>8.613979e+08</td>\n      <td>4875308.0</td>\n      <td>4.849545e+06</td>\n      <td>16735348.0</td>\n      <td>113541.0</td>\n      <td>112450.853</td>\n      <td>5.902636e+06</td>\n      <td>33407.518</td>\n      <td>...</td>\n      <td>0.0</td>\n      <td>0.000</td>\n      <td>0.0</td>\n      <td>0.000</td>\n      <td>0.000</td>\n      <td>0.000</td>\n      <td>0.000</td>\n      <td>0.000</td>\n      <td>0.024348</td>\n      <td>2.907147</td>\n    </tr>\n    <tr>\n      <th>91</th>\n      <td>Iran</td>\n      <td>3.796481e+10</td>\n      <td>3.613246e+08</td>\n      <td>2739875.0</td>\n      <td>2.703012e+06</td>\n      <td>14645970.0</td>\n      <td>76633.0</td>\n      <td>75849.863</td>\n      <td>4.301844e+06</td>\n      <td>32620.296</td>\n      <td>...</td>\n      <td>0.0</td>\n      <td>0.000</td>\n      <td>0.0</td>\n      <td>0.000</td>\n      <td>0.000</td>\n      <td>0.000</td>\n      <td>0.000</td>\n      <td>0.000</td>\n      <td>0.038578</td>\n      <td>2.544195</td>\n    </tr>\n  </tbody>\n</table>\n<p>10 rows × 25 columns</p>\n</div>"
     },
     "metadata": {},
     "execution_count": 312
    }
   ],
   "source": [
    "countryDeaths.head(10)"
   ]
  },
  {
   "cell_type": "code",
   "execution_count": 348,
   "metadata": {},
   "outputs": [
    {
     "output_type": "display_data",
     "data": {
      "application/vnd.plotly.v1+json": {
       "config": {
        "plotlyServerURL": "https://plot.ly"
       },
       "data": [
        {
         "alignmentgroup": "True",
         "hovertemplate": "<b>%{hovertext}</b><br><br>percentage_deaths=%{y:.2f}<extra></extra>",
         "hovertext": [
          "United States"
         ],
         "legendgroup": "United States",
         "marker": {
          "color": "#0d0887",
          "opacity": 0.7
         },
         "name": "United States",
         "offsetgroup": "United States",
         "orientation": "v",
         "showlegend": true,
         "textposition": "auto",
         "type": "bar",
         "x": [
          "United States"
         ],
         "xaxis": "x",
         "y": [
          20.036681441482614
         ],
         "yaxis": "y"
        },
        {
         "alignmentgroup": "True",
         "hovertemplate": "<b>%{hovertext}</b><br><br>percentage_deaths=%{y:.2f}<extra></extra>",
         "hovertext": [
          "Brazil"
         ],
         "legendgroup": "Brazil",
         "marker": {
          "color": "#46039f",
          "opacity": 0.7
         },
         "name": "Brazil",
         "offsetgroup": "Brazil",
         "orientation": "v",
         "showlegend": true,
         "textposition": "auto",
         "type": "bar",
         "x": [
          "Brazil"
         ],
         "xaxis": "x",
         "y": [
          11.525992120042188
         ],
         "yaxis": "y"
        },
        {
         "alignmentgroup": "True",
         "hovertemplate": "<b>%{hovertext}</b><br><br>percentage_deaths=%{y:.2f}<extra></extra>",
         "hovertext": [
          "India"
         ],
         "legendgroup": "India",
         "marker": {
          "color": "#7201a8",
          "opacity": 0.7
         },
         "name": "India",
         "offsetgroup": "India",
         "orientation": "v",
         "showlegend": true,
         "textposition": "auto",
         "type": "bar",
         "x": [
          "India"
         ],
         "xaxis": "x",
         "y": [
          6.98561372845627
         ],
         "yaxis": "y"
        },
        {
         "alignmentgroup": "True",
         "hovertemplate": "<b>%{hovertext}</b><br><br>percentage_deaths=%{y:.2f}<extra></extra>",
         "hovertext": [
          "Mexico"
         ],
         "legendgroup": "Mexico",
         "marker": {
          "color": "#9c179e",
          "opacity": 0.7
         },
         "name": "Mexico",
         "offsetgroup": "Mexico",
         "orientation": "v",
         "showlegend": true,
         "textposition": "auto",
         "type": "bar",
         "x": [
          "Mexico"
         ],
         "xaxis": "x",
         "y": [
          6.931720665864994
         ],
         "yaxis": "y"
        },
        {
         "alignmentgroup": "True",
         "hovertemplate": "<b>%{hovertext}</b><br><br>percentage_deaths=%{y:.2f}<extra></extra>",
         "hovertext": [
          "United Kingdom"
         ],
         "legendgroup": "United Kingdom",
         "marker": {
          "color": "#bd3786",
          "opacity": 0.7
         },
         "name": "United Kingdom",
         "offsetgroup": "United Kingdom",
         "orientation": "v",
         "showlegend": true,
         "textposition": "auto",
         "type": "bar",
         "x": [
          "United Kingdom"
         ],
         "xaxis": "x",
         "y": [
          4.714053676675279
         ],
         "yaxis": "y"
        },
        {
         "alignmentgroup": "True",
         "hovertemplate": "<b>%{hovertext}</b><br><br>percentage_deaths=%{y:.2f}<extra></extra>",
         "hovertext": [
          "Italy"
         ],
         "legendgroup": "Italy",
         "marker": {
          "color": "#d8576b",
          "opacity": 0.7
         },
         "name": "Italy",
         "offsetgroup": "Italy",
         "orientation": "v",
         "showlegend": true,
         "textposition": "auto",
         "type": "bar",
         "x": [
          "Italy"
         ],
         "xaxis": "x",
         "y": [
          4.212350089975247
         ],
         "yaxis": "y"
        },
        {
         "alignmentgroup": "True",
         "hovertemplate": "<b>%{hovertext}</b><br><br>percentage_deaths=%{y:.2f}<extra></extra>",
         "hovertext": [
          "France"
         ],
         "legendgroup": "France",
         "marker": {
          "color": "#ed7953",
          "opacity": 0.7
         },
         "name": "France",
         "offsetgroup": "France",
         "orientation": "v",
         "showlegend": true,
         "textposition": "auto",
         "type": "bar",
         "x": [
          "France"
         ],
         "xaxis": "x",
         "y": [
          3.6825477337778874
         ],
         "yaxis": "y"
        },
        {
         "alignmentgroup": "True",
         "hovertemplate": "<b>%{hovertext}</b><br><br>percentage_deaths=%{y:.2f}<extra></extra>",
         "hovertext": [
          "Spain"
         ],
         "legendgroup": "Spain",
         "marker": {
          "color": "#fb9f3a",
          "opacity": 0.7
         },
         "name": "Spain",
         "offsetgroup": "Spain",
         "orientation": "v",
         "showlegend": true,
         "textposition": "auto",
         "type": "bar",
         "x": [
          "Spain"
         ],
         "xaxis": "x",
         "y": [
          3.118105098364984
         ],
         "yaxis": "y"
        },
        {
         "alignmentgroup": "True",
         "hovertemplate": "<b>%{hovertext}</b><br><br>percentage_deaths=%{y:.2f}<extra></extra>",
         "hovertext": [
          "Russia"
         ],
         "legendgroup": "Russia",
         "marker": {
          "color": "#fdca26",
          "opacity": 0.7
         },
         "name": "Russia",
         "offsetgroup": "Russia",
         "orientation": "v",
         "showlegend": true,
         "textposition": "auto",
         "type": "bar",
         "x": [
          "Russia"
         ],
         "xaxis": "x",
         "y": [
          2.907147185909034
         ],
         "yaxis": "y"
        },
        {
         "alignmentgroup": "True",
         "hovertemplate": "<b>%{hovertext}</b><br><br>percentage_deaths=%{y:.2f}<extra></extra>",
         "hovertext": [
          "Iran"
         ],
         "legendgroup": "Iran",
         "marker": {
          "color": "#f0f921",
          "opacity": 0.7
         },
         "name": "Iran",
         "offsetgroup": "Iran",
         "orientation": "v",
         "showlegend": true,
         "textposition": "auto",
         "type": "bar",
         "x": [
          "Iran"
         ],
         "xaxis": "x",
         "y": [
          2.544195105498143
         ],
         "yaxis": "y"
        }
       ],
       "layout": {
        "barmode": "relative",
        "legend": {
         "title": {
          "text": "location"
         },
         "tracegroupgap": 0
        },
        "margin": {
         "t": 60
        },
        "template": {
         "data": {
          "bar": [
           {
            "error_x": {
             "color": "#2a3f5f"
            },
            "error_y": {
             "color": "#2a3f5f"
            },
            "marker": {
             "line": {
              "color": "#E5ECF6",
              "width": 0.5
             }
            },
            "type": "bar"
           }
          ],
          "barpolar": [
           {
            "marker": {
             "line": {
              "color": "#E5ECF6",
              "width": 0.5
             }
            },
            "type": "barpolar"
           }
          ],
          "carpet": [
           {
            "aaxis": {
             "endlinecolor": "#2a3f5f",
             "gridcolor": "white",
             "linecolor": "white",
             "minorgridcolor": "white",
             "startlinecolor": "#2a3f5f"
            },
            "baxis": {
             "endlinecolor": "#2a3f5f",
             "gridcolor": "white",
             "linecolor": "white",
             "minorgridcolor": "white",
             "startlinecolor": "#2a3f5f"
            },
            "type": "carpet"
           }
          ],
          "choropleth": [
           {
            "colorbar": {
             "outlinewidth": 0,
             "ticks": ""
            },
            "type": "choropleth"
           }
          ],
          "contour": [
           {
            "colorbar": {
             "outlinewidth": 0,
             "ticks": ""
            },
            "colorscale": [
             [
              0,
              "#0d0887"
             ],
             [
              0.1111111111111111,
              "#46039f"
             ],
             [
              0.2222222222222222,
              "#7201a8"
             ],
             [
              0.3333333333333333,
              "#9c179e"
             ],
             [
              0.4444444444444444,
              "#bd3786"
             ],
             [
              0.5555555555555556,
              "#d8576b"
             ],
             [
              0.6666666666666666,
              "#ed7953"
             ],
             [
              0.7777777777777778,
              "#fb9f3a"
             ],
             [
              0.8888888888888888,
              "#fdca26"
             ],
             [
              1,
              "#f0f921"
             ]
            ],
            "type": "contour"
           }
          ],
          "contourcarpet": [
           {
            "colorbar": {
             "outlinewidth": 0,
             "ticks": ""
            },
            "type": "contourcarpet"
           }
          ],
          "heatmap": [
           {
            "colorbar": {
             "outlinewidth": 0,
             "ticks": ""
            },
            "colorscale": [
             [
              0,
              "#0d0887"
             ],
             [
              0.1111111111111111,
              "#46039f"
             ],
             [
              0.2222222222222222,
              "#7201a8"
             ],
             [
              0.3333333333333333,
              "#9c179e"
             ],
             [
              0.4444444444444444,
              "#bd3786"
             ],
             [
              0.5555555555555556,
              "#d8576b"
             ],
             [
              0.6666666666666666,
              "#ed7953"
             ],
             [
              0.7777777777777778,
              "#fb9f3a"
             ],
             [
              0.8888888888888888,
              "#fdca26"
             ],
             [
              1,
              "#f0f921"
             ]
            ],
            "type": "heatmap"
           }
          ],
          "heatmapgl": [
           {
            "colorbar": {
             "outlinewidth": 0,
             "ticks": ""
            },
            "colorscale": [
             [
              0,
              "#0d0887"
             ],
             [
              0.1111111111111111,
              "#46039f"
             ],
             [
              0.2222222222222222,
              "#7201a8"
             ],
             [
              0.3333333333333333,
              "#9c179e"
             ],
             [
              0.4444444444444444,
              "#bd3786"
             ],
             [
              0.5555555555555556,
              "#d8576b"
             ],
             [
              0.6666666666666666,
              "#ed7953"
             ],
             [
              0.7777777777777778,
              "#fb9f3a"
             ],
             [
              0.8888888888888888,
              "#fdca26"
             ],
             [
              1,
              "#f0f921"
             ]
            ],
            "type": "heatmapgl"
           }
          ],
          "histogram": [
           {
            "marker": {
             "colorbar": {
              "outlinewidth": 0,
              "ticks": ""
             }
            },
            "type": "histogram"
           }
          ],
          "histogram2d": [
           {
            "colorbar": {
             "outlinewidth": 0,
             "ticks": ""
            },
            "colorscale": [
             [
              0,
              "#0d0887"
             ],
             [
              0.1111111111111111,
              "#46039f"
             ],
             [
              0.2222222222222222,
              "#7201a8"
             ],
             [
              0.3333333333333333,
              "#9c179e"
             ],
             [
              0.4444444444444444,
              "#bd3786"
             ],
             [
              0.5555555555555556,
              "#d8576b"
             ],
             [
              0.6666666666666666,
              "#ed7953"
             ],
             [
              0.7777777777777778,
              "#fb9f3a"
             ],
             [
              0.8888888888888888,
              "#fdca26"
             ],
             [
              1,
              "#f0f921"
             ]
            ],
            "type": "histogram2d"
           }
          ],
          "histogram2dcontour": [
           {
            "colorbar": {
             "outlinewidth": 0,
             "ticks": ""
            },
            "colorscale": [
             [
              0,
              "#0d0887"
             ],
             [
              0.1111111111111111,
              "#46039f"
             ],
             [
              0.2222222222222222,
              "#7201a8"
             ],
             [
              0.3333333333333333,
              "#9c179e"
             ],
             [
              0.4444444444444444,
              "#bd3786"
             ],
             [
              0.5555555555555556,
              "#d8576b"
             ],
             [
              0.6666666666666666,
              "#ed7953"
             ],
             [
              0.7777777777777778,
              "#fb9f3a"
             ],
             [
              0.8888888888888888,
              "#fdca26"
             ],
             [
              1,
              "#f0f921"
             ]
            ],
            "type": "histogram2dcontour"
           }
          ],
          "mesh3d": [
           {
            "colorbar": {
             "outlinewidth": 0,
             "ticks": ""
            },
            "type": "mesh3d"
           }
          ],
          "parcoords": [
           {
            "line": {
             "colorbar": {
              "outlinewidth": 0,
              "ticks": ""
             }
            },
            "type": "parcoords"
           }
          ],
          "pie": [
           {
            "automargin": true,
            "type": "pie"
           }
          ],
          "scatter": [
           {
            "marker": {
             "colorbar": {
              "outlinewidth": 0,
              "ticks": ""
             }
            },
            "type": "scatter"
           }
          ],
          "scatter3d": [
           {
            "line": {
             "colorbar": {
              "outlinewidth": 0,
              "ticks": ""
             }
            },
            "marker": {
             "colorbar": {
              "outlinewidth": 0,
              "ticks": ""
             }
            },
            "type": "scatter3d"
           }
          ],
          "scattercarpet": [
           {
            "marker": {
             "colorbar": {
              "outlinewidth": 0,
              "ticks": ""
             }
            },
            "type": "scattercarpet"
           }
          ],
          "scattergeo": [
           {
            "marker": {
             "colorbar": {
              "outlinewidth": 0,
              "ticks": ""
             }
            },
            "type": "scattergeo"
           }
          ],
          "scattergl": [
           {
            "marker": {
             "colorbar": {
              "outlinewidth": 0,
              "ticks": ""
             }
            },
            "type": "scattergl"
           }
          ],
          "scattermapbox": [
           {
            "marker": {
             "colorbar": {
              "outlinewidth": 0,
              "ticks": ""
             }
            },
            "type": "scattermapbox"
           }
          ],
          "scatterpolar": [
           {
            "marker": {
             "colorbar": {
              "outlinewidth": 0,
              "ticks": ""
             }
            },
            "type": "scatterpolar"
           }
          ],
          "scatterpolargl": [
           {
            "marker": {
             "colorbar": {
              "outlinewidth": 0,
              "ticks": ""
             }
            },
            "type": "scatterpolargl"
           }
          ],
          "scatterternary": [
           {
            "marker": {
             "colorbar": {
              "outlinewidth": 0,
              "ticks": ""
             }
            },
            "type": "scatterternary"
           }
          ],
          "surface": [
           {
            "colorbar": {
             "outlinewidth": 0,
             "ticks": ""
            },
            "colorscale": [
             [
              0,
              "#0d0887"
             ],
             [
              0.1111111111111111,
              "#46039f"
             ],
             [
              0.2222222222222222,
              "#7201a8"
             ],
             [
              0.3333333333333333,
              "#9c179e"
             ],
             [
              0.4444444444444444,
              "#bd3786"
             ],
             [
              0.5555555555555556,
              "#d8576b"
             ],
             [
              0.6666666666666666,
              "#ed7953"
             ],
             [
              0.7777777777777778,
              "#fb9f3a"
             ],
             [
              0.8888888888888888,
              "#fdca26"
             ],
             [
              1,
              "#f0f921"
             ]
            ],
            "type": "surface"
           }
          ],
          "table": [
           {
            "cells": {
             "fill": {
              "color": "#EBF0F8"
             },
             "line": {
              "color": "white"
             }
            },
            "header": {
             "fill": {
              "color": "#C8D4E3"
             },
             "line": {
              "color": "white"
             }
            },
            "type": "table"
           }
          ]
         },
         "layout": {
          "annotationdefaults": {
           "arrowcolor": "#2a3f5f",
           "arrowhead": 0,
           "arrowwidth": 1
          },
          "autotypenumbers": "strict",
          "coloraxis": {
           "colorbar": {
            "outlinewidth": 0,
            "ticks": ""
           }
          },
          "colorscale": {
           "diverging": [
            [
             0,
             "#8e0152"
            ],
            [
             0.1,
             "#c51b7d"
            ],
            [
             0.2,
             "#de77ae"
            ],
            [
             0.3,
             "#f1b6da"
            ],
            [
             0.4,
             "#fde0ef"
            ],
            [
             0.5,
             "#f7f7f7"
            ],
            [
             0.6,
             "#e6f5d0"
            ],
            [
             0.7,
             "#b8e186"
            ],
            [
             0.8,
             "#7fbc41"
            ],
            [
             0.9,
             "#4d9221"
            ],
            [
             1,
             "#276419"
            ]
           ],
           "sequential": [
            [
             0,
             "#0d0887"
            ],
            [
             0.1111111111111111,
             "#46039f"
            ],
            [
             0.2222222222222222,
             "#7201a8"
            ],
            [
             0.3333333333333333,
             "#9c179e"
            ],
            [
             0.4444444444444444,
             "#bd3786"
            ],
            [
             0.5555555555555556,
             "#d8576b"
            ],
            [
             0.6666666666666666,
             "#ed7953"
            ],
            [
             0.7777777777777778,
             "#fb9f3a"
            ],
            [
             0.8888888888888888,
             "#fdca26"
            ],
            [
             1,
             "#f0f921"
            ]
           ],
           "sequentialminus": [
            [
             0,
             "#0d0887"
            ],
            [
             0.1111111111111111,
             "#46039f"
            ],
            [
             0.2222222222222222,
             "#7201a8"
            ],
            [
             0.3333333333333333,
             "#9c179e"
            ],
            [
             0.4444444444444444,
             "#bd3786"
            ],
            [
             0.5555555555555556,
             "#d8576b"
            ],
            [
             0.6666666666666666,
             "#ed7953"
            ],
            [
             0.7777777777777778,
             "#fb9f3a"
            ],
            [
             0.8888888888888888,
             "#fdca26"
            ],
            [
             1,
             "#f0f921"
            ]
           ]
          },
          "colorway": [
           "#636efa",
           "#EF553B",
           "#00cc96",
           "#ab63fa",
           "#FFA15A",
           "#19d3f3",
           "#FF6692",
           "#B6E880",
           "#FF97FF",
           "#FECB52"
          ],
          "font": {
           "color": "#2a3f5f"
          },
          "geo": {
           "bgcolor": "white",
           "lakecolor": "white",
           "landcolor": "#E5ECF6",
           "showlakes": true,
           "showland": true,
           "subunitcolor": "white"
          },
          "hoverlabel": {
           "align": "left"
          },
          "hovermode": "closest",
          "mapbox": {
           "style": "light"
          },
          "paper_bgcolor": "white",
          "plot_bgcolor": "#E5ECF6",
          "polar": {
           "angularaxis": {
            "gridcolor": "white",
            "linecolor": "white",
            "ticks": ""
           },
           "bgcolor": "#E5ECF6",
           "radialaxis": {
            "gridcolor": "white",
            "linecolor": "white",
            "ticks": ""
           }
          },
          "scene": {
           "xaxis": {
            "backgroundcolor": "#E5ECF6",
            "gridcolor": "white",
            "gridwidth": 2,
            "linecolor": "white",
            "showbackground": true,
            "ticks": "",
            "zerolinecolor": "white"
           },
           "yaxis": {
            "backgroundcolor": "#E5ECF6",
            "gridcolor": "white",
            "gridwidth": 2,
            "linecolor": "white",
            "showbackground": true,
            "ticks": "",
            "zerolinecolor": "white"
           },
           "zaxis": {
            "backgroundcolor": "#E5ECF6",
            "gridcolor": "white",
            "gridwidth": 2,
            "linecolor": "white",
            "showbackground": true,
            "ticks": "",
            "zerolinecolor": "white"
           }
          },
          "shapedefaults": {
           "line": {
            "color": "#2a3f5f"
           }
          },
          "ternary": {
           "aaxis": {
            "gridcolor": "white",
            "linecolor": "white",
            "ticks": ""
           },
           "baxis": {
            "gridcolor": "white",
            "linecolor": "white",
            "ticks": ""
           },
           "bgcolor": "#E5ECF6",
           "caxis": {
            "gridcolor": "white",
            "linecolor": "white",
            "ticks": ""
           }
          },
          "title": {
           "x": 0.05
          },
          "xaxis": {
           "automargin": true,
           "gridcolor": "white",
           "linecolor": "white",
           "ticks": "",
           "title": {
            "standoff": 15
           },
           "zerolinecolor": "white",
           "zerolinewidth": 2
          },
          "yaxis": {
           "automargin": true,
           "gridcolor": "white",
           "linecolor": "white",
           "ticks": "",
           "title": {
            "standoff": 15
           },
           "zerolinecolor": "white",
           "zerolinewidth": 2
          }
         }
        },
        "title": {
         "text": "Top 10 Countries with more deaths in the world"
        },
        "xaxis": {
         "anchor": "y",
         "categoryarray": [
          "United States",
          "Brazil",
          "India",
          "Mexico",
          "United Kingdom",
          "Italy",
          "France",
          "Spain",
          "Russia",
          "Iran"
         ],
         "categoryorder": "array",
         "domain": [
          0,
          1
         ],
         "tickangle": -45,
         "title": {
          "text": "location"
         }
        },
        "yaxis": {
         "anchor": "x",
         "domain": [
          0,
          1
         ],
         "title": {
          "text": "percentage_deaths"
         }
        }
       }
      }
     },
     "metadata": {}
    }
   ],
   "source": [
    "fig2 = px.bar(moreDeaths, y = \"percentage_deaths\", x = \"location\", color = \"location\", color_discrete_sequence=px.colors.sequential.Plasma, hover_name=\"location\", hover_data={\"percentage_deaths\":':.2f', \"location\":False}, opacity = 0.7)\n",
    "#set fontsize and uniformText\n",
    "fig.update_layout(uniformtext_minsize = 6)\n",
    "#rotate label 45 degrees\n",
    "fig2.update_layout(xaxis_tickangle=-45)\n",
    "#fig.update_layout(legend_title_text='confirmed (Covid-19)')\n",
    "fig2.update_layout(title_text='Top 10 Countries with more deaths in the world')\n",
    "\n",
    "\n",
    "fig2.show()"
   ]
  },
  {
   "cell_type": "code",
   "execution_count": 324,
   "metadata": {},
   "outputs": [
    {
     "output_type": "execute_result",
     "data": {
      "text/plain": [
       "         location  population_x  total_cases_x  new_cases_x  \\\n",
       "0  United Kingdom  3.197431e+10    720458859.0    4464663.0   \n",
       "1           Italy  2.847752e+10    578070475.0    4153374.0   \n",
       "2           Spain  2.197475e+10    598028560.0    3604799.0   \n",
       "\n",
       "   new_cases_smoothed_x  total_deaths_x  new_deaths_x  new_deaths_smoothed_x  \\\n",
       "0           4457767.284      27137026.0      127937.0             127900.707   \n",
       "1           4131578.731      24248908.0      124063.0             123489.284   \n",
       "2           3590846.996      17949753.0       79339.0              79136.295   \n",
       "\n",
       "   total_cases_per_million_x  new_cases_per_million_x  ...  icu_patients_y  \\\n",
       "0               1.061277e+07                65767.067  ...        480270.0   \n",
       "1               9.560916e+06                68694.147  ...        762641.0   \n",
       "2               1.279075e+07                77100.107  ...        426781.0   \n",
       "\n",
       "   icu_patients_per_million_y  hosp_patients_y  hosp_patients_per_million_y  \\\n",
       "0                    7074.654        4501433.0                    66308.710   \n",
       "1                   12613.592        7381414.0                   122083.869   \n",
       "2                    9128.067        2476974.0                    52977.988   \n",
       "\n",
       "   weekly_icu_admissions_y  weekly_icu_admissions_per_million_y  \\\n",
       "0                    0.000                                0.000   \n",
       "1                    0.000                                0.000   \n",
       "2                32563.558                              696.474   \n",
       "\n",
       "   weekly_hosp_admissions_y  weekly_hosp_admissions_per_million_y  \\\n",
       "0                460766.000                              6787.350   \n",
       "1                399372.650                              6605.368   \n",
       "2                349458.131                              7474.280   \n",
       "\n",
       "   deaths_population_y  percentage_deaths_y  \n",
       "0             0.084871             4.714054  \n",
       "1             0.085151             4.212350  \n",
       "2             0.081684             3.118105  \n",
       "\n",
       "[3 rows x 50 columns]"
      ],
      "text/html": "<div>\n<style scoped>\n    .dataframe tbody tr th:only-of-type {\n        vertical-align: middle;\n    }\n\n    .dataframe tbody tr th {\n        vertical-align: top;\n    }\n\n    .dataframe thead th {\n        text-align: right;\n    }\n</style>\n<table border=\"1\" class=\"dataframe\">\n  <thead>\n    <tr style=\"text-align: right;\">\n      <th></th>\n      <th>location</th>\n      <th>population_x</th>\n      <th>total_cases_x</th>\n      <th>new_cases_x</th>\n      <th>new_cases_smoothed_x</th>\n      <th>total_deaths_x</th>\n      <th>new_deaths_x</th>\n      <th>new_deaths_smoothed_x</th>\n      <th>total_cases_per_million_x</th>\n      <th>new_cases_per_million_x</th>\n      <th>...</th>\n      <th>icu_patients_y</th>\n      <th>icu_patients_per_million_y</th>\n      <th>hosp_patients_y</th>\n      <th>hosp_patients_per_million_y</th>\n      <th>weekly_icu_admissions_y</th>\n      <th>weekly_icu_admissions_per_million_y</th>\n      <th>weekly_hosp_admissions_y</th>\n      <th>weekly_hosp_admissions_per_million_y</th>\n      <th>deaths_population_y</th>\n      <th>percentage_deaths_y</th>\n    </tr>\n  </thead>\n  <tbody>\n    <tr>\n      <th>0</th>\n      <td>United Kingdom</td>\n      <td>3.197431e+10</td>\n      <td>720458859.0</td>\n      <td>4464663.0</td>\n      <td>4457767.284</td>\n      <td>27137026.0</td>\n      <td>127937.0</td>\n      <td>127900.707</td>\n      <td>1.061277e+07</td>\n      <td>65767.067</td>\n      <td>...</td>\n      <td>480270.0</td>\n      <td>7074.654</td>\n      <td>4501433.0</td>\n      <td>66308.710</td>\n      <td>0.000</td>\n      <td>0.000</td>\n      <td>460766.000</td>\n      <td>6787.350</td>\n      <td>0.084871</td>\n      <td>4.714054</td>\n    </tr>\n    <tr>\n      <th>1</th>\n      <td>Italy</td>\n      <td>2.847752e+10</td>\n      <td>578070475.0</td>\n      <td>4153374.0</td>\n      <td>4131578.731</td>\n      <td>24248908.0</td>\n      <td>124063.0</td>\n      <td>123489.284</td>\n      <td>9.560916e+06</td>\n      <td>68694.147</td>\n      <td>...</td>\n      <td>762641.0</td>\n      <td>12613.592</td>\n      <td>7381414.0</td>\n      <td>122083.869</td>\n      <td>0.000</td>\n      <td>0.000</td>\n      <td>399372.650</td>\n      <td>6605.368</td>\n      <td>0.085151</td>\n      <td>4.212350</td>\n    </tr>\n    <tr>\n      <th>2</th>\n      <td>Spain</td>\n      <td>2.197475e+10</td>\n      <td>598028560.0</td>\n      <td>3604799.0</td>\n      <td>3590846.996</td>\n      <td>17949753.0</td>\n      <td>79339.0</td>\n      <td>79136.295</td>\n      <td>1.279075e+07</td>\n      <td>77100.107</td>\n      <td>...</td>\n      <td>426781.0</td>\n      <td>9128.067</td>\n      <td>2476974.0</td>\n      <td>52977.988</td>\n      <td>32563.558</td>\n      <td>696.474</td>\n      <td>349458.131</td>\n      <td>7474.280</td>\n      <td>0.081684</td>\n      <td>3.118105</td>\n    </tr>\n  </tbody>\n</table>\n<p>3 rows × 50 columns</p>\n</div>"
     },
     "metadata": {},
     "execution_count": 324
    }
   ],
   "source": [
    "both = moreDeaths.merge(morePercentage, how='inner', on='location')\n",
    "both.head()"
   ]
  },
  {
   "cell_type": "code",
   "execution_count": 339,
   "metadata": {},
   "outputs": [
    {
     "output_type": "display_data",
     "data": {
      "application/vnd.plotly.v1+json": {
       "config": {
        "plotlyServerURL": "https://plot.ly"
       },
       "data": [
        {
         "alignmentgroup": "True",
         "hovertemplate": "<b>%{hovertext}</b><br><br>percentage_deaths_y=%{text:.2f}<extra></extra>",
         "hovertext": [
          "United Kingdom"
         ],
         "legendgroup": "United Kingdom",
         "marker": {
          "color": "#440154",
          "opacity": 0.7
         },
         "name": "United Kingdom",
         "offsetgroup": "United Kingdom",
         "orientation": "v",
         "showlegend": true,
         "text": [
          4.714053676675279
         ],
         "textposition": "outside",
         "texttemplate": "%{text:.2s}",
         "type": "bar",
         "x": [
          "United Kingdom"
         ],
         "xaxis": "x",
         "y": [
          4.714053676675279
         ],
         "yaxis": "y"
        },
        {
         "alignmentgroup": "True",
         "hovertemplate": "<b>%{hovertext}</b><br><br>percentage_deaths_y=%{text:.2f}<extra></extra>",
         "hovertext": [
          "Italy"
         ],
         "legendgroup": "Italy",
         "marker": {
          "color": "#482878",
          "opacity": 0.7
         },
         "name": "Italy",
         "offsetgroup": "Italy",
         "orientation": "v",
         "showlegend": true,
         "text": [
          4.212350089975247
         ],
         "textposition": "outside",
         "texttemplate": "%{text:.2s}",
         "type": "bar",
         "x": [
          "Italy"
         ],
         "xaxis": "x",
         "y": [
          4.212350089975247
         ],
         "yaxis": "y"
        },
        {
         "alignmentgroup": "True",
         "hovertemplate": "<b>%{hovertext}</b><br><br>percentage_deaths_y=%{text:.2f}<extra></extra>",
         "hovertext": [
          "Spain"
         ],
         "legendgroup": "Spain",
         "marker": {
          "color": "#3e4989",
          "opacity": 0.7
         },
         "name": "Spain",
         "offsetgroup": "Spain",
         "orientation": "v",
         "showlegend": true,
         "text": [
          3.118105098364984
         ],
         "textposition": "outside",
         "texttemplate": "%{text:.2s}",
         "type": "bar",
         "x": [
          "Spain"
         ],
         "xaxis": "x",
         "y": [
          3.118105098364984
         ],
         "yaxis": "y"
        }
       ],
       "layout": {
        "barmode": "relative",
        "legend": {
         "title": {
          "text": "location"
         },
         "tracegroupgap": 0
        },
        "margin": {
         "t": 60
        },
        "template": {
         "data": {
          "bar": [
           {
            "error_x": {
             "color": "#2a3f5f"
            },
            "error_y": {
             "color": "#2a3f5f"
            },
            "marker": {
             "line": {
              "color": "#E5ECF6",
              "width": 0.5
             }
            },
            "type": "bar"
           }
          ],
          "barpolar": [
           {
            "marker": {
             "line": {
              "color": "#E5ECF6",
              "width": 0.5
             }
            },
            "type": "barpolar"
           }
          ],
          "carpet": [
           {
            "aaxis": {
             "endlinecolor": "#2a3f5f",
             "gridcolor": "white",
             "linecolor": "white",
             "minorgridcolor": "white",
             "startlinecolor": "#2a3f5f"
            },
            "baxis": {
             "endlinecolor": "#2a3f5f",
             "gridcolor": "white",
             "linecolor": "white",
             "minorgridcolor": "white",
             "startlinecolor": "#2a3f5f"
            },
            "type": "carpet"
           }
          ],
          "choropleth": [
           {
            "colorbar": {
             "outlinewidth": 0,
             "ticks": ""
            },
            "type": "choropleth"
           }
          ],
          "contour": [
           {
            "colorbar": {
             "outlinewidth": 0,
             "ticks": ""
            },
            "colorscale": [
             [
              0,
              "#0d0887"
             ],
             [
              0.1111111111111111,
              "#46039f"
             ],
             [
              0.2222222222222222,
              "#7201a8"
             ],
             [
              0.3333333333333333,
              "#9c179e"
             ],
             [
              0.4444444444444444,
              "#bd3786"
             ],
             [
              0.5555555555555556,
              "#d8576b"
             ],
             [
              0.6666666666666666,
              "#ed7953"
             ],
             [
              0.7777777777777778,
              "#fb9f3a"
             ],
             [
              0.8888888888888888,
              "#fdca26"
             ],
             [
              1,
              "#f0f921"
             ]
            ],
            "type": "contour"
           }
          ],
          "contourcarpet": [
           {
            "colorbar": {
             "outlinewidth": 0,
             "ticks": ""
            },
            "type": "contourcarpet"
           }
          ],
          "heatmap": [
           {
            "colorbar": {
             "outlinewidth": 0,
             "ticks": ""
            },
            "colorscale": [
             [
              0,
              "#0d0887"
             ],
             [
              0.1111111111111111,
              "#46039f"
             ],
             [
              0.2222222222222222,
              "#7201a8"
             ],
             [
              0.3333333333333333,
              "#9c179e"
             ],
             [
              0.4444444444444444,
              "#bd3786"
             ],
             [
              0.5555555555555556,
              "#d8576b"
             ],
             [
              0.6666666666666666,
              "#ed7953"
             ],
             [
              0.7777777777777778,
              "#fb9f3a"
             ],
             [
              0.8888888888888888,
              "#fdca26"
             ],
             [
              1,
              "#f0f921"
             ]
            ],
            "type": "heatmap"
           }
          ],
          "heatmapgl": [
           {
            "colorbar": {
             "outlinewidth": 0,
             "ticks": ""
            },
            "colorscale": [
             [
              0,
              "#0d0887"
             ],
             [
              0.1111111111111111,
              "#46039f"
             ],
             [
              0.2222222222222222,
              "#7201a8"
             ],
             [
              0.3333333333333333,
              "#9c179e"
             ],
             [
              0.4444444444444444,
              "#bd3786"
             ],
             [
              0.5555555555555556,
              "#d8576b"
             ],
             [
              0.6666666666666666,
              "#ed7953"
             ],
             [
              0.7777777777777778,
              "#fb9f3a"
             ],
             [
              0.8888888888888888,
              "#fdca26"
             ],
             [
              1,
              "#f0f921"
             ]
            ],
            "type": "heatmapgl"
           }
          ],
          "histogram": [
           {
            "marker": {
             "colorbar": {
              "outlinewidth": 0,
              "ticks": ""
             }
            },
            "type": "histogram"
           }
          ],
          "histogram2d": [
           {
            "colorbar": {
             "outlinewidth": 0,
             "ticks": ""
            },
            "colorscale": [
             [
              0,
              "#0d0887"
             ],
             [
              0.1111111111111111,
              "#46039f"
             ],
             [
              0.2222222222222222,
              "#7201a8"
             ],
             [
              0.3333333333333333,
              "#9c179e"
             ],
             [
              0.4444444444444444,
              "#bd3786"
             ],
             [
              0.5555555555555556,
              "#d8576b"
             ],
             [
              0.6666666666666666,
              "#ed7953"
             ],
             [
              0.7777777777777778,
              "#fb9f3a"
             ],
             [
              0.8888888888888888,
              "#fdca26"
             ],
             [
              1,
              "#f0f921"
             ]
            ],
            "type": "histogram2d"
           }
          ],
          "histogram2dcontour": [
           {
            "colorbar": {
             "outlinewidth": 0,
             "ticks": ""
            },
            "colorscale": [
             [
              0,
              "#0d0887"
             ],
             [
              0.1111111111111111,
              "#46039f"
             ],
             [
              0.2222222222222222,
              "#7201a8"
             ],
             [
              0.3333333333333333,
              "#9c179e"
             ],
             [
              0.4444444444444444,
              "#bd3786"
             ],
             [
              0.5555555555555556,
              "#d8576b"
             ],
             [
              0.6666666666666666,
              "#ed7953"
             ],
             [
              0.7777777777777778,
              "#fb9f3a"
             ],
             [
              0.8888888888888888,
              "#fdca26"
             ],
             [
              1,
              "#f0f921"
             ]
            ],
            "type": "histogram2dcontour"
           }
          ],
          "mesh3d": [
           {
            "colorbar": {
             "outlinewidth": 0,
             "ticks": ""
            },
            "type": "mesh3d"
           }
          ],
          "parcoords": [
           {
            "line": {
             "colorbar": {
              "outlinewidth": 0,
              "ticks": ""
             }
            },
            "type": "parcoords"
           }
          ],
          "pie": [
           {
            "automargin": true,
            "type": "pie"
           }
          ],
          "scatter": [
           {
            "marker": {
             "colorbar": {
              "outlinewidth": 0,
              "ticks": ""
             }
            },
            "type": "scatter"
           }
          ],
          "scatter3d": [
           {
            "line": {
             "colorbar": {
              "outlinewidth": 0,
              "ticks": ""
             }
            },
            "marker": {
             "colorbar": {
              "outlinewidth": 0,
              "ticks": ""
             }
            },
            "type": "scatter3d"
           }
          ],
          "scattercarpet": [
           {
            "marker": {
             "colorbar": {
              "outlinewidth": 0,
              "ticks": ""
             }
            },
            "type": "scattercarpet"
           }
          ],
          "scattergeo": [
           {
            "marker": {
             "colorbar": {
              "outlinewidth": 0,
              "ticks": ""
             }
            },
            "type": "scattergeo"
           }
          ],
          "scattergl": [
           {
            "marker": {
             "colorbar": {
              "outlinewidth": 0,
              "ticks": ""
             }
            },
            "type": "scattergl"
           }
          ],
          "scattermapbox": [
           {
            "marker": {
             "colorbar": {
              "outlinewidth": 0,
              "ticks": ""
             }
            },
            "type": "scattermapbox"
           }
          ],
          "scatterpolar": [
           {
            "marker": {
             "colorbar": {
              "outlinewidth": 0,
              "ticks": ""
             }
            },
            "type": "scatterpolar"
           }
          ],
          "scatterpolargl": [
           {
            "marker": {
             "colorbar": {
              "outlinewidth": 0,
              "ticks": ""
             }
            },
            "type": "scatterpolargl"
           }
          ],
          "scatterternary": [
           {
            "marker": {
             "colorbar": {
              "outlinewidth": 0,
              "ticks": ""
             }
            },
            "type": "scatterternary"
           }
          ],
          "surface": [
           {
            "colorbar": {
             "outlinewidth": 0,
             "ticks": ""
            },
            "colorscale": [
             [
              0,
              "#0d0887"
             ],
             [
              0.1111111111111111,
              "#46039f"
             ],
             [
              0.2222222222222222,
              "#7201a8"
             ],
             [
              0.3333333333333333,
              "#9c179e"
             ],
             [
              0.4444444444444444,
              "#bd3786"
             ],
             [
              0.5555555555555556,
              "#d8576b"
             ],
             [
              0.6666666666666666,
              "#ed7953"
             ],
             [
              0.7777777777777778,
              "#fb9f3a"
             ],
             [
              0.8888888888888888,
              "#fdca26"
             ],
             [
              1,
              "#f0f921"
             ]
            ],
            "type": "surface"
           }
          ],
          "table": [
           {
            "cells": {
             "fill": {
              "color": "#EBF0F8"
             },
             "line": {
              "color": "white"
             }
            },
            "header": {
             "fill": {
              "color": "#C8D4E3"
             },
             "line": {
              "color": "white"
             }
            },
            "type": "table"
           }
          ]
         },
         "layout": {
          "annotationdefaults": {
           "arrowcolor": "#2a3f5f",
           "arrowhead": 0,
           "arrowwidth": 1
          },
          "autotypenumbers": "strict",
          "coloraxis": {
           "colorbar": {
            "outlinewidth": 0,
            "ticks": ""
           }
          },
          "colorscale": {
           "diverging": [
            [
             0,
             "#8e0152"
            ],
            [
             0.1,
             "#c51b7d"
            ],
            [
             0.2,
             "#de77ae"
            ],
            [
             0.3,
             "#f1b6da"
            ],
            [
             0.4,
             "#fde0ef"
            ],
            [
             0.5,
             "#f7f7f7"
            ],
            [
             0.6,
             "#e6f5d0"
            ],
            [
             0.7,
             "#b8e186"
            ],
            [
             0.8,
             "#7fbc41"
            ],
            [
             0.9,
             "#4d9221"
            ],
            [
             1,
             "#276419"
            ]
           ],
           "sequential": [
            [
             0,
             "#0d0887"
            ],
            [
             0.1111111111111111,
             "#46039f"
            ],
            [
             0.2222222222222222,
             "#7201a8"
            ],
            [
             0.3333333333333333,
             "#9c179e"
            ],
            [
             0.4444444444444444,
             "#bd3786"
            ],
            [
             0.5555555555555556,
             "#d8576b"
            ],
            [
             0.6666666666666666,
             "#ed7953"
            ],
            [
             0.7777777777777778,
             "#fb9f3a"
            ],
            [
             0.8888888888888888,
             "#fdca26"
            ],
            [
             1,
             "#f0f921"
            ]
           ],
           "sequentialminus": [
            [
             0,
             "#0d0887"
            ],
            [
             0.1111111111111111,
             "#46039f"
            ],
            [
             0.2222222222222222,
             "#7201a8"
            ],
            [
             0.3333333333333333,
             "#9c179e"
            ],
            [
             0.4444444444444444,
             "#bd3786"
            ],
            [
             0.5555555555555556,
             "#d8576b"
            ],
            [
             0.6666666666666666,
             "#ed7953"
            ],
            [
             0.7777777777777778,
             "#fb9f3a"
            ],
            [
             0.8888888888888888,
             "#fdca26"
            ],
            [
             1,
             "#f0f921"
            ]
           ]
          },
          "colorway": [
           "#636efa",
           "#EF553B",
           "#00cc96",
           "#ab63fa",
           "#FFA15A",
           "#19d3f3",
           "#FF6692",
           "#B6E880",
           "#FF97FF",
           "#FECB52"
          ],
          "font": {
           "color": "#2a3f5f"
          },
          "geo": {
           "bgcolor": "white",
           "lakecolor": "white",
           "landcolor": "#E5ECF6",
           "showlakes": true,
           "showland": true,
           "subunitcolor": "white"
          },
          "hoverlabel": {
           "align": "left"
          },
          "hovermode": "closest",
          "mapbox": {
           "style": "light"
          },
          "paper_bgcolor": "white",
          "plot_bgcolor": "#E5ECF6",
          "polar": {
           "angularaxis": {
            "gridcolor": "white",
            "linecolor": "white",
            "ticks": ""
           },
           "bgcolor": "#E5ECF6",
           "radialaxis": {
            "gridcolor": "white",
            "linecolor": "white",
            "ticks": ""
           }
          },
          "scene": {
           "xaxis": {
            "backgroundcolor": "#E5ECF6",
            "gridcolor": "white",
            "gridwidth": 2,
            "linecolor": "white",
            "showbackground": true,
            "ticks": "",
            "zerolinecolor": "white"
           },
           "yaxis": {
            "backgroundcolor": "#E5ECF6",
            "gridcolor": "white",
            "gridwidth": 2,
            "linecolor": "white",
            "showbackground": true,
            "ticks": "",
            "zerolinecolor": "white"
           },
           "zaxis": {
            "backgroundcolor": "#E5ECF6",
            "gridcolor": "white",
            "gridwidth": 2,
            "linecolor": "white",
            "showbackground": true,
            "ticks": "",
            "zerolinecolor": "white"
           }
          },
          "shapedefaults": {
           "line": {
            "color": "#2a3f5f"
           }
          },
          "ternary": {
           "aaxis": {
            "gridcolor": "white",
            "linecolor": "white",
            "ticks": ""
           },
           "baxis": {
            "gridcolor": "white",
            "linecolor": "white",
            "ticks": ""
           },
           "bgcolor": "#E5ECF6",
           "caxis": {
            "gridcolor": "white",
            "linecolor": "white",
            "ticks": ""
           }
          },
          "title": {
           "x": 0.05
          },
          "xaxis": {
           "automargin": true,
           "gridcolor": "white",
           "linecolor": "white",
           "ticks": "",
           "title": {
            "standoff": 15
           },
           "zerolinecolor": "white",
           "zerolinewidth": 2
          },
          "yaxis": {
           "automargin": true,
           "gridcolor": "white",
           "linecolor": "white",
           "ticks": "",
           "title": {
            "standoff": 15
           },
           "zerolinecolor": "white",
           "zerolinewidth": 2
          }
         }
        },
        "title": {
         "text": "Countries with more deaths and more deaths per population"
        },
        "uniformtext": {
         "minsize": 6,
         "mode": "hide"
        },
        "xaxis": {
         "anchor": "y",
         "categoryarray": [
          "United Kingdom",
          "Italy",
          "Spain"
         ],
         "categoryorder": "array",
         "domain": [
          0,
          1
         ],
         "tickangle": -45,
         "title": {
          "text": "location"
         }
        },
        "yaxis": {
         "anchor": "x",
         "domain": [
          0,
          1
         ],
         "title": {
          "text": "percentage_deaths_y"
         }
        }
       }
      }
     },
     "metadata": {}
    }
   ],
   "source": [
    "fig = px.bar(both, y = \"percentage_deaths_y\", x = \"location\", color = \"location\", color_discrete_sequence=px.colors.sequential.Viridis, hover_name=\"location\", hover_data={\"percentage_deaths_y\":':.2f', \"location\":False}, opacity = 0.7, text=\"percentage_deaths_y\")\n",
    "#set fontsize and uniformText\n",
    "fig.update_traces(texttemplate='%{text:.2s}', textposition='outside')\n",
    "fig.update_layout(uniformtext_minsize = 6,  uniformtext_mode='hide')\n",
    "#rotate label 45 degrees\n",
    "fig.update_layout(xaxis_tickangle=-45)\n",
    "#fig.update_layout(legend_title_text='confirmed (Covid-19)')\n",
    "fig.update_layout(title_text='Countries with more deaths and more deaths per population')\n",
    "\n",
    "\n",
    "fig.show()"
   ]
  },
  {
   "cell_type": "code",
   "execution_count": 342,
   "metadata": {},
   "outputs": [
    {
     "output_type": "display_data",
     "data": {
      "application/vnd.plotly.v1+json": {
       "config": {
        "plotlyServerURL": "https://plot.ly"
       },
       "data": [
        {
         "marker": {
          "color": "indianred"
         },
         "name": "Primary Product",
         "type": "bar",
         "x": [
          "United States",
          "Brazil",
          "India",
          "Mexico",
          "United Kingdom",
          "Italy",
          "France",
          "Spain",
          "Russia",
          "Iran"
         ],
         "y": [
          20.036681441482614,
          11.525992120042188,
          6.98561372845627,
          6.931720665864994,
          4.714053676675279,
          4.212350089975247,
          3.6825477337778874,
          3.118105098364984,
          2.907147185909034,
          2.544195105498143
         ]
        },
        {
         "marker": {
          "color": "lightsalmon"
         },
         "name": "Secondary Product",
         "type": "bar",
         "x": [
          "United States",
          "Brazil",
          "India",
          "Mexico",
          "United Kingdom",
          "Italy",
          "France",
          "Spain",
          "Russia",
          "Iran"
         ],
         "y": [
          0.07259735813633338,
          0.07014645063248007,
          0.006173761241161392,
          0.06177429516392751,
          0.08487134764089581,
          0.08515104952505566,
          0.06564040456652849,
          0.08168354418367686,
          0.024347590292338,
          0.038577746511156974
         ]
        }
       ],
       "layout": {
        "barmode": "group",
        "template": {
         "data": {
          "bar": [
           {
            "error_x": {
             "color": "#2a3f5f"
            },
            "error_y": {
             "color": "#2a3f5f"
            },
            "marker": {
             "line": {
              "color": "#E5ECF6",
              "width": 0.5
             }
            },
            "type": "bar"
           }
          ],
          "barpolar": [
           {
            "marker": {
             "line": {
              "color": "#E5ECF6",
              "width": 0.5
             }
            },
            "type": "barpolar"
           }
          ],
          "carpet": [
           {
            "aaxis": {
             "endlinecolor": "#2a3f5f",
             "gridcolor": "white",
             "linecolor": "white",
             "minorgridcolor": "white",
             "startlinecolor": "#2a3f5f"
            },
            "baxis": {
             "endlinecolor": "#2a3f5f",
             "gridcolor": "white",
             "linecolor": "white",
             "minorgridcolor": "white",
             "startlinecolor": "#2a3f5f"
            },
            "type": "carpet"
           }
          ],
          "choropleth": [
           {
            "colorbar": {
             "outlinewidth": 0,
             "ticks": ""
            },
            "type": "choropleth"
           }
          ],
          "contour": [
           {
            "colorbar": {
             "outlinewidth": 0,
             "ticks": ""
            },
            "colorscale": [
             [
              0,
              "#0d0887"
             ],
             [
              0.1111111111111111,
              "#46039f"
             ],
             [
              0.2222222222222222,
              "#7201a8"
             ],
             [
              0.3333333333333333,
              "#9c179e"
             ],
             [
              0.4444444444444444,
              "#bd3786"
             ],
             [
              0.5555555555555556,
              "#d8576b"
             ],
             [
              0.6666666666666666,
              "#ed7953"
             ],
             [
              0.7777777777777778,
              "#fb9f3a"
             ],
             [
              0.8888888888888888,
              "#fdca26"
             ],
             [
              1,
              "#f0f921"
             ]
            ],
            "type": "contour"
           }
          ],
          "contourcarpet": [
           {
            "colorbar": {
             "outlinewidth": 0,
             "ticks": ""
            },
            "type": "contourcarpet"
           }
          ],
          "heatmap": [
           {
            "colorbar": {
             "outlinewidth": 0,
             "ticks": ""
            },
            "colorscale": [
             [
              0,
              "#0d0887"
             ],
             [
              0.1111111111111111,
              "#46039f"
             ],
             [
              0.2222222222222222,
              "#7201a8"
             ],
             [
              0.3333333333333333,
              "#9c179e"
             ],
             [
              0.4444444444444444,
              "#bd3786"
             ],
             [
              0.5555555555555556,
              "#d8576b"
             ],
             [
              0.6666666666666666,
              "#ed7953"
             ],
             [
              0.7777777777777778,
              "#fb9f3a"
             ],
             [
              0.8888888888888888,
              "#fdca26"
             ],
             [
              1,
              "#f0f921"
             ]
            ],
            "type": "heatmap"
           }
          ],
          "heatmapgl": [
           {
            "colorbar": {
             "outlinewidth": 0,
             "ticks": ""
            },
            "colorscale": [
             [
              0,
              "#0d0887"
             ],
             [
              0.1111111111111111,
              "#46039f"
             ],
             [
              0.2222222222222222,
              "#7201a8"
             ],
             [
              0.3333333333333333,
              "#9c179e"
             ],
             [
              0.4444444444444444,
              "#bd3786"
             ],
             [
              0.5555555555555556,
              "#d8576b"
             ],
             [
              0.6666666666666666,
              "#ed7953"
             ],
             [
              0.7777777777777778,
              "#fb9f3a"
             ],
             [
              0.8888888888888888,
              "#fdca26"
             ],
             [
              1,
              "#f0f921"
             ]
            ],
            "type": "heatmapgl"
           }
          ],
          "histogram": [
           {
            "marker": {
             "colorbar": {
              "outlinewidth": 0,
              "ticks": ""
             }
            },
            "type": "histogram"
           }
          ],
          "histogram2d": [
           {
            "colorbar": {
             "outlinewidth": 0,
             "ticks": ""
            },
            "colorscale": [
             [
              0,
              "#0d0887"
             ],
             [
              0.1111111111111111,
              "#46039f"
             ],
             [
              0.2222222222222222,
              "#7201a8"
             ],
             [
              0.3333333333333333,
              "#9c179e"
             ],
             [
              0.4444444444444444,
              "#bd3786"
             ],
             [
              0.5555555555555556,
              "#d8576b"
             ],
             [
              0.6666666666666666,
              "#ed7953"
             ],
             [
              0.7777777777777778,
              "#fb9f3a"
             ],
             [
              0.8888888888888888,
              "#fdca26"
             ],
             [
              1,
              "#f0f921"
             ]
            ],
            "type": "histogram2d"
           }
          ],
          "histogram2dcontour": [
           {
            "colorbar": {
             "outlinewidth": 0,
             "ticks": ""
            },
            "colorscale": [
             [
              0,
              "#0d0887"
             ],
             [
              0.1111111111111111,
              "#46039f"
             ],
             [
              0.2222222222222222,
              "#7201a8"
             ],
             [
              0.3333333333333333,
              "#9c179e"
             ],
             [
              0.4444444444444444,
              "#bd3786"
             ],
             [
              0.5555555555555556,
              "#d8576b"
             ],
             [
              0.6666666666666666,
              "#ed7953"
             ],
             [
              0.7777777777777778,
              "#fb9f3a"
             ],
             [
              0.8888888888888888,
              "#fdca26"
             ],
             [
              1,
              "#f0f921"
             ]
            ],
            "type": "histogram2dcontour"
           }
          ],
          "mesh3d": [
           {
            "colorbar": {
             "outlinewidth": 0,
             "ticks": ""
            },
            "type": "mesh3d"
           }
          ],
          "parcoords": [
           {
            "line": {
             "colorbar": {
              "outlinewidth": 0,
              "ticks": ""
             }
            },
            "type": "parcoords"
           }
          ],
          "pie": [
           {
            "automargin": true,
            "type": "pie"
           }
          ],
          "scatter": [
           {
            "marker": {
             "colorbar": {
              "outlinewidth": 0,
              "ticks": ""
             }
            },
            "type": "scatter"
           }
          ],
          "scatter3d": [
           {
            "line": {
             "colorbar": {
              "outlinewidth": 0,
              "ticks": ""
             }
            },
            "marker": {
             "colorbar": {
              "outlinewidth": 0,
              "ticks": ""
             }
            },
            "type": "scatter3d"
           }
          ],
          "scattercarpet": [
           {
            "marker": {
             "colorbar": {
              "outlinewidth": 0,
              "ticks": ""
             }
            },
            "type": "scattercarpet"
           }
          ],
          "scattergeo": [
           {
            "marker": {
             "colorbar": {
              "outlinewidth": 0,
              "ticks": ""
             }
            },
            "type": "scattergeo"
           }
          ],
          "scattergl": [
           {
            "marker": {
             "colorbar": {
              "outlinewidth": 0,
              "ticks": ""
             }
            },
            "type": "scattergl"
           }
          ],
          "scattermapbox": [
           {
            "marker": {
             "colorbar": {
              "outlinewidth": 0,
              "ticks": ""
             }
            },
            "type": "scattermapbox"
           }
          ],
          "scatterpolar": [
           {
            "marker": {
             "colorbar": {
              "outlinewidth": 0,
              "ticks": ""
             }
            },
            "type": "scatterpolar"
           }
          ],
          "scatterpolargl": [
           {
            "marker": {
             "colorbar": {
              "outlinewidth": 0,
              "ticks": ""
             }
            },
            "type": "scatterpolargl"
           }
          ],
          "scatterternary": [
           {
            "marker": {
             "colorbar": {
              "outlinewidth": 0,
              "ticks": ""
             }
            },
            "type": "scatterternary"
           }
          ],
          "surface": [
           {
            "colorbar": {
             "outlinewidth": 0,
             "ticks": ""
            },
            "colorscale": [
             [
              0,
              "#0d0887"
             ],
             [
              0.1111111111111111,
              "#46039f"
             ],
             [
              0.2222222222222222,
              "#7201a8"
             ],
             [
              0.3333333333333333,
              "#9c179e"
             ],
             [
              0.4444444444444444,
              "#bd3786"
             ],
             [
              0.5555555555555556,
              "#d8576b"
             ],
             [
              0.6666666666666666,
              "#ed7953"
             ],
             [
              0.7777777777777778,
              "#fb9f3a"
             ],
             [
              0.8888888888888888,
              "#fdca26"
             ],
             [
              1,
              "#f0f921"
             ]
            ],
            "type": "surface"
           }
          ],
          "table": [
           {
            "cells": {
             "fill": {
              "color": "#EBF0F8"
             },
             "line": {
              "color": "white"
             }
            },
            "header": {
             "fill": {
              "color": "#C8D4E3"
             },
             "line": {
              "color": "white"
             }
            },
            "type": "table"
           }
          ]
         },
         "layout": {
          "annotationdefaults": {
           "arrowcolor": "#2a3f5f",
           "arrowhead": 0,
           "arrowwidth": 1
          },
          "autotypenumbers": "strict",
          "coloraxis": {
           "colorbar": {
            "outlinewidth": 0,
            "ticks": ""
           }
          },
          "colorscale": {
           "diverging": [
            [
             0,
             "#8e0152"
            ],
            [
             0.1,
             "#c51b7d"
            ],
            [
             0.2,
             "#de77ae"
            ],
            [
             0.3,
             "#f1b6da"
            ],
            [
             0.4,
             "#fde0ef"
            ],
            [
             0.5,
             "#f7f7f7"
            ],
            [
             0.6,
             "#e6f5d0"
            ],
            [
             0.7,
             "#b8e186"
            ],
            [
             0.8,
             "#7fbc41"
            ],
            [
             0.9,
             "#4d9221"
            ],
            [
             1,
             "#276419"
            ]
           ],
           "sequential": [
            [
             0,
             "#0d0887"
            ],
            [
             0.1111111111111111,
             "#46039f"
            ],
            [
             0.2222222222222222,
             "#7201a8"
            ],
            [
             0.3333333333333333,
             "#9c179e"
            ],
            [
             0.4444444444444444,
             "#bd3786"
            ],
            [
             0.5555555555555556,
             "#d8576b"
            ],
            [
             0.6666666666666666,
             "#ed7953"
            ],
            [
             0.7777777777777778,
             "#fb9f3a"
            ],
            [
             0.8888888888888888,
             "#fdca26"
            ],
            [
             1,
             "#f0f921"
            ]
           ],
           "sequentialminus": [
            [
             0,
             "#0d0887"
            ],
            [
             0.1111111111111111,
             "#46039f"
            ],
            [
             0.2222222222222222,
             "#7201a8"
            ],
            [
             0.3333333333333333,
             "#9c179e"
            ],
            [
             0.4444444444444444,
             "#bd3786"
            ],
            [
             0.5555555555555556,
             "#d8576b"
            ],
            [
             0.6666666666666666,
             "#ed7953"
            ],
            [
             0.7777777777777778,
             "#fb9f3a"
            ],
            [
             0.8888888888888888,
             "#fdca26"
            ],
            [
             1,
             "#f0f921"
            ]
           ]
          },
          "colorway": [
           "#636efa",
           "#EF553B",
           "#00cc96",
           "#ab63fa",
           "#FFA15A",
           "#19d3f3",
           "#FF6692",
           "#B6E880",
           "#FF97FF",
           "#FECB52"
          ],
          "font": {
           "color": "#2a3f5f"
          },
          "geo": {
           "bgcolor": "white",
           "lakecolor": "white",
           "landcolor": "#E5ECF6",
           "showlakes": true,
           "showland": true,
           "subunitcolor": "white"
          },
          "hoverlabel": {
           "align": "left"
          },
          "hovermode": "closest",
          "mapbox": {
           "style": "light"
          },
          "paper_bgcolor": "white",
          "plot_bgcolor": "#E5ECF6",
          "polar": {
           "angularaxis": {
            "gridcolor": "white",
            "linecolor": "white",
            "ticks": ""
           },
           "bgcolor": "#E5ECF6",
           "radialaxis": {
            "gridcolor": "white",
            "linecolor": "white",
            "ticks": ""
           }
          },
          "scene": {
           "xaxis": {
            "backgroundcolor": "#E5ECF6",
            "gridcolor": "white",
            "gridwidth": 2,
            "linecolor": "white",
            "showbackground": true,
            "ticks": "",
            "zerolinecolor": "white"
           },
           "yaxis": {
            "backgroundcolor": "#E5ECF6",
            "gridcolor": "white",
            "gridwidth": 2,
            "linecolor": "white",
            "showbackground": true,
            "ticks": "",
            "zerolinecolor": "white"
           },
           "zaxis": {
            "backgroundcolor": "#E5ECF6",
            "gridcolor": "white",
            "gridwidth": 2,
            "linecolor": "white",
            "showbackground": true,
            "ticks": "",
            "zerolinecolor": "white"
           }
          },
          "shapedefaults": {
           "line": {
            "color": "#2a3f5f"
           }
          },
          "ternary": {
           "aaxis": {
            "gridcolor": "white",
            "linecolor": "white",
            "ticks": ""
           },
           "baxis": {
            "gridcolor": "white",
            "linecolor": "white",
            "ticks": ""
           },
           "bgcolor": "#E5ECF6",
           "caxis": {
            "gridcolor": "white",
            "linecolor": "white",
            "ticks": ""
           }
          },
          "title": {
           "x": 0.05
          },
          "xaxis": {
           "automargin": true,
           "gridcolor": "white",
           "linecolor": "white",
           "ticks": "",
           "title": {
            "standoff": 15
           },
           "zerolinecolor": "white",
           "zerolinewidth": 2
          },
          "yaxis": {
           "automargin": true,
           "gridcolor": "white",
           "linecolor": "white",
           "ticks": "",
           "title": {
            "standoff": 15
           },
           "zerolinecolor": "white",
           "zerolinewidth": 2
          }
         }
        },
        "xaxis": {
         "tickangle": -45
        }
       }
      }
     },
     "metadata": {}
    }
   ],
   "source": [
    "import plotly.graph_objects as go\n",
    "\n",
    "fig = go.Figure()\n",
    "fig.add_trace(go.Bar(\n",
    "    x=moreDeaths[\"location\"][0:10],\n",
    "    y=moreDeaths[\"percentage_deaths\"][0:10],\n",
    "    name='Primary Product',\n",
    "    marker_color='indianred'\n",
    "))\n",
    "fig.add_trace(go.Bar(\n",
    "    x=moreDeaths[\"location\"][0:10],\n",
    "    y=moreDeaths[\"deaths_population\"][0:10],\n",
    "    name='Secondary Product',\n",
    "    marker_color='lightsalmon'\n",
    "))\n",
    "\n",
    "# Here we modify the tickangle of the xaxis, resulting in rotated labels.\n",
    "fig.update_layout(barmode='group', xaxis_tickangle=-45)\n",
    "fig.show()"
   ]
  },
  {
   "cell_type": "code",
   "execution_count": 353,
   "metadata": {},
   "outputs": [
    {
     "output_type": "display_data",
     "data": {
      "application/vnd.plotly.v1+json": {
       "config": {
        "plotlyServerURL": "https://plot.ly"
       },
       "data": [
        {
         "marker": {
          "color": "crimson"
         },
         "name": "Contries with more deaths",
         "opacity": 0.6,
         "type": "bar",
         "x": [
          "United States",
          "Brazil",
          "India",
          "Mexico",
          "United Kingdom",
          "Italy",
          "France",
          "Spain",
          "Russia",
          "Iran"
         ],
         "xaxis": "x",
         "y": [
          20.036681441482614,
          11.525992120042188,
          6.98561372845627,
          6.931720665864994,
          4.714053676675279,
          4.212350089975247,
          3.6825477337778874,
          3.118105098364984,
          2.907147185909034,
          2.544195105498143
         ],
         "yaxis": "y"
        },
        {
         "marker": {
          "color": "rebeccapurple"
         },
         "name": "Contries with more deaths per population",
         "opacity": 0.6,
         "type": "bar",
         "x": [
          "San Marino",
          "Belgium",
          "Andorra",
          "Italy",
          "United Kingdom",
          "Spain",
          "Czechia",
          "Peru",
          "Bosnia and Herzegovina",
          "Montenegro"
         ],
         "xaxis": "x2",
         "y": [
          0.1486414813658611,
          0.10984062859702302,
          0.0891912720683833,
          0.08515104952505566,
          0.08487134764089581,
          0.08168354418367686,
          0.07557455326867156,
          0.07488801105470211,
          0.07417249197418718,
          0.07277625457359306
         ],
         "yaxis": "y2"
        },
        {
         "marker": {
          "color": "coral"
         },
         "name": "Contries in both categories",
         "opacity": 0.6,
         "text": "percentage_deaths_y",
         "type": "bar",
         "x": [
          "United Kingdom",
          "Italy",
          "Spain"
         ],
         "xaxis": "x3",
         "y": [
          4.714053676675279,
          4.212350089975247,
          3.118105098364984
         ],
         "yaxis": "y3"
        }
       ],
       "layout": {
        "annotations": [
         {
          "font": {
           "size": 16
          },
          "showarrow": false,
          "text": "Top 10 Contries with more deaths",
          "x": 0.5,
          "xanchor": "center",
          "xref": "paper",
          "y": 1,
          "yanchor": "bottom",
          "yref": "paper"
         },
         {
          "font": {
           "size": 16
          },
          "showarrow": false,
          "text": "Top 10 Contries with more deaths per population",
          "x": 0.5,
          "xanchor": "center",
          "xref": "paper",
          "y": 0.6111111111111112,
          "yanchor": "bottom",
          "yref": "paper"
         },
         {
          "font": {
           "size": 16
          },
          "showarrow": false,
          "text": "Contries in both categories",
          "x": 0.5,
          "xanchor": "center",
          "xref": "paper",
          "y": 0.22222222222222224,
          "yanchor": "bottom",
          "yref": "paper"
         }
        ],
        "height": 1000,
        "margin": {
         "b": 40,
         "l": 60,
         "r": 10,
         "t": 25
        },
        "showlegend": false,
        "template": {
         "data": {
          "bar": [
           {
            "error_x": {
             "color": "rgb(51,51,51)"
            },
            "error_y": {
             "color": "rgb(51,51,51)"
            },
            "marker": {
             "line": {
              "color": "rgb(237,237,237)",
              "width": 0.5
             }
            },
            "type": "bar"
           }
          ],
          "barpolar": [
           {
            "marker": {
             "line": {
              "color": "rgb(237,237,237)",
              "width": 0.5
             }
            },
            "type": "barpolar"
           }
          ],
          "carpet": [
           {
            "aaxis": {
             "endlinecolor": "rgb(51,51,51)",
             "gridcolor": "white",
             "linecolor": "white",
             "minorgridcolor": "white",
             "startlinecolor": "rgb(51,51,51)"
            },
            "baxis": {
             "endlinecolor": "rgb(51,51,51)",
             "gridcolor": "white",
             "linecolor": "white",
             "minorgridcolor": "white",
             "startlinecolor": "rgb(51,51,51)"
            },
            "type": "carpet"
           }
          ],
          "choropleth": [
           {
            "colorbar": {
             "outlinewidth": 0,
             "tickcolor": "rgb(237,237,237)",
             "ticklen": 6,
             "ticks": "inside"
            },
            "type": "choropleth"
           }
          ],
          "contour": [
           {
            "colorbar": {
             "outlinewidth": 0,
             "tickcolor": "rgb(237,237,237)",
             "ticklen": 6,
             "ticks": "inside"
            },
            "colorscale": [
             [
              0,
              "rgb(20,44,66)"
             ],
             [
              1,
              "rgb(90,179,244)"
             ]
            ],
            "type": "contour"
           }
          ],
          "contourcarpet": [
           {
            "colorbar": {
             "outlinewidth": 0,
             "tickcolor": "rgb(237,237,237)",
             "ticklen": 6,
             "ticks": "inside"
            },
            "type": "contourcarpet"
           }
          ],
          "heatmap": [
           {
            "colorbar": {
             "outlinewidth": 0,
             "tickcolor": "rgb(237,237,237)",
             "ticklen": 6,
             "ticks": "inside"
            },
            "colorscale": [
             [
              0,
              "rgb(20,44,66)"
             ],
             [
              1,
              "rgb(90,179,244)"
             ]
            ],
            "type": "heatmap"
           }
          ],
          "heatmapgl": [
           {
            "colorbar": {
             "outlinewidth": 0,
             "tickcolor": "rgb(237,237,237)",
             "ticklen": 6,
             "ticks": "inside"
            },
            "colorscale": [
             [
              0,
              "rgb(20,44,66)"
             ],
             [
              1,
              "rgb(90,179,244)"
             ]
            ],
            "type": "heatmapgl"
           }
          ],
          "histogram": [
           {
            "marker": {
             "colorbar": {
              "outlinewidth": 0,
              "tickcolor": "rgb(237,237,237)",
              "ticklen": 6,
              "ticks": "inside"
             }
            },
            "type": "histogram"
           }
          ],
          "histogram2d": [
           {
            "colorbar": {
             "outlinewidth": 0,
             "tickcolor": "rgb(237,237,237)",
             "ticklen": 6,
             "ticks": "inside"
            },
            "colorscale": [
             [
              0,
              "rgb(20,44,66)"
             ],
             [
              1,
              "rgb(90,179,244)"
             ]
            ],
            "type": "histogram2d"
           }
          ],
          "histogram2dcontour": [
           {
            "colorbar": {
             "outlinewidth": 0,
             "tickcolor": "rgb(237,237,237)",
             "ticklen": 6,
             "ticks": "inside"
            },
            "colorscale": [
             [
              0,
              "rgb(20,44,66)"
             ],
             [
              1,
              "rgb(90,179,244)"
             ]
            ],
            "type": "histogram2dcontour"
           }
          ],
          "mesh3d": [
           {
            "colorbar": {
             "outlinewidth": 0,
             "tickcolor": "rgb(237,237,237)",
             "ticklen": 6,
             "ticks": "inside"
            },
            "type": "mesh3d"
           }
          ],
          "parcoords": [
           {
            "line": {
             "colorbar": {
              "outlinewidth": 0,
              "tickcolor": "rgb(237,237,237)",
              "ticklen": 6,
              "ticks": "inside"
             }
            },
            "type": "parcoords"
           }
          ],
          "pie": [
           {
            "automargin": true,
            "type": "pie"
           }
          ],
          "scatter": [
           {
            "marker": {
             "colorbar": {
              "outlinewidth": 0,
              "tickcolor": "rgb(237,237,237)",
              "ticklen": 6,
              "ticks": "inside"
             }
            },
            "type": "scatter"
           }
          ],
          "scatter3d": [
           {
            "line": {
             "colorbar": {
              "outlinewidth": 0,
              "tickcolor": "rgb(237,237,237)",
              "ticklen": 6,
              "ticks": "inside"
             }
            },
            "marker": {
             "colorbar": {
              "outlinewidth": 0,
              "tickcolor": "rgb(237,237,237)",
              "ticklen": 6,
              "ticks": "inside"
             }
            },
            "type": "scatter3d"
           }
          ],
          "scattercarpet": [
           {
            "marker": {
             "colorbar": {
              "outlinewidth": 0,
              "tickcolor": "rgb(237,237,237)",
              "ticklen": 6,
              "ticks": "inside"
             }
            },
            "type": "scattercarpet"
           }
          ],
          "scattergeo": [
           {
            "marker": {
             "colorbar": {
              "outlinewidth": 0,
              "tickcolor": "rgb(237,237,237)",
              "ticklen": 6,
              "ticks": "inside"
             }
            },
            "type": "scattergeo"
           }
          ],
          "scattergl": [
           {
            "marker": {
             "colorbar": {
              "outlinewidth": 0,
              "tickcolor": "rgb(237,237,237)",
              "ticklen": 6,
              "ticks": "inside"
             }
            },
            "type": "scattergl"
           }
          ],
          "scattermapbox": [
           {
            "marker": {
             "colorbar": {
              "outlinewidth": 0,
              "tickcolor": "rgb(237,237,237)",
              "ticklen": 6,
              "ticks": "inside"
             }
            },
            "type": "scattermapbox"
           }
          ],
          "scatterpolar": [
           {
            "marker": {
             "colorbar": {
              "outlinewidth": 0,
              "tickcolor": "rgb(237,237,237)",
              "ticklen": 6,
              "ticks": "inside"
             }
            },
            "type": "scatterpolar"
           }
          ],
          "scatterpolargl": [
           {
            "marker": {
             "colorbar": {
              "outlinewidth": 0,
              "tickcolor": "rgb(237,237,237)",
              "ticklen": 6,
              "ticks": "inside"
             }
            },
            "type": "scatterpolargl"
           }
          ],
          "scatterternary": [
           {
            "marker": {
             "colorbar": {
              "outlinewidth": 0,
              "tickcolor": "rgb(237,237,237)",
              "ticklen": 6,
              "ticks": "inside"
             }
            },
            "type": "scatterternary"
           }
          ],
          "surface": [
           {
            "colorbar": {
             "outlinewidth": 0,
             "tickcolor": "rgb(237,237,237)",
             "ticklen": 6,
             "ticks": "inside"
            },
            "colorscale": [
             [
              0,
              "rgb(20,44,66)"
             ],
             [
              1,
              "rgb(90,179,244)"
             ]
            ],
            "type": "surface"
           }
          ],
          "table": [
           {
            "cells": {
             "fill": {
              "color": "rgb(237,237,237)"
             },
             "line": {
              "color": "white"
             }
            },
            "header": {
             "fill": {
              "color": "rgb(217,217,217)"
             },
             "line": {
              "color": "white"
             }
            },
            "type": "table"
           }
          ]
         },
         "layout": {
          "annotationdefaults": {
           "arrowhead": 0,
           "arrowwidth": 1
          },
          "autotypenumbers": "strict",
          "coloraxis": {
           "colorbar": {
            "outlinewidth": 0,
            "tickcolor": "rgb(237,237,237)",
            "ticklen": 6,
            "ticks": "inside"
           }
          },
          "colorscale": {
           "sequential": [
            [
             0,
             "rgb(20,44,66)"
            ],
            [
             1,
             "rgb(90,179,244)"
            ]
           ],
           "sequentialminus": [
            [
             0,
             "rgb(20,44,66)"
            ],
            [
             1,
             "rgb(90,179,244)"
            ]
           ]
          },
          "colorway": [
           "#F8766D",
           "#A3A500",
           "#00BF7D",
           "#00B0F6",
           "#E76BF3"
          ],
          "font": {
           "color": "rgb(51,51,51)"
          },
          "geo": {
           "bgcolor": "white",
           "lakecolor": "white",
           "landcolor": "rgb(237,237,237)",
           "showlakes": true,
           "showland": true,
           "subunitcolor": "white"
          },
          "hoverlabel": {
           "align": "left"
          },
          "hovermode": "closest",
          "paper_bgcolor": "white",
          "plot_bgcolor": "rgb(237,237,237)",
          "polar": {
           "angularaxis": {
            "gridcolor": "white",
            "linecolor": "white",
            "showgrid": true,
            "tickcolor": "rgb(51,51,51)",
            "ticks": "outside"
           },
           "bgcolor": "rgb(237,237,237)",
           "radialaxis": {
            "gridcolor": "white",
            "linecolor": "white",
            "showgrid": true,
            "tickcolor": "rgb(51,51,51)",
            "ticks": "outside"
           }
          },
          "scene": {
           "xaxis": {
            "backgroundcolor": "rgb(237,237,237)",
            "gridcolor": "white",
            "gridwidth": 2,
            "linecolor": "white",
            "showbackground": true,
            "showgrid": true,
            "tickcolor": "rgb(51,51,51)",
            "ticks": "outside",
            "zerolinecolor": "white"
           },
           "yaxis": {
            "backgroundcolor": "rgb(237,237,237)",
            "gridcolor": "white",
            "gridwidth": 2,
            "linecolor": "white",
            "showbackground": true,
            "showgrid": true,
            "tickcolor": "rgb(51,51,51)",
            "ticks": "outside",
            "zerolinecolor": "white"
           },
           "zaxis": {
            "backgroundcolor": "rgb(237,237,237)",
            "gridcolor": "white",
            "gridwidth": 2,
            "linecolor": "white",
            "showbackground": true,
            "showgrid": true,
            "tickcolor": "rgb(51,51,51)",
            "ticks": "outside",
            "zerolinecolor": "white"
           }
          },
          "shapedefaults": {
           "fillcolor": "black",
           "line": {
            "width": 0
           },
           "opacity": 0.3
          },
          "ternary": {
           "aaxis": {
            "gridcolor": "white",
            "linecolor": "white",
            "showgrid": true,
            "tickcolor": "rgb(51,51,51)",
            "ticks": "outside"
           },
           "baxis": {
            "gridcolor": "white",
            "linecolor": "white",
            "showgrid": true,
            "tickcolor": "rgb(51,51,51)",
            "ticks": "outside"
           },
           "bgcolor": "rgb(237,237,237)",
           "caxis": {
            "gridcolor": "white",
            "linecolor": "white",
            "showgrid": true,
            "tickcolor": "rgb(51,51,51)",
            "ticks": "outside"
           }
          },
          "xaxis": {
           "automargin": true,
           "gridcolor": "white",
           "linecolor": "white",
           "showgrid": true,
           "tickcolor": "rgb(51,51,51)",
           "ticks": "outside",
           "title": {
            "standoff": 15
           },
           "zerolinecolor": "white"
          },
          "yaxis": {
           "automargin": true,
           "gridcolor": "white",
           "linecolor": "white",
           "showgrid": true,
           "tickcolor": "rgb(51,51,51)",
           "ticks": "outside",
           "title": {
            "standoff": 15
           },
           "zerolinecolor": "white"
          }
         }
        },
        "xaxis": {
         "anchor": "y",
         "domain": [
          0,
          1
         ],
         "tickangle": 45
        },
        "xaxis2": {
         "anchor": "y2",
         "domain": [
          0,
          1
         ],
         "tickangle": 45
        },
        "xaxis3": {
         "anchor": "y3",
         "domain": [
          0,
          1
         ],
         "tickangle": 45
        },
        "yaxis": {
         "anchor": "x",
         "domain": [
          0.7777777777777778,
          1
         ]
        },
        "yaxis2": {
         "anchor": "x2",
         "domain": [
          0.3888888888888889,
          0.6111111111111112
         ]
        },
        "yaxis3": {
         "anchor": "x3",
         "domain": [
          0,
          0.22222222222222224
         ]
        }
       }
      }
     },
     "metadata": {}
    }
   ],
   "source": [
    "import plotly.graph_objects as go\n",
    "from plotly.subplots import make_subplots\n",
    "\n",
    "# Initialize figure with subplots\n",
    "fig = make_subplots(\n",
    "    rows=3, cols=1,\n",
    "    specs=[[{\"type\": \"bar\"}], [{\"type\": \"bar\"}], [{\"type\": \"bar\"}]],\n",
    "    subplot_titles=(\"Top 10 Contries with more deaths\", \"Top 10 Contries with more deaths per population\", \"Contries in both categories\")\n",
    "    )\n",
    "\n",
    "# Add scattergeo globe map of volcano locations\n",
    "fig.add_trace(\n",
    "    go.Bar(x = moreDeaths[\"location\"][0:10], y = moreDeaths[\"percentage_deaths\"][0:10],\n",
    "            opacity = 0.6, marker=dict(color=\"crimson\"), name='Contries with more deaths'),\n",
    "    row=1, col=1\n",
    ")\n",
    "\n",
    "# Add locations bar chart\n",
    "fig.add_trace(\n",
    "    go.Bar(x = morePercentage[\"location\"][0:10], y = morePercentage[\"deaths_population\"][0:10],\n",
    "           opacity = 0.6, marker=dict(color=\"rebeccapurple\"),name='Contries with more deaths per population'),\n",
    "    row=2, col=1\n",
    ")\n",
    "\n",
    "# Add locations bar chart\n",
    "fig.add_trace(\n",
    "    go.Bar(x = both[\"location\"][0:10], y = both[\"percentage_deaths_y\"][0:10],\n",
    "            text = \"percentage_deaths_y\", opacity = 0.6, marker=dict(color=\"coral\"), name='Contries in both categories'),\n",
    "    row=3, col=1\n",
    ")\n",
    "\n",
    "# Rotate x-axis labels\n",
    "fig.update_xaxes(tickangle=45)\n",
    "\n",
    "# Set theme, margin, and annotation in layout\n",
    "fig.update_layout(\n",
    "    template='ggplot2',\n",
    "    margin=dict(r=10, t=25, b=40, l=60),\n",
    "    height=1000,\n",
    "    showlegend=False,\n",
    ")\n",
    "\n",
    "fig.show()"
   ]
  },
  {
   "cell_type": "code",
   "execution_count": 371,
   "metadata": {},
   "outputs": [
    {
     "output_type": "display_data",
     "data": {
      "application/vnd.plotly.v1+json": {
       "config": {
        "plotlyServerURL": "https://plot.ly"
       },
       "data": [
        {
         "marker": {
          "color": "rgba(50, 171, 96, 0.6)",
          "line": {
           "color": "rgba(50, 171, 96, 1.0)",
           "width": 1
          }
         },
         "name": "Percentage of total deaths",
         "orientation": "h",
         "type": "bar",
         "x": [
          20.036681441482614,
          11.525992120042188,
          6.98561372845627,
          6.931720665864994,
          4.714053676675279,
          4.212350089975247,
          3.6825477337778874,
          3.118105098364984,
          2.907147185909034,
          2.544195105498143
         ],
         "xaxis": "x",
         "y": [
          "United States",
          "Brazil",
          "India",
          "Mexico",
          "United Kingdom",
          "Italy",
          "France",
          "Spain",
          "Russia",
          "Iran"
         ],
         "yaxis": "y"
        },
        {
         "marker": {
          "color": "rgba(41, 0, 64, 0.6)",
          "line": {
           "color": "rgba(41, 0, 64, 1.0)",
           "width": 1
          }
         },
         "name": "Percentage of deaths per population",
         "orientation": "h",
         "type": "bar",
         "x": [
          0.07259735813633338,
          0.07014645063248007,
          0.006173761241161392,
          0.06177429516392751,
          0.08487134764089581,
          0.08515104952505566,
          0.06564040456652849,
          0.08168354418367686,
          0.024347590292338,
          0.038577746511156974
         ],
         "xaxis": "x2",
         "y": [
          "United States",
          "Brazil",
          "India",
          "Mexico",
          "United Kingdom",
          "Italy",
          "France",
          "Spain",
          "Russia",
          "Iran"
         ],
         "yaxis": "y2"
        }
       ],
       "layout": {
        "legend": {
         "font": {
          "size": 10
         },
         "x": 0.029,
         "y": 1.038
        },
        "margin": {
         "b": 70,
         "l": 100,
         "r": 20,
         "t": 70
        },
        "paper_bgcolor": "rgb(248, 248, 255)",
        "plot_bgcolor": "rgb(248, 248, 255)",
        "template": {
         "data": {
          "bar": [
           {
            "error_x": {
             "color": "#2a3f5f"
            },
            "error_y": {
             "color": "#2a3f5f"
            },
            "marker": {
             "line": {
              "color": "#E5ECF6",
              "width": 0.5
             }
            },
            "type": "bar"
           }
          ],
          "barpolar": [
           {
            "marker": {
             "line": {
              "color": "#E5ECF6",
              "width": 0.5
             }
            },
            "type": "barpolar"
           }
          ],
          "carpet": [
           {
            "aaxis": {
             "endlinecolor": "#2a3f5f",
             "gridcolor": "white",
             "linecolor": "white",
             "minorgridcolor": "white",
             "startlinecolor": "#2a3f5f"
            },
            "baxis": {
             "endlinecolor": "#2a3f5f",
             "gridcolor": "white",
             "linecolor": "white",
             "minorgridcolor": "white",
             "startlinecolor": "#2a3f5f"
            },
            "type": "carpet"
           }
          ],
          "choropleth": [
           {
            "colorbar": {
             "outlinewidth": 0,
             "ticks": ""
            },
            "type": "choropleth"
           }
          ],
          "contour": [
           {
            "colorbar": {
             "outlinewidth": 0,
             "ticks": ""
            },
            "colorscale": [
             [
              0,
              "#0d0887"
             ],
             [
              0.1111111111111111,
              "#46039f"
             ],
             [
              0.2222222222222222,
              "#7201a8"
             ],
             [
              0.3333333333333333,
              "#9c179e"
             ],
             [
              0.4444444444444444,
              "#bd3786"
             ],
             [
              0.5555555555555556,
              "#d8576b"
             ],
             [
              0.6666666666666666,
              "#ed7953"
             ],
             [
              0.7777777777777778,
              "#fb9f3a"
             ],
             [
              0.8888888888888888,
              "#fdca26"
             ],
             [
              1,
              "#f0f921"
             ]
            ],
            "type": "contour"
           }
          ],
          "contourcarpet": [
           {
            "colorbar": {
             "outlinewidth": 0,
             "ticks": ""
            },
            "type": "contourcarpet"
           }
          ],
          "heatmap": [
           {
            "colorbar": {
             "outlinewidth": 0,
             "ticks": ""
            },
            "colorscale": [
             [
              0,
              "#0d0887"
             ],
             [
              0.1111111111111111,
              "#46039f"
             ],
             [
              0.2222222222222222,
              "#7201a8"
             ],
             [
              0.3333333333333333,
              "#9c179e"
             ],
             [
              0.4444444444444444,
              "#bd3786"
             ],
             [
              0.5555555555555556,
              "#d8576b"
             ],
             [
              0.6666666666666666,
              "#ed7953"
             ],
             [
              0.7777777777777778,
              "#fb9f3a"
             ],
             [
              0.8888888888888888,
              "#fdca26"
             ],
             [
              1,
              "#f0f921"
             ]
            ],
            "type": "heatmap"
           }
          ],
          "heatmapgl": [
           {
            "colorbar": {
             "outlinewidth": 0,
             "ticks": ""
            },
            "colorscale": [
             [
              0,
              "#0d0887"
             ],
             [
              0.1111111111111111,
              "#46039f"
             ],
             [
              0.2222222222222222,
              "#7201a8"
             ],
             [
              0.3333333333333333,
              "#9c179e"
             ],
             [
              0.4444444444444444,
              "#bd3786"
             ],
             [
              0.5555555555555556,
              "#d8576b"
             ],
             [
              0.6666666666666666,
              "#ed7953"
             ],
             [
              0.7777777777777778,
              "#fb9f3a"
             ],
             [
              0.8888888888888888,
              "#fdca26"
             ],
             [
              1,
              "#f0f921"
             ]
            ],
            "type": "heatmapgl"
           }
          ],
          "histogram": [
           {
            "marker": {
             "colorbar": {
              "outlinewidth": 0,
              "ticks": ""
             }
            },
            "type": "histogram"
           }
          ],
          "histogram2d": [
           {
            "colorbar": {
             "outlinewidth": 0,
             "ticks": ""
            },
            "colorscale": [
             [
              0,
              "#0d0887"
             ],
             [
              0.1111111111111111,
              "#46039f"
             ],
             [
              0.2222222222222222,
              "#7201a8"
             ],
             [
              0.3333333333333333,
              "#9c179e"
             ],
             [
              0.4444444444444444,
              "#bd3786"
             ],
             [
              0.5555555555555556,
              "#d8576b"
             ],
             [
              0.6666666666666666,
              "#ed7953"
             ],
             [
              0.7777777777777778,
              "#fb9f3a"
             ],
             [
              0.8888888888888888,
              "#fdca26"
             ],
             [
              1,
              "#f0f921"
             ]
            ],
            "type": "histogram2d"
           }
          ],
          "histogram2dcontour": [
           {
            "colorbar": {
             "outlinewidth": 0,
             "ticks": ""
            },
            "colorscale": [
             [
              0,
              "#0d0887"
             ],
             [
              0.1111111111111111,
              "#46039f"
             ],
             [
              0.2222222222222222,
              "#7201a8"
             ],
             [
              0.3333333333333333,
              "#9c179e"
             ],
             [
              0.4444444444444444,
              "#bd3786"
             ],
             [
              0.5555555555555556,
              "#d8576b"
             ],
             [
              0.6666666666666666,
              "#ed7953"
             ],
             [
              0.7777777777777778,
              "#fb9f3a"
             ],
             [
              0.8888888888888888,
              "#fdca26"
             ],
             [
              1,
              "#f0f921"
             ]
            ],
            "type": "histogram2dcontour"
           }
          ],
          "mesh3d": [
           {
            "colorbar": {
             "outlinewidth": 0,
             "ticks": ""
            },
            "type": "mesh3d"
           }
          ],
          "parcoords": [
           {
            "line": {
             "colorbar": {
              "outlinewidth": 0,
              "ticks": ""
             }
            },
            "type": "parcoords"
           }
          ],
          "pie": [
           {
            "automargin": true,
            "type": "pie"
           }
          ],
          "scatter": [
           {
            "marker": {
             "colorbar": {
              "outlinewidth": 0,
              "ticks": ""
             }
            },
            "type": "scatter"
           }
          ],
          "scatter3d": [
           {
            "line": {
             "colorbar": {
              "outlinewidth": 0,
              "ticks": ""
             }
            },
            "marker": {
             "colorbar": {
              "outlinewidth": 0,
              "ticks": ""
             }
            },
            "type": "scatter3d"
           }
          ],
          "scattercarpet": [
           {
            "marker": {
             "colorbar": {
              "outlinewidth": 0,
              "ticks": ""
             }
            },
            "type": "scattercarpet"
           }
          ],
          "scattergeo": [
           {
            "marker": {
             "colorbar": {
              "outlinewidth": 0,
              "ticks": ""
             }
            },
            "type": "scattergeo"
           }
          ],
          "scattergl": [
           {
            "marker": {
             "colorbar": {
              "outlinewidth": 0,
              "ticks": ""
             }
            },
            "type": "scattergl"
           }
          ],
          "scattermapbox": [
           {
            "marker": {
             "colorbar": {
              "outlinewidth": 0,
              "ticks": ""
             }
            },
            "type": "scattermapbox"
           }
          ],
          "scatterpolar": [
           {
            "marker": {
             "colorbar": {
              "outlinewidth": 0,
              "ticks": ""
             }
            },
            "type": "scatterpolar"
           }
          ],
          "scatterpolargl": [
           {
            "marker": {
             "colorbar": {
              "outlinewidth": 0,
              "ticks": ""
             }
            },
            "type": "scatterpolargl"
           }
          ],
          "scatterternary": [
           {
            "marker": {
             "colorbar": {
              "outlinewidth": 0,
              "ticks": ""
             }
            },
            "type": "scatterternary"
           }
          ],
          "surface": [
           {
            "colorbar": {
             "outlinewidth": 0,
             "ticks": ""
            },
            "colorscale": [
             [
              0,
              "#0d0887"
             ],
             [
              0.1111111111111111,
              "#46039f"
             ],
             [
              0.2222222222222222,
              "#7201a8"
             ],
             [
              0.3333333333333333,
              "#9c179e"
             ],
             [
              0.4444444444444444,
              "#bd3786"
             ],
             [
              0.5555555555555556,
              "#d8576b"
             ],
             [
              0.6666666666666666,
              "#ed7953"
             ],
             [
              0.7777777777777778,
              "#fb9f3a"
             ],
             [
              0.8888888888888888,
              "#fdca26"
             ],
             [
              1,
              "#f0f921"
             ]
            ],
            "type": "surface"
           }
          ],
          "table": [
           {
            "cells": {
             "fill": {
              "color": "#EBF0F8"
             },
             "line": {
              "color": "white"
             }
            },
            "header": {
             "fill": {
              "color": "#C8D4E3"
             },
             "line": {
              "color": "white"
             }
            },
            "type": "table"
           }
          ]
         },
         "layout": {
          "annotationdefaults": {
           "arrowcolor": "#2a3f5f",
           "arrowhead": 0,
           "arrowwidth": 1
          },
          "autotypenumbers": "strict",
          "coloraxis": {
           "colorbar": {
            "outlinewidth": 0,
            "ticks": ""
           }
          },
          "colorscale": {
           "diverging": [
            [
             0,
             "#8e0152"
            ],
            [
             0.1,
             "#c51b7d"
            ],
            [
             0.2,
             "#de77ae"
            ],
            [
             0.3,
             "#f1b6da"
            ],
            [
             0.4,
             "#fde0ef"
            ],
            [
             0.5,
             "#f7f7f7"
            ],
            [
             0.6,
             "#e6f5d0"
            ],
            [
             0.7,
             "#b8e186"
            ],
            [
             0.8,
             "#7fbc41"
            ],
            [
             0.9,
             "#4d9221"
            ],
            [
             1,
             "#276419"
            ]
           ],
           "sequential": [
            [
             0,
             "#0d0887"
            ],
            [
             0.1111111111111111,
             "#46039f"
            ],
            [
             0.2222222222222222,
             "#7201a8"
            ],
            [
             0.3333333333333333,
             "#9c179e"
            ],
            [
             0.4444444444444444,
             "#bd3786"
            ],
            [
             0.5555555555555556,
             "#d8576b"
            ],
            [
             0.6666666666666666,
             "#ed7953"
            ],
            [
             0.7777777777777778,
             "#fb9f3a"
            ],
            [
             0.8888888888888888,
             "#fdca26"
            ],
            [
             1,
             "#f0f921"
            ]
           ],
           "sequentialminus": [
            [
             0,
             "#0d0887"
            ],
            [
             0.1111111111111111,
             "#46039f"
            ],
            [
             0.2222222222222222,
             "#7201a8"
            ],
            [
             0.3333333333333333,
             "#9c179e"
            ],
            [
             0.4444444444444444,
             "#bd3786"
            ],
            [
             0.5555555555555556,
             "#d8576b"
            ],
            [
             0.6666666666666666,
             "#ed7953"
            ],
            [
             0.7777777777777778,
             "#fb9f3a"
            ],
            [
             0.8888888888888888,
             "#fdca26"
            ],
            [
             1,
             "#f0f921"
            ]
           ]
          },
          "colorway": [
           "#636efa",
           "#EF553B",
           "#00cc96",
           "#ab63fa",
           "#FFA15A",
           "#19d3f3",
           "#FF6692",
           "#B6E880",
           "#FF97FF",
           "#FECB52"
          ],
          "font": {
           "color": "#2a3f5f"
          },
          "geo": {
           "bgcolor": "white",
           "lakecolor": "white",
           "landcolor": "#E5ECF6",
           "showlakes": true,
           "showland": true,
           "subunitcolor": "white"
          },
          "hoverlabel": {
           "align": "left"
          },
          "hovermode": "closest",
          "mapbox": {
           "style": "light"
          },
          "paper_bgcolor": "white",
          "plot_bgcolor": "#E5ECF6",
          "polar": {
           "angularaxis": {
            "gridcolor": "white",
            "linecolor": "white",
            "ticks": ""
           },
           "bgcolor": "#E5ECF6",
           "radialaxis": {
            "gridcolor": "white",
            "linecolor": "white",
            "ticks": ""
           }
          },
          "scene": {
           "xaxis": {
            "backgroundcolor": "#E5ECF6",
            "gridcolor": "white",
            "gridwidth": 2,
            "linecolor": "white",
            "showbackground": true,
            "ticks": "",
            "zerolinecolor": "white"
           },
           "yaxis": {
            "backgroundcolor": "#E5ECF6",
            "gridcolor": "white",
            "gridwidth": 2,
            "linecolor": "white",
            "showbackground": true,
            "ticks": "",
            "zerolinecolor": "white"
           },
           "zaxis": {
            "backgroundcolor": "#E5ECF6",
            "gridcolor": "white",
            "gridwidth": 2,
            "linecolor": "white",
            "showbackground": true,
            "ticks": "",
            "zerolinecolor": "white"
           }
          },
          "shapedefaults": {
           "line": {
            "color": "#2a3f5f"
           }
          },
          "ternary": {
           "aaxis": {
            "gridcolor": "white",
            "linecolor": "white",
            "ticks": ""
           },
           "baxis": {
            "gridcolor": "white",
            "linecolor": "white",
            "ticks": ""
           },
           "bgcolor": "#E5ECF6",
           "caxis": {
            "gridcolor": "white",
            "linecolor": "white",
            "ticks": ""
           }
          },
          "title": {
           "x": 0.05
          },
          "xaxis": {
           "automargin": true,
           "gridcolor": "white",
           "linecolor": "white",
           "ticks": "",
           "title": {
            "standoff": 15
           },
           "zerolinecolor": "white",
           "zerolinewidth": 2
          },
          "yaxis": {
           "automargin": true,
           "gridcolor": "white",
           "linecolor": "white",
           "ticks": "",
           "title": {
            "standoff": 15
           },
           "zerolinecolor": "white",
           "zerolinewidth": 2
          }
         }
        },
        "title": {
         "text": "Comparison of the top 10 Countries (deaths vs deaths per population)"
        },
        "xaxis": {
         "anchor": "y",
         "domain": [
          0,
          0.42
         ],
         "showgrid": true,
         "showline": false,
         "showticklabels": true,
         "zeroline": false
        },
        "xaxis2": {
         "anchor": "y2",
         "domain": [
          0.47,
          1
         ],
         "showgrid": true,
         "showline": false,
         "showticklabels": true,
         "zeroline": false
        },
        "yaxis": {
         "anchor": "x",
         "domain": [
          0,
          0.85
         ],
         "showgrid": false,
         "showline": false,
         "showticklabels": true
        },
        "yaxis2": {
         "anchor": "x2",
         "domain": [
          0,
          0.85
         ],
         "showgrid": false,
         "showline": true,
         "showticklabels": false
        }
       }
      }
     },
     "metadata": {}
    }
   ],
   "source": [
    "import plotly.graph_objects as go\n",
    "from plotly.subplots import make_subplots\n",
    "\n",
    "import numpy as np\n",
    "\n",
    "# Creating two subplots\n",
    "fig = make_subplots(rows=1, cols=2, specs=[[{}, {}]], shared_xaxes=True,\n",
    "                    shared_yaxes=False, vertical_spacing=0.001)\n",
    "\n",
    "fig.append_trace(go.Bar(\n",
    "    x=moreDeaths[\"percentage_deaths\"][0:10],\n",
    "    y=moreDeaths[\"location\"][0:10],\n",
    "    marker=dict(\n",
    "        color='rgba(50, 171, 96, 0.6)',\n",
    "        line=dict(\n",
    "            color='rgba(50, 171, 96, 1.0)',\n",
    "            width=1),\n",
    "    ),\n",
    "    name='Percentage of total deaths',\n",
    "    orientation='h',\n",
    "), 1, 1)\n",
    "\n",
    "fig.append_trace(go.Bar(\n",
    "    x=moreDeaths[\"deaths_population\"][0:10],\n",
    "    y=moreDeaths[\"location\"][0:10],\n",
    "    marker=dict(\n",
    "        color='rgba(41, 0, 64, 0.6)',\n",
    "        line=dict(\n",
    "            color='rgba(41, 0, 64, 1.0)',\n",
    "            width=1),\n",
    "    ),\n",
    "    name='Percentage of deaths per population',\n",
    "    orientation='h',\n",
    "), 1, 2)\n",
    "\n",
    "fig.update_layout(\n",
    "    title='Comparison of the top 10 Countries (deaths vs deaths per population)',\n",
    "    yaxis=dict(\n",
    "        showgrid=False,\n",
    "        showline=False,\n",
    "        showticklabels=True,\n",
    "        domain=[0, 0.85],\n",
    "    ),\n",
    "    yaxis2=dict(\n",
    "        showgrid=False,\n",
    "        showline=True,\n",
    "        showticklabels=False,\n",
    "        domain=[0, 0.85],\n",
    "    ),\n",
    "    xaxis=dict(\n",
    "        zeroline=False,\n",
    "        showline=False,\n",
    "        showticklabels=True,\n",
    "        showgrid=True,\n",
    "        domain=[0, 0.42],\n",
    "    ),\n",
    "    xaxis2=dict(\n",
    "        zeroline=False,\n",
    "        showline=False,\n",
    "        showticklabels=True,\n",
    "        showgrid=True,\n",
    "        domain=[0.47, 1],\n",
    "    ),\n",
    "\n",
    "    legend=dict(x=0.029, y=1.038, font_size=10),\n",
    "    margin=dict(l=100, r=20, t=70, b=70),\n",
    "    paper_bgcolor='rgb(248, 248, 255)',\n",
    "    plot_bgcolor='rgb(248, 248, 255)',\n",
    ")\n",
    "\n",
    "fig.show()"
   ]
  },
  {
   "cell_type": "code",
   "execution_count": null,
   "metadata": {},
   "outputs": [],
   "source": [
    "annotations = []\n",
    "\n",
    "y_s = np.round(y_saving, decimals=2)\n",
    "y_nw = np.rint(y_net_worth)\n",
    "\n",
    "# Adding labels\n",
    "for ydn, yd, xd in zip(y_nw, y_s, x):\n",
    "    # labeling the scatter savings\n",
    "    annotations.append(dict(xref='x2', yref='y2',\n",
    "                            y=xd, x=ydn - 20000,\n",
    "                            text='{:,}'.format(ydn) + 'M',\n",
    "                            font=dict(family='Arial', size=12,\n",
    "                                      color='rgb(128, 0, 128)'),\n",
    "                            showarrow=False))\n",
    "    # labeling the bar net worth\n",
    "    annotations.append(dict(xref='x1', yref='y1',\n",
    "                            y=xd, x=yd + 3,\n",
    "                            text=str(yd) + '%',\n",
    "                            font=dict(family='Arial', size=12,\n",
    "                                      color='rgb(50, 171, 96)'),\n",
    "                            showarrow=False))\n",
    "# Source\n",
    "annotations.append(dict(xref='paper', yref='paper',\n",
    "                        x=-0.2, y=-0.109,\n",
    "                        text='OECD \"' +\n",
    "                             '(2015), Household savings (indicator), ' +\n",
    "                             'Household net worth (indicator). doi: ' +\n",
    "                             '10.1787/cfc6f499-en (Accessed on 05 June 2015)',\n",
    "                        font=dict(family='Arial', size=10, color='rgb(150,150,150)'),\n",
    "                        showarrow=False))\n",
    "\n",
    "fig.update_layout(annotations=annotations)"
   ]
  }
 ]
}